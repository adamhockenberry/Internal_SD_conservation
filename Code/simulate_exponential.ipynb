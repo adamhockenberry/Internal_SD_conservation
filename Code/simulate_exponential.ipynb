{
 "cells": [
  {
   "cell_type": "code",
   "execution_count": 1,
   "metadata": {
    "collapsed": true
   },
   "outputs": [],
   "source": [
    "%matplotlib inline"
   ]
  },
  {
   "cell_type": "code",
   "execution_count": 17,
   "metadata": {
    "collapsed": true
   },
   "outputs": [],
   "source": [
    "import numpy as np\n",
    "from matplotlib import pyplot as plt\n",
    "from scipy import stats"
   ]
  },
  {
   "cell_type": "code",
   "execution_count": 11,
   "metadata": {
    "collapsed": true
   },
   "outputs": [],
   "source": [
    "exp_array1 = np.random.exponential(size=1000)\n",
    "exp_array2 = np.random.exponential(size=100)"
   ]
  },
  {
   "cell_type": "code",
   "execution_count": 12,
   "metadata": {
    "collapsed": false
   },
   "outputs": [
    {
     "data": {
      "text/plain": [
       "(array([ 24.,  11.,  12.,   9.,   7.,   9.,   6.,   3.,   0.,   3.,   1.,\n",
       "          2.,   4.,   0.,   3.,   3.,   1.,   0.,   0.,   2.]),\n",
       " array([ 0.04016003,  0.2328969 ,  0.42563377,  0.61837064,  0.81110752,\n",
       "         1.00384439,  1.19658126,  1.38931813,  1.582055  ,  1.77479187,\n",
       "         1.96752874,  2.16026561,  2.35300248,  2.54573935,  2.73847623,\n",
       "         2.9312131 ,  3.12394997,  3.31668684,  3.50942371,  3.70216058,\n",
       "         3.89489745]),\n",
       " <a list of 20 Patch objects>)"
      ]
     },
     "execution_count": 12,
     "metadata": {},
     "output_type": "execute_result"
    },
    {
     "data": {
      "image/png": "[encoded data removed]",
      "text/plain": [
       "<matplotlib.figure.Figure at 0x105effb38>"
      ]
     },
     "metadata": {},
     "output_type": "display_data"
    }
   ],
   "source": [
    "plt.figure()\n",
    "plt.hist(exp_array2, 20)"
   ]
  },
  {
   "cell_type": "code",
   "execution_count": 32,
   "metadata": {
    "collapsed": false
   },
   "outputs": [],
   "source": [
    "test = []\n",
    "null = []\n",
    "for i in exp_array2:\n",
    "#     null.append(np.random.choice(exp_array1))\n",
    "    null.append(np.median(exp_array1))\n",
    "    test.append(i)"
   ]
  },
  {
   "cell_type": "code",
   "execution_count": 33,
   "metadata": {
    "collapsed": false
   },
   "outputs": [
    {
     "name": "stdout",
     "output_type": "stream",
     "text": [
      "100 100\n",
      "0.983183941331 0.703353807842\n",
      "WilcoxonResult(statistic=2141.0, pvalue=0.18672928883396445)\n"
     ]
    }
   ],
   "source": [
    "print(len(test), len(null))\n",
    "print(np.mean(test), np.mean(null))\n",
    "print(stats.wilcoxon(test, null))"
   ]
  },
  {
   "cell_type": "markdown",
   "metadata": {},
   "source": [
    "# Rinse and repeat to check out p-val distributions"
   ]
  },
  {
   "cell_type": "code",
   "execution_count": 93,
   "metadata": {
    "collapsed": false
   },
   "outputs": [
    {
     "data": {
      "text/plain": [
       "<matplotlib.lines.Line2D at 0x10d4537f0>"
      ]
     },
     "execution_count": 93,
     "metadata": {},
     "output_type": "execute_result"
    },
    {
     "data": {
      "image/png": "[encoded data removed]",
      "text/plain": [
       "<matplotlib.figure.Figure at 0x10d5cc9e8>"
      ]
     },
     "metadata": {},
     "output_type": "display_data"
    },
    {
     "data": {
      "image/png": "[encoded data removed]",
      "text/plain": [
       "<matplotlib.figure.Figure at 0x10ab34048>"
      ]
     },
     "metadata": {},
     "output_type": "display_data"
    }
   ],
   "source": [
    "pvals = []\n",
    "deltas = []\n",
    "for i in range(2000):\n",
    "    test_array = np.random.exponential(size=100)\n",
    "    test = []\n",
    "    null = []\n",
    "    for j in test_array:\n",
    "        null_array = np.random.exponential(size=100)\n",
    "        test.append(j)\n",
    "        null.append(np.random.choice(null_array))\n",
    "    a, b = stats.wilcoxon(test, null)\n",
    "    pvals.append(b)\n",
    "    deltas.append(np.mean(np.array(test)-np.array(null)))\n",
    "    \n",
    "plt.figure()\n",
    "plt.hist(pvals, 20);\n",
    "plt.figure()\n",
    "plt.hist(deltas, 20);\n",
    "plt.axvline(np.mean(deltas), c='r')"
   ]
  },
  {
   "cell_type": "code",
   "execution_count": 111,
   "metadata": {
    "collapsed": false
   },
   "outputs": [
    {
     "data": {
      "text/plain": [
       "<matplotlib.lines.Line2D at 0x10e1beeb8>"
      ]
     },
     "execution_count": 111,
     "metadata": {},
     "output_type": "execute_result"
    },
    {
     "data": {
      "image/png": "[encoded data removed]",
      "text/plain": [
       "<matplotlib.figure.Figure at 0x10ddb8f98>"
      ]
     },
     "metadata": {},
     "output_type": "display_data"
    },
    {
     "data": {
      "image/png": "[encoded data removed]",
      "text/plain": [
       "<matplotlib.figure.Figure at 0x10d493438>"
      ]
     },
     "metadata": {},
     "output_type": "display_data"
    }
   ],
   "source": [
    "pvals = []\n",
    "deltas = []\n",
    "for i in range(2000):\n",
    "    test_array = np.random.exponential(size=100)\n",
    "    test = []\n",
    "    null = []\n",
    "    for j in test_array:\n",
    "        null_array = np.random.exponential(size=10)\n",
    "        test.append(j)\n",
    "        null.append(np.mean(null_array))\n",
    "    a, b = stats.wilcoxon(test, null)\n",
    "    pvals.append(b)\n",
    "    deltas.append(np.mean(np.array(test)-np.array(null)))\n",
    "\n",
    "plt.figure()\n",
    "plt.hist(pvals, 20);\n",
    "\n",
    "plt.figure()\n",
    "plt.hist(deltas, 20);\n",
    "plt.axvline(np.mean(deltas), c='r')"
   ]
  },
  {
   "cell_type": "code",
   "execution_count": 112,
   "metadata": {
    "collapsed": false
   },
   "outputs": [
    {
     "data": {
      "text/plain": [
       "<matplotlib.lines.Line2D at 0x10e3dc9b0>"
      ]
     },
     "execution_count": 112,
     "metadata": {},
     "output_type": "execute_result"
    },
    {
     "data": {
      "image/png": "[encoded data removed]",
      "text/plain": [
       "<matplotlib.figure.Figure at 0x10ddafb00>"
      ]
     },
     "metadata": {},
     "output_type": "display_data"
    },
    {
     "data": {
      "image/png": "[encoded data removed]",
      "text/plain": [
       "<matplotlib.figure.Figure at 0x10e261198>"
      ]
     },
     "metadata": {},
     "output_type": "display_data"
    }
   ],
   "source": [
    "pvals = []\n",
    "deltas = []\n",
    "for i in range(2000):\n",
    "    test_array = np.random.exponential(size=100)\n",
    "    test = []\n",
    "    null = []\n",
    "    for j in test_array:\n",
    "        null_array = np.random.exponential(size=10)\n",
    "        test.append(j)\n",
    "        null.append(np.median(null_array))\n",
    "    a, b = stats.wilcoxon(test, null)\n",
    "    pvals.append(b)\n",
    "    deltas.append(np.mean(np.array(test)-np.array(null)))\n",
    "\n",
    "\n",
    "plt.figure()\n",
    "plt.hist(pvals, 20);\n",
    "\n",
    "plt.figure()\n",
    "plt.hist(deltas, 20);\n",
    "plt.axvline(np.mean(deltas), c='r')"
   ]
  },
  {
   "cell_type": "code",
   "execution_count": null,
   "metadata": {
    "collapsed": true
   },
   "outputs": [],
   "source": []
  },
  {
   "cell_type": "code",
   "execution_count": null,
   "metadata": {
    "collapsed": true
   },
   "outputs": [],
   "source": []
  },
  {
   "cell_type": "code",
   "execution_count": null,
   "metadata": {
    "collapsed": true
   },
   "outputs": [],
   "source": []
  },
  {
   "cell_type": "code",
   "execution_count": null,
   "metadata": {
    "collapsed": true
   },
   "outputs": [],
   "source": []
  },
  {
   "cell_type": "code",
   "execution_count": 109,
   "metadata": {
    "collapsed": true
   },
   "outputs": [],
   "source": [
    "test_array = np.random.exponential(size=100)\n",
    "test = []\n",
    "null_dict = {}\n",
    "for j in test_array:\n",
    "    test.append(j)\n",
    "    null_array = np.random.exponential(size=10)\n",
    "    for k in range(1000):\n",
    "        try:\n",
    "            null_dict[k].append(np.random.choice(null_array))\n",
    "        except KeyError:\n",
    "            null_dict[k] = [np.random.choice(null_array)]"
   ]
  },
  {
   "cell_type": "code",
   "execution_count": 110,
   "metadata": {
    "collapsed": false
   },
   "outputs": [
    {
     "data": {
      "image/png": "[encoded data removed]",
      "text/plain": [
       "<matplotlib.figure.Figure at 0x10daa4470>"
      ]
     },
     "metadata": {},
     "output_type": "display_data"
    }
   ],
   "source": [
    "pvals = []\n",
    "for key in null_dict.keys():\n",
    "    stat, p = stats.wilcoxon(test, null_dict[key])\n",
    "    pvals.append(p)\n",
    "plt.figure()\n",
    "plt.hist(pvals, 20);"
   ]
  },
  {
   "cell_type": "code",
   "execution_count": null,
   "metadata": {
    "collapsed": true
   },
   "outputs": [],
   "source": []
  },
  {
   "cell_type": "code",
   "execution_count": 96,
   "metadata": {
    "collapsed": true
   },
   "outputs": [],
   "source": [
    "def permutation_test(list1, list2):\n",
    "    actual = np.mean(list1)/np.mean(list2)\n",
    "    expected = []\n",
    "    for i in range(1000):\n",
    "        combined = np.array(list1+list2)\n",
    "        np.random.shuffle(combined)\n",
    "        temp1 = combined[:len(list1)]\n",
    "        temp2 = combined[len(list1):]\n",
    "        expected.append(np.mean(temp1)/np.mean(temp2))\n",
    "    return actual, expected"
   ]
  },
  {
   "cell_type": "code",
   "execution_count": 100,
   "metadata": {
    "collapsed": false
   },
   "outputs": [
    {
     "name": "stdout",
     "output_type": "stream",
     "text": [
      "0\n",
      "1\n",
      "2\n",
      "3\n",
      "4\n",
      "5\n",
      "6\n",
      "7\n",
      "8\n",
      "9\n",
      "10\n",
      "11\n",
      "12\n",
      "13\n",
      "14\n",
      "15\n",
      "16\n",
      "17\n",
      "18\n",
      "19\n",
      "20\n",
      "21\n",
      "22\n",
      "23\n",
      "24\n",
      "25\n",
      "26\n",
      "27\n",
      "28\n",
      "29\n",
      "30\n",
      "31\n",
      "32\n",
      "33\n",
      "34\n",
      "35\n",
      "36\n",
      "37\n",
      "38\n",
      "39\n",
      "40\n",
      "41\n",
      "42\n",
      "43\n",
      "44\n",
      "45\n",
      "46\n",
      "47\n",
      "48\n",
      "49\n",
      "50\n",
      "51\n",
      "52\n",
      "53\n",
      "54\n",
      "55\n",
      "56\n",
      "57\n",
      "58\n",
      "59\n",
      "60\n",
      "61\n",
      "62\n",
      "63\n",
      "64\n",
      "65\n",
      "66\n",
      "67\n",
      "68\n",
      "69\n",
      "70\n",
      "71\n",
      "72\n",
      "73\n",
      "74\n",
      "75\n",
      "76\n",
      "77\n",
      "78\n",
      "79\n",
      "80\n",
      "81\n",
      "82\n",
      "83\n",
      "84\n",
      "85\n",
      "86\n",
      "87\n",
      "88\n",
      "89\n",
      "90\n",
      "91\n",
      "92\n",
      "93\n",
      "94\n",
      "95\n",
      "96\n",
      "97\n",
      "98\n",
      "99\n",
      "100\n",
      "101\n",
      "102\n",
      "103\n",
      "104\n",
      "105\n",
      "106\n",
      "107\n",
      "108\n",
      "109\n",
      "110\n",
      "111\n",
      "112\n",
      "113\n",
      "114\n",
      "115\n",
      "116\n",
      "117\n",
      "118\n",
      "119\n",
      "120\n",
      "121\n",
      "122\n",
      "123\n",
      "124\n",
      "125\n",
      "126\n",
      "127\n",
      "128\n",
      "129\n",
      "130\n",
      "131\n",
      "132\n",
      "133\n",
      "134\n",
      "135\n",
      "136\n",
      "137\n",
      "138\n",
      "139\n",
      "140\n",
      "141\n",
      "142\n",
      "143\n",
      "144\n",
      "145\n",
      "146\n",
      "147\n",
      "148\n",
      "149\n",
      "150\n",
      "151\n",
      "152\n",
      "153\n",
      "154\n",
      "155\n",
      "156\n",
      "157\n",
      "158\n",
      "159\n",
      "160\n",
      "161\n",
      "162\n",
      "163\n",
      "164\n",
      "165\n",
      "166\n",
      "167\n",
      "168\n",
      "169\n",
      "170\n",
      "171\n",
      "172\n",
      "173\n",
      "174\n",
      "175\n",
      "176\n",
      "177\n",
      "178\n",
      "179\n",
      "180\n",
      "181\n",
      "182\n",
      "183\n",
      "184\n",
      "185\n",
      "186\n",
      "187\n",
      "188\n",
      "189\n",
      "190\n",
      "191\n",
      "192\n",
      "193\n",
      "194\n",
      "195\n",
      "196\n",
      "197\n",
      "198\n",
      "199\n"
     ]
    },
    {
     "data": {
      "text/plain": [
       "<matplotlib.lines.Line2D at 0x10a4dd6d8>"
      ]
     },
     "execution_count": 100,
     "metadata": {},
     "output_type": "execute_result"
    },
    {
     "data": {
      "image/png": "[encoded data removed]",
      "text/plain": [
       "<matplotlib.figure.Figure at 0x10da71320>"
      ]
     },
     "metadata": {},
     "output_type": "display_data"
    },
    {
     "data": {
      "image/png": "[encoded data removed]",
      "text/plain": [
       "<matplotlib.figure.Figure at 0x10d444048>"
      ]
     },
     "metadata": {},
     "output_type": "display_data"
    }
   ],
   "source": [
    "pvals = []\n",
    "deltas = []\n",
    "for i in range(200):\n",
    "    print(i)\n",
    "    test_array = np.random.exponential(size=100)\n",
    "    test = []\n",
    "    null = []\n",
    "    for j in test_array:\n",
    "        null_array = np.random.exponential(size=100)\n",
    "        test.append(j)\n",
    "        null.append(np.random.choice(null_array))\n",
    "    actual, expected = permutation_test(test, null)\n",
    "    pvals.append(len([rando for rando in expected if rando > actual])/1000)\n",
    "    deltas.append(np.mean(np.array(test)-np.array(null)))\n",
    "\n",
    "plt.figure()\n",
    "plt.hist(pvals, 20);\n",
    "\n",
    "plt.figure()\n",
    "plt.hist(deltas, 20);\n",
    "plt.axvline(np.mean(deltas), c='r')"
   ]
  },
  {
   "cell_type": "code",
   "execution_count": null,
   "metadata": {
    "collapsed": true
   },
   "outputs": [],
   "source": []
  }
 ],
 "metadata": {
  "kernelspec": {
   "display_name": "Python 3",
   "language": "python",
   "name": "python3"
  },
  "language_info": {
   "codemirror_mode": {
    "name": "ipython",
    "version": 3
   },
   "file_extension": ".py",
   "mimetype": "text/x-python",
   "name": "python",
   "nbconvert_exporter": "python",
   "pygments_lexer": "ipython3",
   "version": "3.4.4"
  },
  "toc": {
   "colors": {
    "hover_highlight": "#DAA520",
    "navigate_num": "#000000",
    "navigate_text": "#333333",
    "running_highlight": "#FF0000",
    "selected_highlight": "#FFD700",
    "sidebar_border": "#EEEEEE",
    "wrapper_background": "#FFFFFF"
   },
   "moveMenuLeft": true,
   "nav_menu": {
    "height": "30px",
    "width": "252px"
   },
   "navigate_menu": true,
   "number_sections": true,
   "sideBar": true,
   "threshold": 4,
   "toc_cell": false,
   "toc_section_display": "block",
   "toc_window_display": false,
   "widenNotebook": false
  }
 },
 "nbformat": 4,
 "nbformat_minor": 0
}
