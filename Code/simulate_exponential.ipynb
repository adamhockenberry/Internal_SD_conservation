{
 "cells": [
  {
   "cell_type": "code",
   "execution_count": 1,
   "metadata": {
    "collapsed": true
   },
   "outputs": [],
   "source": [
    "%matplotlib inline"
   ]
  },
  {
   "cell_type": "code",
   "execution_count": null,
   "metadata": {
    "collapsed": true
   },
   "outputs": [],
   "source": [
    "import numpy as np\n",
    "from matplotlib import pyplot as plt\n",
    "from scipy import stats\n",
    "import random"
   ]
  },
  {
   "cell_type": "code",
   "execution_count": null,
   "metadata": {
    "collapsed": true
   },
   "outputs": [],
   "source": [
    "exp_array1 = np.random.exponential(size=1000)\n",
    "exp_array2 = np.random.exponential(size=100)"
   ]
  },
  {
   "cell_type": "code",
   "execution_count": null,
   "metadata": {
    "collapsed": false
   },
   "outputs": [],
   "source": [
    "plt.figure()\n",
    "plt.hist(exp_array2, 20)"
   ]
  },
  {
   "cell_type": "code",
   "execution_count": null,
   "metadata": {
    "collapsed": false
   },
   "outputs": [],
   "source": [
    "test = []\n",
    "null = []\n",
    "for i in exp_array2:\n",
    "#     null.append(np.random.choice(exp_array1))\n",
    "    null.append(np.median(exp_array1))\n",
    "    test.append(i)"
   ]
  },
  {
   "cell_type": "code",
   "execution_count": null,
   "metadata": {
    "collapsed": false
   },
   "outputs": [],
   "source": [
    "print(len(test), len(null))\n",
    "print(np.mean(test), np.mean(null))\n",
    "print(stats.wilcoxon(test, null))"
   ]
  },
  {
   "cell_type": "markdown",
   "metadata": {},
   "source": [
    "# Rinse and repeat to check out p-val distributions"
   ]
  },
  {
   "cell_type": "code",
   "execution_count": null,
   "metadata": {
    "collapsed": false
   },
   "outputs": [],
   "source": [
    "pvals = []\n",
    "deltas = []\n",
    "for i in range(2000):\n",
    "    test_array = np.random.exponential(size=100)\n",
    "    test = []\n",
    "    null = []\n",
    "    for j in test_array:\n",
    "        null_array = np.random.exponential(size=100)\n",
    "        test.append(j)\n",
    "        null.append(np.random.choice(null_array))\n",
    "    a, b = stats.wilcoxon(test, null)\n",
    "    pvals.append(b)\n",
    "    deltas.append(np.mean(np.array(test)-np.array(null)))\n",
    "    \n",
    "plt.figure()\n",
    "plt.hist(pvals, 20);\n",
    "plt.figure()\n",
    "plt.hist(deltas, 20);\n",
    "plt.axvline(np.mean(deltas), c='r')"
   ]
  },
  {
   "cell_type": "code",
   "execution_count": null,
   "metadata": {
    "collapsed": false
   },
   "outputs": [],
   "source": [
    "pvals = []\n",
    "deltas = []\n",
    "for i in range(2000):\n",
    "    test_array = np.random.exponential(size=100)\n",
    "    test = []\n",
    "    null = []\n",
    "    for j in test_array:\n",
    "        null_array = np.random.exponential(size=10)\n",
    "        test.append(j)\n",
    "        null.append(np.mean(null_array))\n",
    "    a, b = stats.wilcoxon(test, null)\n",
    "    pvals.append(b)\n",
    "    deltas.append(np.mean(np.array(test)-np.array(null)))\n",
    "\n",
    "plt.figure()\n",
    "plt.hist(pvals, 20);\n",
    "\n",
    "plt.figure()\n",
    "plt.hist(deltas, 20);\n",
    "plt.axvline(np.mean(deltas), c='r')"
   ]
  },
  {
   "cell_type": "code",
   "execution_count": null,
   "metadata": {
    "collapsed": false
   },
   "outputs": [],
   "source": [
    "pvals = []\n",
    "deltas = []\n",
    "for i in range(2000):\n",
    "    test_array = np.random.exponential(size=100)\n",
    "    test = []\n",
    "    null = []\n",
    "    for j in test_array:\n",
    "        null_array = np.random.exponential(size=10)\n",
    "        test.append(j)\n",
    "        null.append(np.median(null_array))\n",
    "    a, b = stats.wilcoxon(test, null)\n",
    "    pvals.append(b)\n",
    "    deltas.append(np.mean(np.array(test)-np.array(null)))\n",
    "\n",
    "\n",
    "plt.figure()\n",
    "plt.hist(pvals, 20);\n",
    "\n",
    "plt.figure()\n",
    "plt.hist(deltas, 20);\n",
    "plt.axvline(np.mean(deltas), c='r')"
   ]
  },
  {
   "cell_type": "code",
   "execution_count": null,
   "metadata": {
    "collapsed": true
   },
   "outputs": [],
   "source": []
  },
  {
   "cell_type": "code",
   "execution_count": null,
   "metadata": {
    "collapsed": true
   },
   "outputs": [],
   "source": []
  },
  {
   "cell_type": "code",
   "execution_count": null,
   "metadata": {
    "collapsed": true
   },
   "outputs": [],
   "source": []
  },
  {
   "cell_type": "code",
   "execution_count": null,
   "metadata": {
    "collapsed": true
   },
   "outputs": [],
   "source": []
  },
  {
   "cell_type": "code",
   "execution_count": null,
   "metadata": {
    "collapsed": true
   },
   "outputs": [],
   "source": [
    "test_array = np.random.exponential(size=100)\n",
    "test = []\n",
    "null_dict = {}\n",
    "for j in test_array:\n",
    "    test.append(j)\n",
    "    null_array = np.random.exponential(size=10)\n",
    "    for k in range(1000):\n",
    "        try:\n",
    "            null_dict[k].append(np.random.choice(null_array))\n",
    "        except KeyError:\n",
    "            null_dict[k] = [np.random.choice(null_array)]"
   ]
  },
  {
   "cell_type": "code",
   "execution_count": null,
   "metadata": {
    "collapsed": false
   },
   "outputs": [],
   "source": [
    "pvals = []\n",
    "for key in null_dict.keys():\n",
    "    stat, p = stats.wilcoxon(test, null_dict[key])\n",
    "    pvals.append(p)\n",
    "plt.figure()\n",
    "plt.hist(pvals, 20);"
   ]
  },
  {
   "cell_type": "code",
   "execution_count": null,
   "metadata": {
    "collapsed": true
   },
   "outputs": [],
   "source": []
  },
  {
   "cell_type": "code",
   "execution_count": null,
   "metadata": {
    "collapsed": true
   },
   "outputs": [],
   "source": [
    "def permutation_test(list1, list2):\n",
    "    actual = np.mean(list1)/np.mean(list2)\n",
    "    expected = []\n",
    "    for i in range(1000):\n",
    "        combined = np.array(list1+list2)\n",
    "        np.random.shuffle(combined)\n",
    "        temp1 = combined[:len(list1)]\n",
    "        temp2 = combined[len(list1):]\n",
    "        expected.append(np.mean(temp1)/np.mean(temp2))\n",
    "    return actual, expected"
   ]
  },
  {
   "cell_type": "code",
   "execution_count": null,
   "metadata": {
    "collapsed": false
   },
   "outputs": [],
   "source": [
    "pvals = []\n",
    "deltas = []\n",
    "for i in range(200):\n",
    "    print(i)\n",
    "    test_array = np.random.exponential(size=100)\n",
    "    test = []\n",
    "    null = []\n",
    "    for j in test_array:\n",
    "        null_array = np.random.exponential(size=100)\n",
    "        test.append(j)\n",
    "        null.append(np.random.choice(null_array))\n",
    "    actual, expected = permutation_test(test, null)\n",
    "    pvals.append(len([rando for rando in expected if rando > actual])/1000)\n",
    "    deltas.append(np.mean(np.array(test)-np.array(null)))\n",
    "\n",
    "plt.figure()\n",
    "plt.hist(pvals, 20);\n",
    "\n",
    "plt.figure()\n",
    "plt.hist(deltas, 20);\n",
    "plt.axvline(np.mean(deltas), c='r')"
   ]
  },
  {
   "cell_type": "code",
   "execution_count": null,
   "metadata": {
    "collapsed": true
   },
   "outputs": [],
   "source": []
  },
  {
   "cell_type": "code",
   "execution_count": null,
   "metadata": {
    "collapsed": false
   },
   "outputs": [],
   "source": [
    "[np.random.exponential(2)] + list(np.random.exponential(2, 3))"
   ]
  },
  {
   "cell_type": "code",
   "execution_count": null,
   "metadata": {
    "collapsed": false
   },
   "outputs": [],
   "source": []
  },
  {
   "cell_type": "code",
   "execution_count": null,
   "metadata": {
    "collapsed": false
   },
   "outputs": [],
   "source": [
    "p_vals_mean = []\n",
    "p_vals_median = []\n",
    "p_vals_max = []\n",
    "\n",
    "\n",
    "#####Have to keep these numbers low because there are a lot of for loops here\n",
    "randomizations = 10 #####This is the number of times I'm repeating the entire analysis\n",
    "sampling_randomizations = 10 ####This is the \"first\" bootstrap number. I.e. how many times to sample category \"a\" and \"b\"\n",
    "second_bootstrap_randomizations = 100 ####This is the number of times I repeat the above sampling using shuffled data as a null\n",
    "\n",
    "for randomization in range(randomizations):\n",
    "    print(randomization)\n",
    "    ##########################\n",
    "    ####First simulate 1000 \"genes\"\n",
    "    values_dictionary = {}\n",
    "    for i in range(1000): \n",
    "        ##########################\n",
    "        ###Each \"gene\" is between 2 and 5 randomly drawn exponential values\n",
    "        values_dictionary[i] = list(np.random.exponential(1, size=int(np.random.uniform(2, 5))))\n",
    "        ###Uncomment below (and comment above) to simulate a positive control \n",
    "#         values_dictionary[i] = [np.random.exponential(1.1)] + list(np.random.exponential(1, size=int(np.random.uniform(2, 5))))\n",
    "    ##########################\n",
    "    ####Normalize each entry\n",
    "    for i,j in values_dictionary.items():\n",
    "        meany = np.mean(j)\n",
    "        values_dictionary[i] = j/meany\n",
    "        \n",
    "        \n",
    "    ##########################\n",
    "    ####Statistical tests\n",
    "    ratios = []\n",
    "    p_vals_wilcoxon = []\n",
    "    for bootstrap_randomization in range(sampling_randomizations):\n",
    "        cat_a_all = []\n",
    "        cat_b_all = []\n",
    "        for data_index,data in values_dictionary.items():\n",
    "            cat_a_all.append(data[0])###First index is what I'm interested in\n",
    "            cat_b_all.append(random.choice(data[1:])) ###Choose a random value from the remaining as a control\n",
    "        ratios.append(np.mean(cat_a_all)/np.mean(cat_b_all)) ###Get the ratio of my resulting categories\n",
    "\n",
    "        test_stat,p_val = stats.wilcoxon(cat_a_cumulative, cat_b_cumulative) ###Simple statistical test on the raw category values\n",
    "        p_vals_wilcoxon.append(p_val)\n",
    "        \n",
    "    ######Distributions of p-values using the actual \"rates\"\n",
    "    p_vals_mean.append(np.mean(p_vals_wilcoxon))\n",
    "    p_vals_median.append(np.median(p_vals_wilcoxon))\n",
    "    p_vals_max.append(max(p_vals_wilcoxon))\n",
    "        \n",
    "    #########Using randomized/shuffled data and p-values from the ratios\n",
    "    ratios_control_means = []\n",
    "    for second_bootstrap_randomization in range(second_bootstrap_randomizations):####Repeat the same randomization as above XX times\n",
    "        ratios_control = []\n",
    "        for bootstrap_randomization in range(sampling_randomizations):####Code below is identical to above with shuffling added\n",
    "            cat_a_all = []\n",
    "            cat_b_all = []\n",
    "            for data_index,data in values_dictionary.items():\n",
    "                cat_a_all.append(data[0])###First index is what I'm interested in\n",
    "                cat_b_all.append(random.choice(data[1:])) ###Choose a random value from the remaining as a control\n",
    "            total = cat_a_all + cat_b_all ###Add the categories together\n",
    "            random.shuffle(total) ###Shuffle them up\n",
    "            ratios_control.append(np.mean(total[:len(cat_a_all)])/np.mean(total[len(cat_a_all):])) ###Get a null ratio\n",
    "        ratios_control_means.append(np.mean(ratios_control))\n",
    "    \n",
    "    \n",
    "    plt.figure()\n",
    "    plt.hist(ratios_control_means)\n",
    "    plt.axvline(np.mean(ratios), c='r')"
   ]
  },
  {
   "cell_type": "code",
   "execution_count": null,
   "metadata": {
    "collapsed": false
   },
   "outputs": [],
   "source": [
    "p_vals_mean"
   ]
  },
  {
   "cell_type": "code",
   "execution_count": null,
   "metadata": {
    "collapsed": false
   },
   "outputs": [],
   "source": [
    "plt.figure()\n",
    "plt.hist(p_vals_mean)\n",
    "\n",
    "plt.figure()\n",
    "plt.hist(p_vals_median)\n",
    "\n",
    "plt.figure()\n",
    "plt.hist(p_vals_max)"
   ]
  },
  {
   "cell_type": "code",
   "execution_count": null,
   "metadata": {
    "collapsed": false
   },
   "outputs": [],
   "source": [
    "# plt.figure()\n",
    "# plt.violinplot([ratios, ratios_control], showextrema=False, showmeans=True)\n",
    "# plt.figure()\n",
    "# plt.hist(p_vals)"
   ]
  },
  {
   "cell_type": "code",
   "execution_count": null,
   "metadata": {
    "collapsed": true
   },
   "outputs": [],
   "source": []
  },
  {
   "cell_type": "code",
   "execution_count": null,
   "metadata": {
    "collapsed": true
   },
   "outputs": [],
   "source": []
  },
  {
   "cell_type": "code",
   "execution_count": null,
   "metadata": {
    "collapsed": true
   },
   "outputs": [],
   "source": []
  },
  {
   "cell_type": "code",
   "execution_count": null,
   "metadata": {
    "collapsed": true
   },
   "outputs": [],
   "source": []
  },
  {
   "cell_type": "code",
   "execution_count": null,
   "metadata": {
    "collapsed": true
   },
   "outputs": [],
   "source": []
  },
  {
   "cell_type": "code",
   "execution_count": 2,
   "metadata": {
    "collapsed": false
   },
   "outputs": [
    {
     "data": {
      "text/plain": [
       "<matplotlib.lines.Line2D at 0x105cf7400>"
      ]
     },
     "execution_count": 2,
     "metadata": {},
     "output_type": "execute_result"
    },
    {
     "data": {
      "image/png": "[encoded data removed]",
      "text/plain": [
       "<matplotlib.figure.Figure at 0x103916668>"
      ]
     },
     "metadata": {},
     "output_type": "display_data"
    }
   ],
   "source": [
    "import numpy as np\n",
    "import random\n",
    "from matplotlib import pyplot as plt\n",
    "\n",
    "sampling_replicates = 100\n",
    "randomization_replicates = 100\n",
    "\n",
    "\n",
    "#Two identical categories, slightly different sizes\n",
    "cat_a = list(np.random.normal(100, 10, size=100))\n",
    "cat_b = list(np.random.normal(100, 10, size=200))\n",
    "\n",
    "\n",
    "\n",
    "#Calculate ratio of category means when sampling the second (larger category)\n",
    "ratios = []\n",
    "for i in range(sampling_replicates):####Get 100 ratios\n",
    "    ratios.append(np.mean(cat_a)/np.mean(random.sample(cat_b, k=100)))\n",
    "    \n",
    "    \n",
    "    \n",
    "control_ratio_means = []\n",
    "for i in range(randomization_replicates):####Repeat 100 times or so to get adistribution of random means\n",
    "    control_ratios = []\n",
    "    for j in range(sampling_replicates):####Get 100 ratios\n",
    "        temp = cat_a + random.sample(cat_b, k=100)\n",
    "        random.shuffle(temp)\n",
    "        control_ratios.append(np.mean(temp[:100])/np.mean(temp[100:]))\n",
    "    control_ratio_means.append(np.mean(control_ratios))\n",
    "    \n",
    "    \n",
    "###Mean is almost always outside of distribution of 100 random means\n",
    "fig, ax = plt.subplots()\n",
    "ax.hist(control_ratio_means)\n",
    "ax.axvline(np.mean(ratios), c='r')"
   ]
  },
  {
   "cell_type": "code",
   "execution_count": null,
   "metadata": {
    "collapsed": false
   },
   "outputs": [],
   "source": [
    "plt.figure()\n",
    "plt.violinplot([ratios, control_ratios], showextrema=False, showmeans=True)\n",
    "\n",
    "plt.figure()\n",
    "plt.hist(control_ratio_means)\n",
    "plt.axvline(np.mean(ratios), c='r')"
   ]
  },
  {
   "cell_type": "code",
   "execution_count": null,
   "metadata": {
    "collapsed": true
   },
   "outputs": [],
   "source": []
  }
 ],
 "metadata": {
  "kernelspec": {
   "display_name": "Python 3",
   "language": "python",
   "name": "python3"
  },
  "language_info": {
   "codemirror_mode": {
    "name": "ipython",
    "version": 3
   },
   "file_extension": ".py",
   "mimetype": "text/x-python",
   "name": "python",
   "nbconvert_exporter": "python",
   "pygments_lexer": "ipython3",
   "version": "3.4.5"
  },
  "toc": {
   "colors": {
    "hover_highlight": "#DAA520",
    "navigate_num": "#000000",
    "navigate_text": "#333333",
    "running_highlight": "#FF0000",
    "selected_highlight": "#FFD700",
    "sidebar_border": "#EEEEEE",
    "wrapper_background": "#FFFFFF"
   },
   "moveMenuLeft": true,
   "nav_menu": {
    "height": "30px",
    "width": "252px"
   },
   "navigate_menu": true,
   "number_sections": true,
   "sideBar": true,
   "threshold": 4,
   "toc_cell": false,
   "toc_section_display": "block",
   "toc_window_display": false,
   "widenNotebook": false
  }
 },
 "nbformat": 4,
 "nbformat_minor": 0
}
