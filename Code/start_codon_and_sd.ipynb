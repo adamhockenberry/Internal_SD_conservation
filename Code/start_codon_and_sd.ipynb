{
 "cells": [
  {
   "cell_type": "code",
   "execution_count": 1,
   "metadata": {
    "collapsed": true
   },
   "outputs": [],
   "source": [
    "%matplotlib inline"
   ]
  },
  {
   "cell_type": "code",
   "execution_count": 2,
   "metadata": {
    "collapsed": true
   },
   "outputs": [],
   "source": [
    "from Bio import SeqIO\n",
    "import json\n",
    "import numpy as np\n",
    "import random\n",
    "\n",
    "from matplotlib import pyplot as plt\n",
    "from scipy import stats\n",
    "from collections import Counter\n",
    "\n",
    "import re\n",
    "\n",
    "import pandas as pd"
   ]
  },
  {
   "cell_type": "code",
   "execution_count": 3,
   "metadata": {
    "collapsed": true
   },
   "outputs": [],
   "source": [
    "import matplotlib\n",
    "matplotlib.rcParams['xtick.labelsize'] = 9\n",
    "matplotlib.rcParams['ytick.labelsize'] = 9\n",
    "matplotlib.rcParams['axes.labelsize'] = 9\n",
    "matplotlib.rcParams['axes.titlesize'] = 10\n",
    "\n",
    "matplotlib.rcParams['axes.grid'] = True\n",
    "matplotlib.rcParams['grid.color'] = '0.8'\n",
    "matplotlib.rcParams['grid.linewidth'] = '0.5'\n",
    "\n",
    "matplotlib.rcParams['axes.edgecolor'] = '0.25'\n",
    "matplotlib.rcParams['xtick.color'] = '0'\n",
    "matplotlib.rcParams['ytick.color'] = '0'\n",
    "\n",
    "matplotlib.rcParams['xtick.major.width'] = 2\n",
    "matplotlib.rcParams['ytick.major.width'] = 2\n",
    "matplotlib.rcParams['ytick.major.size'] = 5\n",
    "matplotlib.rcParams['xtick.major.size'] = 5\n",
    "\n",
    "\n",
    "matplotlib.rcParams['font.family'] = 'sans-serif'\n",
    "matplotlib.rcParams['font.weight']='ultralight'\n",
    "matplotlib.rcParams['axes.axisbelow'] = True"
   ]
  },
  {
   "cell_type": "code",
   "execution_count": 82,
   "metadata": {
    "collapsed": false
   },
   "outputs": [],
   "source": [
    "include = 20\n",
    "utr_dicty = {}\n",
    "seq_dicty = {}\n",
    "genome = list(SeqIO.parse('/Users/adamhockenberry/Projects/2017/Genome_database/Data/GBFs/511145.12.PATRIC.gbf', 'genbank'))\n",
    "# genome = list(SeqIO.parse('/Users/adamhockenberry/Projects/OpenBiology_2016/Data/genomes/NA1000_JMS.gbk', 'genbank'))\n",
    "# genome = list(SeqIO.parse('/Users/adamhockenberry/Projects/OpenBiology_2016/Data/genomes/bacillus.gb', 'genbank'))\n",
    "\n",
    "\n",
    "for record in genome:\n",
    "    for feature in record.features[:]:\n",
    "        if feature.type == 'CDS':\n",
    "            if feature.location.strand == 1:\n",
    "                cds = str(record.seq[feature.location.start:feature.location.end])\n",
    "            elif feature.location.strand == -1:\n",
    "                cds = str(record.seq[feature.location.start:feature.location.end].reverse_complement())\n",
    "            if len(cds)%3 != 0 or len(cds) < 180 or len(cds) > 3000 or cds[-3:] not in ['TAA', 'TGA', 'TAG']:\n",
    "                continue\n",
    "            if cds.count('A') + cds.count('T') +cds.count('G') +cds.count('C') != len(cds):\n",
    "                continue\n",
    "            codons = [str(cds)[i:i+3] for i in range(0, len(cds), 3)]\n",
    "            if codons[:-1].count('TAG') + codons[:-1].count('TGA') + codons[:-1].count('TAA') != 0:\n",
    "                continue\n",
    "            name = feature.qualifiers['locus_tag'][0]\n",
    "            if feature.location.strand == 1:\n",
    "                utr_dicty[name] = record.seq[feature.location.start-include:feature.location.start]\n",
    "            elif feature.location.strand == -1:\n",
    "                utr_dicty[name] = record.seq[feature.location.end:feature.location.end+include].reverse_complement()\n",
    "            seq_dicty[name] = cds"
   ]
  },
  {
   "cell_type": "code",
   "execution_count": 83,
   "metadata": {
    "collapsed": false
   },
   "outputs": [
    {
     "name": "stdout",
     "output_type": "stream",
     "text": [
      "4127\n"
     ]
    }
   ],
   "source": [
    "nt_seqs = list(seq_dicty.values())\n",
    "print(len(nt_seqs))"
   ]
  },
  {
   "cell_type": "code",
   "execution_count": 76,
   "metadata": {
    "collapsed": false
   },
   "outputs": [],
   "source": [
    "with open('../Data/json-energyRef-CCUCCU.txt', 'r') as infile:\n",
    "    fragment_energy_dict = json.load(infile)\n",
    "asd_seq = 'CCUCCU'"
   ]
  },
  {
   "cell_type": "code",
   "execution_count": 77,
   "metadata": {
    "collapsed": false
   },
   "outputs": [],
   "source": [
    "ignore_last_x = 59 ###To ignore 60, make these 59\n",
    "ignore_first = 59\n",
    "energy_seqs = []\n",
    "for nt_sequence in nt_seqs:\n",
    "    energy_list = []\n",
    "    for i in range(ignore_first, len(nt_sequence)-len(asd_seq)-ignore_last_x):\n",
    "        fragment = nt_sequence[i:i+len(asd_seq)]\n",
    "        energy = fragment_energy_dict[fragment.replace('T', 'U')]\n",
    "        energy_list.append(energy)\n",
    "    energy_seqs.append(energy_list)"
   ]
  },
  {
   "cell_type": "code",
   "execution_count": 80,
   "metadata": {
    "collapsed": false
   },
   "outputs": [
    {
     "name": "stdout",
     "output_type": "stream",
     "text": [
      "(0, 6) 3370\n",
      "(2, 8) 3370\n",
      "(4, 10) 3370\n",
      "(6, 12) 3370\n",
      "(8, 14) 3370\n",
      "(10, 16) 3370\n",
      "(12, 18) 3370\n",
      "(14, 20) 3370\n"
     ]
    }
   ],
   "source": [
    "windows_to_search = []\n",
    "for i in range(0, 16, 2):\n",
    "    windows_to_search.append((i,i+6))\n",
    "\n",
    "thresh = -7.5\n",
    "\n",
    "results_dicty_actual = {}\n",
    "results_dicty_control = {}\n",
    "\n",
    "randomizations = 5\n",
    "\n",
    "for window_to_search in windows_to_search:\n",
    "    putative_starts = []\n",
    "    sd_counts_per_gene = []\n",
    "    for i, energy_list in enumerate(energy_seqs):\n",
    "        sd_counts = 0\n",
    "        for pos,energy in enumerate(energy_list):\n",
    "            if pos == 0:\n",
    "                continue\n",
    "            if pos == len(energy_list)-1:\n",
    "                continue\n",
    "            if energy < thresh and energy <= energy_list[pos-1] and energy < energy_list[pos+1]:\n",
    "                sd_counts += 1\n",
    "                fragment = nt_seqs[i][pos+ignore_first+len(asd_seq)+window_to_search[0]:\\\n",
    "                                      pos+ignore_first+len(asd_seq)+window_to_search[1]]\n",
    "                assert len(fragment)==6\n",
    "                if 'ATG' in fragment:\n",
    "                    position = fragment.index('ATG')\n",
    "                    absolute_position = pos+ignore_first+len(asd_seq)+window_to_search[0]+position\n",
    "                    putative_starts.append(absolute_position)\n",
    "        sd_counts_per_gene.append(sd_counts)\n",
    "    print(window_to_search, np.sum(sd_counts_per_gene))\n",
    "    \n",
    "    control_starts_matrix = []\n",
    "    for randomization in range(randomizations):\n",
    "        control_starts = []\n",
    "        for i, sd_counts in enumerate(sd_counts_per_gene):\n",
    "            if sd_counts > 0:\n",
    "                positions_to_test = np.random.choice(list(range(len(energy_seqs[i]))), replace=False, size=sd_counts)\n",
    "                for pos in positions_to_test:\n",
    "                    fragment = nt_seqs[i][pos+ignore_first+len(asd_seq)+window_to_search[0]:\\\n",
    "                                          pos+ignore_first+len(asd_seq)+window_to_search[1]]\n",
    "                    if 'ATG' in fragment:\n",
    "                        position = fragment.index('ATG')\n",
    "                        absolute_position = pos+ignore_first+len(asd_seq)+window_to_search[0]+position\n",
    "                        control_starts.append(absolute_position)\n",
    "        control_starts_matrix.append(control_starts)\n",
    "    \n",
    "\n",
    "    results_dicty_actual[window_to_search] = putative_starts\n",
    "    results_dicty_control[window_to_search] = control_starts_matrix"
   ]
  },
  {
   "cell_type": "code",
   "execution_count": 81,
   "metadata": {
    "collapsed": false
   },
   "outputs": [
    {
     "name": "stdout",
     "output_type": "stream",
     "text": [
      "(0, 6) -10.1702676186 2.69168100319e-24 0.788079470199\n",
      "(2, 8) -4.27111887432 1.94494693889e-05 0.792639773531\n",
      "(4, 10) -2.45760823784 0.0139865656351 0.800561797753\n",
      "(6, 12) -6.03825583083 1.55788936342e-09 0.744234800839\n",
      "(8, 14) -1.57235814196 0.115867516019 0.908759124088\n",
      "(10, 16) -1.69476248805 0.0901204862098 0.9140969163\n",
      "(12, 18) -3.57236059809 0.0003537778132 0.803389830508\n",
      "(14, 20) -1.14276008905 0.253138213662 0.95966620306\n"
     ]
    },
    {
     "data": {
      "image/png": "[encoded data removed]",
      "text/plain": [
       "<matplotlib.figure.Figure at 0x119ba95c0>"
      ]
     },
     "metadata": {},
     "output_type": "display_data"
    }
   ],
   "source": [
    "n = len(windows_to_search)\n",
    "actual_vals = [len(results_dicty_actual[window]) for window in windows_to_search]\n",
    "control_vals_mean = []\n",
    "control_vals_stdev = []\n",
    "for window in windows_to_search:\n",
    "    tempy = []\n",
    "    for i in range(randomizations):\n",
    "        tempy.append(len(results_dicty_control[window][i]))\n",
    "    control_vals_mean.append(np.mean(tempy))\n",
    "    control_vals_stdev.append(np.std(tempy))\n",
    "    \n",
    "for i in range(len(actual_vals)):\n",
    "    zscore = (actual_vals[i]-control_vals_mean[i])/control_vals_stdev[i]\n",
    "    print(windows_to_search[i], zscore, stats.norm.sf(abs(zscore))*2, actual_vals[i]/control_vals_mean[i])\n",
    "\n",
    "\n",
    "plot_indices = np.arange(n)\n",
    "width = 0.4\n",
    "\n",
    "fig, ax = plt.subplots(figsize=(4.5,3))\n",
    "rects1 = ax.bar(plot_indices, actual_vals, width, color='#2ca02c') \n",
    "rects2 = ax.bar(plot_indices+width, control_vals_mean, width, yerr=control_vals_stdev, color='thistle') \n",
    "\n",
    "ax.set_xticks(plot_indices + width/2)\n",
    "ax.set_xticklabels(windows_to_search, rotation=45)\n",
    "ax.set_ylabel('ATG counts')\n",
    "ax.set_xlabel('3\\' downstream window')\n",
    "legend = ax.legend((rects1[0], rects2[0]), ('Actual SD-like sites', 'Random sites'),\\\n",
    "                   fontsize=10, loc=3, bbox_to_anchor=(0.01, 1.02, 1., .102), ncol=2, borderaxespad=0.)\n",
    "legend.get_frame().set_alpha(1)\n",
    "# ax.set_ylim(0, 2000)\n",
    "plt.tight_layout()\n",
    "# plt.savefig('../Results/Figures/start_codon_frequency.pdf', bbox_inches='tight')\n",
    "# plt.savefig('/Users/adamhockenberry/Desktop/Caulo_start_codon_and_SD_thresh=-8.5.pdf', bbox_inches='tight')"
   ]
  },
  {
   "cell_type": "code",
   "execution_count": null,
   "metadata": {
    "collapsed": true
   },
   "outputs": [],
   "source": []
  },
  {
   "cell_type": "code",
   "execution_count": null,
   "metadata": {
    "collapsed": true
   },
   "outputs": [],
   "source": []
  },
  {
   "cell_type": "code",
   "execution_count": null,
   "metadata": {
    "collapsed": true
   },
   "outputs": [],
   "source": []
  },
  {
   "cell_type": "code",
   "execution_count": null,
   "metadata": {
    "collapsed": true
   },
   "outputs": [],
   "source": []
  },
  {
   "cell_type": "markdown",
   "metadata": {
    "collapsed": true
   },
   "source": [
    "# Null expectation about total number of SD genes and SD-like counts throughout the *E. coli* genome"
   ]
  },
  {
   "cell_type": "code",
   "execution_count": 11,
   "metadata": {
    "collapsed": false
   },
   "outputs": [],
   "source": [
    "from Bio.Data import CodonTable\n",
    "\n",
    "def get_codon_dicts(n=11):\n",
    "    '''\n",
    "    This function outputs two dictionaries to convert between amino acids and codons and vice versa.\n",
    "    No necessary imports unless you want to use a strange genetic code table.\n",
    "    '''\n",
    "    GivenCodonTable = CodonTable.unambiguous_dna_by_id[n]\n",
    "    nucleotides = ['A', 'T', 'G', 'C']\n",
    "    aa_to_codons = {}\n",
    "    for first in nucleotides:\n",
    "        for second in nucleotides:\n",
    "            for third in nucleotides:\n",
    "                Codon = first + second + third\n",
    "                if Codon not in CodonTable.unambiguous_dna_by_id[n].stop_codons:\n",
    "                    if GivenCodonTable.forward_table[Codon] in aa_to_codons.keys():\n",
    "                            aa_to_codons[GivenCodonTable.forward_table[Codon]].append(Codon)\n",
    "                    else:\n",
    "                        aa_to_codons[GivenCodonTable.forward_table[Codon]] = [Codon]\n",
    "                else:\n",
    "                    pass\n",
    "    codon_to_aa = {}\n",
    "    for aa, syns in aa_to_codons.items():\n",
    "        for syn in syns:\n",
    "            codon_to_aa[syn] = aa\n",
    "    return aa_to_codons, codon_to_aa\n",
    "\n",
    "def shuffle_gene_synonymous(gene_sequence_codons, aa_to_codons_dict, codon_to_aa_dict):\n",
    "    '''\n",
    "    This is my randomization procedure that I think is pretty efficient.\n",
    "    What it does is essentially break every 'gene_sequence_codons' list down into a dictionary (\"temp_dict\")\n",
    "    that has key:val of \"amino acid\":\"list of all codons used in sequence for that amino acid\". Then shuffles\n",
    "    those resulting lists and re-codes the original gene_sequence_codons\n",
    "    '''\n",
    "    shuffled_sequence_codons = []\n",
    "    temp_dict = {}\n",
    "    for aa in aa_to_codons_dict:\n",
    "        temp_dict[aa] = []\n",
    "    for codon in gene_sequence_codons:\n",
    "        temp_dict[codon_to_aa_dict[codon]].append(codon)\n",
    "    for aa, synon_codons in temp_dict.items():\n",
    "        np.random.shuffle(synon_codons)\n",
    "    for codon in gene_sequence_codons:\n",
    "        shuffled_sequence_codons.append(temp_dict[codon_to_aa_dict[codon]].pop())\n",
    "    return shuffled_sequence_codons\n",
    "\n",
    "aa_to_codons_dict, codon_to_aa_dict = get_codon_dicts()"
   ]
  },
  {
   "cell_type": "markdown",
   "metadata": {},
   "source": [
    "## First get coding sequence and 5' UTR dictionaries"
   ]
  },
  {
   "cell_type": "code",
   "execution_count": 11,
   "metadata": {
    "collapsed": false
   },
   "outputs": [],
   "source": [
    "include = 20\n",
    "utr_dicty = {}\n",
    "seq_dicty = {}\n",
    "\n",
    "\n",
    "# genome = list(SeqIO.parse('/Users/adamhockenberry/Projects/2017/Genome_database/Data/GBFs/511145.12.PATRIC.gbf', 'genbank'))\n",
    "for record in genome:\n",
    "    for feature in record.features[:]:\n",
    "        if feature.type == 'CDS':\n",
    "            if feature.location.strand == 1:\n",
    "                cds = str(record.seq[feature.location.start:feature.location.end])\n",
    "            elif feature.location.strand == -1:\n",
    "                cds = str(record.seq[feature.location.start:feature.location.end].reverse_complement())\n",
    "            if len(cds)%3 != 0 or len(cds) < 180 or len(cds) > 3000 or cds[-3:] not in ['TAA', 'TGA', 'TAG']:\n",
    "                continue\n",
    "            if cds.count('A') + cds.count('T') +cds.count('G') +cds.count('C') != len(cds):\n",
    "                continue\n",
    "            codons = [str(cds)[i:i+3] for i in range(0, len(cds), 3)]\n",
    "            if codons[:-1].count('TAG') + codons[:-1].count('TGA') + codons[:-1].count('TAA') != 0:\n",
    "                continue\n",
    "            name = feature.qualifiers['locus_tag'][0]\n",
    "            if feature.location.strand == 1:\n",
    "                utr_dicty[name] = record.seq[feature.location.start-include:feature.location.start]\n",
    "            elif feature.location.strand == -1:\n",
    "                utr_dicty[name] = record.seq[feature.location.end:feature.location.end+include].reverse_complement()\n",
    "            seq_dicty[name] = cds"
   ]
  },
  {
   "cell_type": "code",
   "execution_count": 12,
   "metadata": {
    "collapsed": false
   },
   "outputs": [
    {
     "name": "stdout",
     "output_type": "stream",
     "text": [
      "3703 3703\n"
     ]
    }
   ],
   "source": [
    "print(len(seq_dicty.keys()), len(utr_dicty.keys()))"
   ]
  },
  {
   "cell_type": "markdown",
   "metadata": {},
   "source": [
    "## Now assess SD sequence usage in the UTRs"
   ]
  },
  {
   "cell_type": "code",
   "execution_count": 13,
   "metadata": {
    "collapsed": true
   },
   "outputs": [],
   "source": [
    "with open('../Data/json-energyRef-CCUCCU.txt') as infile:\n",
    "    fragment_energy_dict = json.load(infile)\n",
    "asd_seq = 'CCTCCT'"
   ]
  },
  {
   "cell_type": "code",
   "execution_count": 14,
   "metadata": {
    "collapsed": true
   },
   "outputs": [],
   "source": [
    "# randomizations = 100\n",
    "randomizations = 2\n",
    "real_utrs = [str(j) for i,j in utr_dicty.items()]\n",
    "\n",
    "strongest_real = []\n",
    "strongest_fake_all = []\n",
    "strongest_fake_dict = {}\n",
    "for randomization in range(randomizations):\n",
    "    strongest_fake_dict[randomization] = []\n",
    "\n",
    "\n",
    "for utr in real_utrs[:]:\n",
    "    energy_list = []\n",
    "    for i in range(0, len(utr)-len(asd_seq)-4):\n",
    "        fragment = utr[i:i+len(asd_seq)]\n",
    "        energy = fragment_energy_dict[fragment.replace('T', 'U')]\n",
    "        energy_list.append(energy)\n",
    "    strongest_real.append(min(energy_list))\n",
    "    \n",
    "    for randomization in range(randomizations):\n",
    "        energy_list = []\n",
    "        utr_rand = np.array(list(utr))\n",
    "        np.random.shuffle(utr_rand)\n",
    "        utr_rand = ''.join(list(utr_rand))\n",
    "        for i in range(0, len(utr_rand)-len(asd_seq)-4):\n",
    "            fragment = utr_rand[i:i+len(asd_seq)]\n",
    "            energy = fragment_energy_dict[fragment.replace('T', 'U')]\n",
    "            energy_list.append(energy)\n",
    "        strongest_fake_all.append(min(energy_list))\n",
    "        strongest_fake_dict[randomization].append(min(energy_list))        "
   ]
  },
  {
   "cell_type": "code",
   "execution_count": 15,
   "metadata": {
    "collapsed": false
   },
   "outputs": [
    {
     "data": {
      "text/plain": [
       "<matplotlib.legend.Legend at 0x1076c6a58>"
      ]
     },
     "execution_count": 15,
     "metadata": {},
     "output_type": "execute_result"
    },
    {
     "data": {
      "image/png": "[encoded data removed]",
      "text/plain": [
       "<matplotlib.figure.Figure at 0x113ed82e8>"
      ]
     },
     "metadata": {},
     "output_type": "display_data"
    }
   ],
   "source": [
    "fig = plt.figure(figsize=(3,2))\n",
    "ax = fig.add_subplot(111)\n",
    "ax.hist(strongest_fake_all, 60, normed=True, alpha=0.7, color='gray', label='Shuffled UTRs')\n",
    "ax.hist(strongest_real, 60, normed=True, alpha=0.7, label='Real UTRs')\n",
    "ax.axvline(-4.5, c='r')\n",
    "ax.axvline(-3.5, c='r', linestyle='--')\n",
    "ax.axvline(-5.5, c='r', linestyle=':')\n",
    "ax.set_xlabel('UTR binding strength to \"5-CCUCCU-3\"')\n",
    "ax.set_ylabel('Probability density')\n",
    "fig.subplots_adjust(top=0.8, left=0.2, right=0.9, bottom=0.25)  # create some space below the plots by increasing the bottom-value\n",
    "ax.legend(loc='upper center', ncol=2, bbox_to_anchor=(0.15, 0.9, 0.7, 0.4), fontsize=8)\n",
    "# plt.savefig('../Results/Figures/SD_threshold.pdf')"
   ]
  },
  {
   "cell_type": "code",
   "execution_count": 34,
   "metadata": {
    "collapsed": false
   },
   "outputs": [
    {
     "name": "stdout",
     "output_type": "stream",
     "text": [
      "3703 315 123.5 34.8181818182 1.29098156506e-265\n"
     ]
    }
   ],
   "source": [
    "threshold = -8.5\n",
    "\n",
    "observed = len([i for i in strongest_real if i < threshold])\n",
    "expectation = [len([i for i in strongest_fake_dict[randomization] if i < threshold]) for randomization in strongest_fake_dict.keys()]\n",
    "\n",
    "\n",
    "zscore = (observed-np.mean(expectation))/np.std(expectation)\n",
    "print(len(strongest_real), observed, np.mean(expectation), zscore, stats.norm.sf(abs(zscore))*2)\n"
   ]
  },
  {
   "cell_type": "code",
   "execution_count": null,
   "metadata": {
    "collapsed": true
   },
   "outputs": [],
   "source": []
  },
  {
   "cell_type": "markdown",
   "metadata": {},
   "source": [
    "## Now count the number of SD-like sequences subject to restrictions\n",
    "\n",
    "**Restrictions to note are that I don't consider the first 60 and last 60 nucleotides of each gene and (this is critical) I try to avoid double counting strong SD-like sequences by only counting sequences that are below the binding energy threshold and which are more negative than their neighbors directly to the left and right**"
   ]
  },
  {
   "cell_type": "code",
   "execution_count": 28,
   "metadata": {
    "collapsed": false
   },
   "outputs": [
    {
     "name": "stdout",
     "output_type": "stream",
     "text": [
      "4127\n"
     ]
    }
   ],
   "source": [
    "nt_seqs = list(seq_dicty.values())\n",
    "print(len(nt_seqs))"
   ]
  },
  {
   "cell_type": "code",
   "execution_count": 29,
   "metadata": {
    "collapsed": true
   },
   "outputs": [],
   "source": [
    "ignore_last_x = 59\n",
    "ignore_first = 59\n",
    "energy_seqs = []\n",
    "for nt_sequence in nt_seqs:\n",
    "    energy_list = []\n",
    "    for i in range(ignore_first, len(nt_sequence)-len(asd_seq)-ignore_last_x):\n",
    "        fragment = nt_sequence[i:i+len(asd_seq)]\n",
    "        energy = fragment_energy_dict[fragment.replace('T', 'U')]\n",
    "        energy_list.append(energy)\n",
    "    energy_seqs.append(energy_list)"
   ]
  },
  {
   "cell_type": "code",
   "execution_count": 38,
   "metadata": {
    "collapsed": false
   },
   "outputs": [
    {
     "name": "stdout",
     "output_type": "stream",
     "text": [
      "55242\n",
      "4127\n"
     ]
    }
   ],
   "source": [
    "threshold = -3.5\n",
    "observed_counts = 0\n",
    "for energy_gene in energy_seqs:\n",
    "    for i,energy in enumerate(energy_gene):\n",
    "        if i == 0:\n",
    "            continue\n",
    "        if i == len(energy_gene)-1:\n",
    "            continue\n",
    "        ###This is where I can toggle to either consider all windows or only\n",
    "        ###windows where the immediate neighbors are higher (i.e. avoid double counting)\n",
    "#             if energy <= threshold: ##Consider each independent window\n",
    "        if energy < threshold and energy <= energy_gene[i-1] and energy < energy_gene[i+1]:\n",
    "            observed_counts += 1\n",
    "\n",
    "print(observed_counts)\n",
    "print(len(energy_seqs))"
   ]
  },
  {
   "cell_type": "code",
   "execution_count": 39,
   "metadata": {
    "collapsed": false
   },
   "outputs": [
    {
     "name": "stdout",
     "output_type": "stream",
     "text": [
      "#####Randomization number: 0 found 57928 counts\n",
      "#####Randomization number: 1 found 57625 counts\n",
      "#####Randomization number: 2 found 57899 counts\n",
      "#####Randomization number: 3 found 57782 counts\n",
      "#####Randomization number: 4 found 57825 counts\n",
      "#####Randomization number: 5 found 57894 counts\n",
      "#####Randomization number: 6 found 57853 counts\n",
      "#####Randomization number: 7 found 57704 counts\n",
      "#####Randomization number: 8 found 58052 counts\n",
      "#####Randomization number: 9 found 57850 counts\n",
      "#####Randomization number: 10 found 57884 counts\n",
      "#####Randomization number: 11 found 57599 counts\n",
      "#####Randomization number: 12 found 57726 counts\n",
      "#####Randomization number: 13 found 57697 counts\n",
      "#####Randomization number: 14 found 57671 counts\n",
      "#####Randomization number: 15 found 57624 counts\n",
      "#####Randomization number: 16 found 57811 counts\n",
      "#####Randomization number: 17 found 57796 counts\n",
      "#####Randomization number: 18 found 57775 counts\n",
      "#####Randomization number: 19 found 57810 counts\n",
      "#####Randomization number: 20 found 57866 counts\n",
      "#####Randomization number: 21 found 57766 counts\n",
      "#####Randomization number: 22 found 57504 counts\n",
      "#####Randomization number: 23 found 58047 counts\n",
      "#####Randomization number: 24 found 57919 counts\n",
      "#####Randomization number: 25 found 57636 counts\n",
      "#####Randomization number: 26 found 57790 counts\n",
      "#####Randomization number: 27 found 57904 counts\n",
      "#####Randomization number: 28 found 57888 counts\n",
      "#####Randomization number: 29 found 57701 counts\n",
      "#####Randomization number: 30 found 57785 counts\n",
      "#####Randomization number: 31 found 57939 counts\n",
      "#####Randomization number: 32 found 57887 counts\n",
      "#####Randomization number: 33 found 57864 counts\n",
      "#####Randomization number: 34 found 57838 counts\n",
      "#####Randomization number: 35 found 57742 counts\n",
      "#####Randomization number: 36 found 57936 counts\n",
      "#####Randomization number: 37 found 57732 counts\n",
      "#####Randomization number: 38 found 57435 counts\n",
      "#####Randomization number: 39 found 57946 counts\n",
      "#####Randomization number: 40 found 57981 counts\n",
      "#####Randomization number: 41 found 57632 counts\n",
      "#####Randomization number: 42 found 57847 counts\n",
      "#####Randomization number: 43 found 57658 counts\n",
      "#####Randomization number: 44 found 57575 counts\n",
      "#####Randomization number: 45 found 57559 counts\n",
      "#####Randomization number: 46 found 57953 counts\n",
      "#####Randomization number: 47 found 57823 counts\n",
      "#####Randomization number: 48 found 57889 counts\n",
      "#####Randomization number: 49 found 57510 counts\n",
      "#####Randomization number: 50 found 57895 counts\n",
      "#####Randomization number: 51 found 57502 counts\n",
      "#####Randomization number: 52 found 57468 counts\n",
      "#####Randomization number: 53 found 57675 counts\n",
      "#####Randomization number: 54 found 57936 counts\n",
      "#####Randomization number: 55 found 57870 counts\n",
      "#####Randomization number: 56 found 57737 counts\n",
      "#####Randomization number: 57 found 57908 counts\n",
      "#####Randomization number: 58 found 57608 counts\n",
      "#####Randomization number: 59 found 57618 counts\n",
      "#####Randomization number: 60 found 57708 counts\n",
      "#####Randomization number: 61 found 57972 counts\n",
      "#####Randomization number: 62 found 57929 counts\n",
      "#####Randomization number: 63 found 57732 counts\n",
      "#####Randomization number: 64 found 57647 counts\n",
      "#####Randomization number: 65 found 57916 counts\n",
      "#####Randomization number: 66 found 57676 counts\n",
      "#####Randomization number: 67 found 57947 counts\n",
      "#####Randomization number: 68 found 57871 counts\n",
      "#####Randomization number: 69 found 57885 counts\n",
      "#####Randomization number: 70 found 57932 counts\n",
      "#####Randomization number: 71 found 57846 counts\n",
      "#####Randomization number: 72 found 57955 counts\n",
      "#####Randomization number: 73 found 57882 counts\n",
      "#####Randomization number: 74 found 57679 counts\n",
      "#####Randomization number: 75 found 57773 counts\n",
      "#####Randomization number: 76 found 57807 counts\n",
      "#####Randomization number: 77 found 57844 counts\n",
      "#####Randomization number: 78 found 57747 counts\n",
      "#####Randomization number: 79 found 57849 counts\n",
      "#####Randomization number: 80 found 57653 counts\n",
      "#####Randomization number: 81 found 57643 counts\n",
      "#####Randomization number: 82 found 57890 counts\n",
      "#####Randomization number: 83 found 57872 counts\n",
      "#####Randomization number: 84 found 57592 counts\n",
      "#####Randomization number: 85 found 58019 counts\n",
      "#####Randomization number: 86 found 57805 counts\n",
      "#####Randomization number: 87 found 57720 counts\n",
      "#####Randomization number: 88 found 57900 counts\n",
      "#####Randomization number: 89 found 57946 counts\n",
      "#####Randomization number: 90 found 58017 counts\n",
      "#####Randomization number: 91 found 57856 counts\n",
      "#####Randomization number: 92 found 57843 counts\n",
      "#####Randomization number: 93 found 57929 counts\n",
      "#####Randomization number: 94 found 57646 counts\n",
      "#####Randomization number: 95 found 57916 counts\n",
      "#####Randomization number: 96 found 57881 counts\n",
      "#####Randomization number: 97 found 57856 counts\n",
      "#####Randomization number: 98 found 58097 counts\n",
      "#####Randomization number: 99 found 58018 counts\n"
     ]
    }
   ],
   "source": [
    "rand_counts = []\n",
    "for randomization in range(100):\n",
    "    rand_energy_seqs = []\n",
    "    for nt_sequence_initial in nt_seqs:\n",
    "        codon_list = [nt_sequence_initial[nt:nt+3] for nt in range(0, len(nt_sequence_initial), 3)]\n",
    "        stop = codon_list[-1]\n",
    "        codon_list = codon_list[:-1]\n",
    "#         ###Expectation if you shuffled all the codons\n",
    "#         np.random.shuffle(codon_list)\n",
    "#         nt_sequence = ''.join(codon_list)\n",
    "#         ###Expectation if you shuffle while preserving primary amino acid sequence\n",
    "        codon_list_rand = shuffle_gene_synonymous(codon_list, aa_to_codons_dict, codon_to_aa_dict)\n",
    "        codon_list_rand.append(stop)\n",
    "        nt_sequence = ''.join(codon_list_rand)\n",
    "        energy_list = []\n",
    "        for i in range(ignore_first, len(nt_sequence)-len(asd_seq)-ignore_last_x):\n",
    "            fragment = nt_sequence[i:i+len(asd_seq)]\n",
    "            energy = fragment_energy_dict[fragment.replace('T', 'U')]\n",
    "            energy_list.append(energy)\n",
    "        rand_energy_seqs.append(energy_list)\n",
    "    \n",
    "    counts = 0\n",
    "    for energy_gene in rand_energy_seqs:\n",
    "        for i,energy in enumerate(energy_gene):\n",
    "            if i == 0:\n",
    "                continue\n",
    "            if i == len(energy_gene)-1:\n",
    "                continue\n",
    "            if energy < threshold and energy <= energy_gene[i-1] and energy < energy_gene[i+1]:\n",
    "                counts += 1\n",
    "\n",
    "    print('#####Randomization number: {} found {} counts'.format(randomization, counts))\n",
    "    rand_counts.append(counts)"
   ]
  },
  {
   "cell_type": "code",
   "execution_count": 40,
   "metadata": {
    "collapsed": false
   },
   "outputs": [
    {
     "name": "stdout",
     "output_type": "stream",
     "text": [
      "55242 57802.7 -18.1428554681 1.46232268539e-73\n"
     ]
    }
   ],
   "source": [
    "zscore = (observed_counts-np.mean(rand_counts))/np.std(rand_counts)\n",
    "print(observed_counts, np.mean(rand_counts), zscore, stats.norm.sf(abs(zscore))*2)"
   ]
  },
  {
   "cell_type": "code",
   "execution_count": null,
   "metadata": {
    "collapsed": true
   },
   "outputs": [],
   "source": []
  }
 ],
 "metadata": {
  "kernelspec": {
   "display_name": "Python 3",
   "language": "python",
   "name": "python3"
  },
  "language_info": {
   "codemirror_mode": {
    "name": "ipython",
    "version": 3
   },
   "file_extension": ".py",
   "mimetype": "text/x-python",
   "name": "python",
   "nbconvert_exporter": "python",
   "pygments_lexer": "ipython3",
   "version": "3.4.5"
  },
  "toc": {
   "colors": {
    "hover_highlight": "#DAA520",
    "navigate_num": "#000000",
    "navigate_text": "#333333",
    "running_highlight": "#FF0000",
    "selected_highlight": "#FFD700",
    "sidebar_border": "#EEEEEE",
    "wrapper_background": "#FFFFFF"
   },
   "moveMenuLeft": true,
   "nav_menu": {
    "height": "12px",
    "width": "252px"
   },
   "navigate_menu": true,
   "number_sections": true,
   "sideBar": true,
   "threshold": 4,
   "toc_cell": false,
   "toc_section_display": "block",
   "toc_window_display": false,
   "widenNotebook": false
  }
 },
 "nbformat": 4,
 "nbformat_minor": 0
}
