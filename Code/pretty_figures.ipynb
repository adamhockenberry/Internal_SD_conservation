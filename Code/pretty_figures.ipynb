{
 "cells": [
  {
   "cell_type": "code",
   "execution_count": 1,
   "metadata": {
    "collapsed": true
   },
   "outputs": [],
   "source": [
    "%matplotlib inline"
   ]
  },
  {
   "cell_type": "markdown",
   "metadata": {},
   "source": [
    "# This notebook is for re-creating figures and statistics from the manuscript based on previously created dataframes. \n",
    "\n",
    "Cells are rather hideous and need some manual intervention of limiting axes, etc. to match everything up with the manuscript but the basic set-up for virtually all primary and supplementary figures is here with exceptions being for the few that occur in the analysis notebook and the start_codon_and_sd notebook."
   ]
  },
  {
   "cell_type": "code",
   "execution_count": 2,
   "metadata": {
    "collapsed": true
   },
   "outputs": [],
   "source": [
    "import pandas as pd\n",
    "from matplotlib import pyplot as plt\n",
    "import numpy as np\n",
    "from scipy import stats\n",
    "\n",
    "from bisect import bisect"
   ]
  },
  {
   "cell_type": "code",
   "execution_count": 3,
   "metadata": {
    "collapsed": true
   },
   "outputs": [],
   "source": [
    "import matplotlib\n",
    "matplotlib.rcParams['xtick.labelsize'] = 9\n",
    "matplotlib.rcParams['ytick.labelsize'] = 9\n",
    "matplotlib.rcParams['axes.labelsize'] = 9\n",
    "matplotlib.rcParams['axes.titlesize'] = 10\n",
    "\n",
    "matplotlib.rcParams['axes.grid'] = True\n",
    "matplotlib.rcParams['grid.color'] = '0.8'\n",
    "matplotlib.rcParams['grid.linewidth'] = '0.5'\n",
    "\n",
    "matplotlib.rcParams['axes.edgecolor'] = '0.25'\n",
    "matplotlib.rcParams['xtick.color'] = '0'\n",
    "matplotlib.rcParams['ytick.color'] = '0'\n",
    "\n",
    "matplotlib.rcParams['xtick.major.width'] = 2\n",
    "matplotlib.rcParams['ytick.major.width'] = 2\n",
    "matplotlib.rcParams['ytick.major.size'] = 5\n",
    "matplotlib.rcParams['xtick.major.size'] = 5\n",
    "# matplotlib.rcParams['axes.spines.right'] = False\n",
    "# matplotlib.rcParams['axes.spines.left'] = False\n",
    "# matplotlib.rcParams['axes.spines.top'] = False\n",
    "# matplotlib.rcParams['axes.spines.bottom'] = False\n",
    "\n",
    "matplotlib.rcParams['font.family'] = 'sans-serif'\n",
    "matplotlib.rcParams['font.weight']='ultralight'\n",
    "# matplotlib.rcParams['font.sans-serif'] = ['Computer Modern Sans Serif']\n",
    "matplotlib.rcParams['axes.axisbelow'] = True"
   ]
  },
  {
   "cell_type": "markdown",
   "metadata": {},
   "source": [
    "# Fig 1 and its SI Fig derivatives"
   ]
  },
  {
   "cell_type": "code",
   "execution_count": 4,
   "metadata": {
    "collapsed": false
   },
   "outputs": [],
   "source": [
    "# ###Original Fig 1\n",
    "file_name_modifiers = 'df_hyphy_Escherichia_Threshold=-20.0to-4.5_Conserved=True_NtRestriction=None'\n",
    "\n",
    "# ###Fig 1 with less stringent threshold\n",
    "# file_name_modifiers = 'df_hyphy_Escherichia_Threshold=-20.0to-3.5_Conserved=True_NtRestriction=None'\n",
    "\n",
    "# ###Fig 1 with more stringent threshold\n",
    "# file_name_modifiers = 'df_hyphy_Escherichia_Threshold=-20.0to-5.5_Conserved=True_NtRestriction=None'\n",
    "\n",
    "##Fig 1 with different organisms to identify locations\n",
    "# file_name_modifiers = 'df_hyphy_Salmonella_Threshold=-20.0to-4.5_Conserved=True_NtRestriction=None'\n",
    "# file_name_modifiers = 'df_hyphy_Klebsiella_Threshold=-20.0to-4.5_Conserved=True_NtRestriction=None'\n",
    "# file_name_modifiers = 'df_hyphy_Yersinia_Threshold=-20.0to-4.5_Conserved=True_NtRestriction=None'\n",
    "\n",
    "\n",
    "\n",
    "#Fig 1 true SD sequences\n",
    "# file_name_modifiers = 'df_hyphy_Escherichia_Threshold=-20.0to-4.5_Conserved=True_NtRestriction=None_Subset=preceding_Position_limitation=3prime'\n",
    "\n",
    "###Fig 1 true SD sequences negative control\n",
    "# file_name_modifiers = 'df_hyphy_Escherichia_Threshold=-20.0to-4.5_Conserved=True_NtRestriction=None_Subset=not_preceding_Position_limitation=3prime'\n"
   ]
  },
  {
   "cell_type": "code",
   "execution_count": 5,
   "metadata": {
    "collapsed": false
   },
   "outputs": [
    {
     "data": {
      "text/html": [
       "<div>\n",
       "<style>\n",
       "    .dataframe thead tr:only-child th {\n",
       "        text-align: right;\n",
       "    }\n",
       "\n",
       "    .dataframe thead th {\n",
       "        text-align: left;\n",
       "    }\n",
       "\n",
       "    .dataframe tbody tr th {\n",
       "        vertical-align: top;\n",
       "    }\n",
       "</style>\n",
       "<table border=\"1\" class=\"dataframe\">\n",
       "  <thead>\n",
       "    <tr style=\"text-align: right;\">\n",
       "      <th></th>\n",
       "      <th>Actual_rats_codon</th>\n",
       "      <th>Shuffled_rats_codon</th>\n",
       "      <th>Actual_rats_trint</th>\n",
       "      <th>Shuffled_rats_trint</th>\n",
       "      <th>Actual_pvals_codon</th>\n",
       "      <th>Shuffled_pvals_codon</th>\n",
       "      <th>Actual_pvals_trint</th>\n",
       "      <th>Shuffled_pvals_trint</th>\n",
       "      <th>N_(codon)</th>\n",
       "      <th>N_(trint)</th>\n",
       "    </tr>\n",
       "  </thead>\n",
       "  <tbody>\n",
       "    <tr>\n",
       "      <th>0</th>\n",
       "      <td>1.091324</td>\n",
       "      <td>0.989802</td>\n",
       "      <td>1.308103</td>\n",
       "      <td>1.005947</td>\n",
       "      <td>0.000331</td>\n",
       "      <td>0.996460</td>\n",
       "      <td>3.230173e-17</td>\n",
       "      <td>0.716903</td>\n",
       "      <td>1740</td>\n",
       "      <td>1161</td>\n",
       "    </tr>\n",
       "    <tr>\n",
       "      <th>1</th>\n",
       "      <td>1.084689</td>\n",
       "      <td>1.012348</td>\n",
       "      <td>1.242692</td>\n",
       "      <td>0.978991</td>\n",
       "      <td>0.001148</td>\n",
       "      <td>0.926222</td>\n",
       "      <td>6.059248e-11</td>\n",
       "      <td>0.494786</td>\n",
       "      <td>1740</td>\n",
       "      <td>1161</td>\n",
       "    </tr>\n",
       "    <tr>\n",
       "      <th>2</th>\n",
       "      <td>1.053736</td>\n",
       "      <td>0.997164</td>\n",
       "      <td>1.289698</td>\n",
       "      <td>1.074814</td>\n",
       "      <td>0.037016</td>\n",
       "      <td>0.882994</td>\n",
       "      <td>3.978362e-16</td>\n",
       "      <td>0.115727</td>\n",
       "      <td>1740</td>\n",
       "      <td>1161</td>\n",
       "    </tr>\n",
       "    <tr>\n",
       "      <th>3</th>\n",
       "      <td>1.041794</td>\n",
       "      <td>0.942903</td>\n",
       "      <td>1.238942</td>\n",
       "      <td>1.020686</td>\n",
       "      <td>0.045474</td>\n",
       "      <td>0.227918</td>\n",
       "      <td>4.242962e-10</td>\n",
       "      <td>0.416608</td>\n",
       "      <td>1740</td>\n",
       "      <td>1161</td>\n",
       "    </tr>\n",
       "    <tr>\n",
       "      <th>4</th>\n",
       "      <td>1.079454</td>\n",
       "      <td>1.030477</td>\n",
       "      <td>1.274495</td>\n",
       "      <td>0.974273</td>\n",
       "      <td>0.001022</td>\n",
       "      <td>0.332631</td>\n",
       "      <td>2.812419e-13</td>\n",
       "      <td>0.995706</td>\n",
       "      <td>1740</td>\n",
       "      <td>1161</td>\n",
       "    </tr>\n",
       "  </tbody>\n",
       "</table>\n",
       "</div>"
      ],
      "text/plain": [
       "   Actual_rats_codon  Shuffled_rats_codon  Actual_rats_trint  \\\n",
       "0           1.091324             0.989802           1.308103   \n",
       "1           1.084689             1.012348           1.242692   \n",
       "2           1.053736             0.997164           1.289698   \n",
       "3           1.041794             0.942903           1.238942   \n",
       "4           1.079454             1.030477           1.274495   \n",
       "\n",
       "   Shuffled_rats_trint  Actual_pvals_codon  Shuffled_pvals_codon  \\\n",
       "0             1.005947            0.000331              0.996460   \n",
       "1             0.978991            0.001148              0.926222   \n",
       "2             1.074814            0.037016              0.882994   \n",
       "3             1.020686            0.045474              0.227918   \n",
       "4             0.974273            0.001022              0.332631   \n",
       "\n",
       "   Actual_pvals_trint  Shuffled_pvals_trint  N_(codon)  N_(trint)  \n",
       "0        3.230173e-17              0.716903       1740       1161  \n",
       "1        6.059248e-11              0.494786       1740       1161  \n",
       "2        3.978362e-16              0.115727       1740       1161  \n",
       "3        4.242962e-10              0.416608       1740       1161  \n",
       "4        2.812419e-13              0.995706       1740       1161  "
      ]
     },
     "execution_count": 5,
     "metadata": {},
     "output_type": "execute_result"
    }
   ],
   "source": [
    "df_raw = pd.read_csv('../Results/Dataframes/{}_all.csv'.format(file_name_modifiers))\n",
    "df_ratios = pd.read_csv('../Results/Dataframes/{}_ratios.csv'.format(file_name_modifiers))\n",
    "df_ratios.head()"
   ]
  },
  {
   "cell_type": "code",
   "execution_count": 6,
   "metadata": {
    "collapsed": false
   },
   "outputs": [
    {
     "name": "stdout",
     "output_type": "stream",
     "text": [
      "Median:\n",
      "Actual p-val (codon): 0.0031883168071169246\n",
      "Shuffled p-val (codon): 0.48433049373125836\n",
      "Actual p-val (trint): 1.2231934714626908e-14\n",
      "Shuffled p-val (trint): 0.5280711672856482\n",
      "Mean ratios (codon, trint):\n",
      "1.07537640753 1.27758869363\n"
     ]
    }
   ],
   "source": [
    "print('Median:')\n",
    "print('Actual p-val (codon):', df_ratios['Actual_pvals_codon'].median())\n",
    "print('Shuffled p-val (codon):', df_ratios['Shuffled_pvals_codon'].median())\n",
    "print('Actual p-val (trint):', df_ratios['Actual_pvals_trint'].median())\n",
    "print('Shuffled p-val (trint):', df_ratios['Shuffled_pvals_trint'].median())\n",
    "\n",
    "print('Mean ratios (codon, trint):')\n",
    "print(df_ratios['Actual_rats_codon'].mean(), df_ratios['Actual_rats_trint'].mean())"
   ]
  },
  {
   "cell_type": "code",
   "execution_count": 7,
   "metadata": {
    "collapsed": false
   },
   "outputs": [
    {
     "data": {
      "image/png": "[encoded data removed]",
      "text/plain": [
       "<matplotlib.figure.Figure at 0x1180d9128>"
      ]
     },
     "metadata": {},
     "output_type": "display_data"
    }
   ],
   "source": [
    "fig = plt.figure(figsize=(5,2.5))\n",
    "ax1 = fig.add_subplot(221)\n",
    "columns = ['Control\\n(codon)', 'SD-like(codon)']\n",
    "plot_data = [df_raw[df_raw[i].isnull()==False][i] for i in columns]\n",
    "violin_parts = ax1.violinplot(plot_data, points=1000, showextrema=False, showmeans=True, widths=0.9, vert=False);\n",
    "ax1.set_yticks(list(range(1,len(columns)+1)))\n",
    "column_plus_n = [i.split('\\n')[0]+'\\n (n={})'.format(len(df_raw[df_raw[i].isnull()==False])) for i in columns]\n",
    "# column_plus_n = [i.split('\\n')[0]+'\\n   (n={})  '.format(len(df_raw[df_raw[i].isnull()==False])) for i in columns]\n",
    "# column_plus_n = [i.replace('-like', '').split('\\n')[0]+'\\n   (n={})  '.format(len(df_raw[df_raw[i].isnull()==False])) for i in columns]\n",
    "column_plus_n = [i.replace('(codon)', '') for i in column_plus_n]\n",
    "ax1.set_yticklabels(column_plus_n, ha='center')\n",
    "for i, pc in enumerate(violin_parts['bodies']):\n",
    "    if i == 0:\n",
    "        pc.set_facecolor('lightsteelblue')\n",
    "        pc.set_edgecolor('lightsteelblue')\n",
    "        pc.set_alpha(1)\n",
    "    if i == 1:\n",
    "        pc.set_facecolor('steelblue')\n",
    "        pc.set_edgecolor('steelblue')\n",
    "        pc.set_alpha(1) \n",
    "violin_parts['cmeans'].set_edgecolor('r')\n",
    "ax1.tick_params(axis='y', which='major', pad=25)\n",
    "\n",
    "ax3 = fig.add_subplot(223, sharex=ax1)\n",
    "columns = ['Control\\n(context)', 'SD-like(trint)']\n",
    "plot_data = [df_raw[df_raw[i].isnull()==False][i] for i in columns]\n",
    "violin_parts = ax3.violinplot(plot_data, points=1000, showextrema=False, showmeans=True, widths=0.9, vert=False);\n",
    "ax3.set_yticks(list(range(1,len(columns)+1)))\n",
    "column_plus_n = [i.split('\\n')[0]+'\\n (n={})'.format(len(df_raw[df_raw[i].isnull()==False])) for i in columns]\n",
    "\n",
    "# column_plus_n = [i.replace('-like', '').split('\\n')[0]+'\\n (n={})'.format(len(df_raw[df_raw[i].isnull()==False])) for i in columns]\n",
    "\n",
    "column_plus_n = [i.replace('(trint)', '') for i in column_plus_n]\n",
    "ax3.set_yticklabels(column_plus_n, ha='center')\n",
    "ax3.set_xlabel('Substitution rate')\n",
    "for i, pc in enumerate(violin_parts['bodies']):\n",
    "    if i == 0:\n",
    "        pc.set_facecolor('navajowhite')\n",
    "        pc.set_edgecolor('navajowhite')\n",
    "        pc.set_alpha(1)\n",
    "    if i == 1:\n",
    "        pc.set_facecolor('darkorange')\n",
    "        pc.set_edgecolor('darkorange')\n",
    "        pc.set_alpha(1) \n",
    "violin_parts['cmeans'].set_edgecolor('r')\n",
    "\n",
    "ax3.tick_params(axis='y', which='major', pad=25)\n",
    "ax3.set_xlim(0, 30)\n",
    "\n",
    "\n",
    "\n",
    "##################################\n",
    "##################################\n",
    "##################################\n",
    "ax2 = fig.add_subplot(222)\n",
    "violin_parts = ax2.violinplot([df_ratios['Shuffled_rats_codon'], df_ratios['Actual_rats_codon']],\\\n",
    "                              widths=0.9, showextrema=False, showmeans=True, vert=False)\n",
    "for i, pc in enumerate(violin_parts['bodies']):\n",
    "    if i==0:\n",
    "        pc.set_facecolor('0.7')\n",
    "        pc.set_edgecolor('0.7')\n",
    "        pc.set_alpha(1)   \n",
    "    if i==1:\n",
    "        pc.set_facecolor('steelblue')\n",
    "        pc.set_edgecolor('steelblue')\n",
    "        pc.set_alpha(1)\n",
    "violin_parts['cmeans'].set_edgecolor('r')\n",
    "ax2.axvline(1, c='k')\n",
    "ax2.set_yticks(list(range(1,len(columns)+1)))\n",
    "ax2.set_yticklabels(['Shuffled', 'Actual', ], ha='right')\n",
    "\n",
    "\n",
    "\n",
    "ax4 = fig.add_subplot(224, sharex=ax2)\n",
    "violin_parts = ax4.violinplot([df_ratios['Shuffled_rats_trint'], df_ratios['Actual_rats_trint']],\\\n",
    "                              widths=0.9, showextrema=False, showmeans=True, vert=False)\n",
    "for i, pc in enumerate(violin_parts['bodies']):\n",
    "    if i==0:\n",
    "        pc.set_facecolor('0.7')\n",
    "        pc.set_edgecolor('0.7')\n",
    "        pc.set_alpha(1)   \n",
    "    if i==1:\n",
    "        pc.set_facecolor('darkorange')\n",
    "        pc.set_edgecolor('darkorange')\n",
    "        pc.set_alpha(1)\n",
    "violin_parts['cmeans'].set_edgecolor('r')\n",
    "ax4.axvline(1, c='k')\n",
    "ax4.set_yticks(list(range(1,len(columns)+1)))\n",
    "ax4.set_yticklabels(['Shuffled', 'Actual', ], ha='right')\n",
    "\n",
    "\n",
    "ax4.set_xlabel('Substitution rate ratio\\n(SD-like / paired controls)')\n",
    "# ax4.set_xlabel('Substitution rate ratio\\n(SD / paired controls)')\n",
    "\n",
    "plt.setp(ax1.get_xticklabels(), visible=False);\n",
    "plt.setp(ax2.get_xticklabels(), visible=False);\n",
    "\n",
    "ax2.set_xlim(0.8, 1.4)\n",
    "\n",
    "for line in ax1.xaxis.get_ticklines():\n",
    "    line.set_markersize(0)\n",
    "    line.set_markeredgewidth(0)\n",
    "for line in ax2.xaxis.get_ticklines():\n",
    "    line.set_markersize(0)\n",
    "    line.set_markeredgewidth(0)\n",
    "plt.tight_layout(pad=0.5, w_pad=-0.1, h_pad=-0.2)\n",
    "\n",
    "# plt.savefig('../Results/Figures/fig_{}.pdf'.format(file_name_modifiers))"
   ]
  },
  {
   "cell_type": "code",
   "execution_count": null,
   "metadata": {
    "collapsed": false
   },
   "outputs": [],
   "source": []
  },
  {
   "cell_type": "markdown",
   "metadata": {
    "collapsed": false
   },
   "source": [
    "# Fig 2 and its derivatives"
   ]
  },
  {
   "cell_type": "code",
   "execution_count": null,
   "metadata": {
    "collapsed": false
   },
   "outputs": [],
   "source": [
    "###Original Fig 2\n",
    "file_name_modifiers = 'hyphy_Escherichia_Threshold=-20.0to-4.5_Conserved=True_NtRestriction=XXXXX'\n",
    "\n",
    "###Fig 2 with less stringent threshold\n",
    "# file_name_modifiers = 'hyphy_Escherichia_Threshold=-20.0to-3.5_Conserved=True_NtRestriction=XXXXX'\n",
    "\n",
    "###Fig 2 with more stringent threshold\n",
    "file_name_modifiers = 'hyphy_Escherichia_Threshold=-20.0to-5.5_Conserved=True_NtRestriction=XXXXX'\n",
    "\n",
    "###Fig 2 on only weak sites\n",
    "# file_name_modifiers = 'hyphy_Escherichia_Threshold=-4.5to-3.5_Conserved=True_NtRestriction=XXXXX'\n",
    "\n",
    "###Fig 2 with Yersinia as reference species\n",
    "# file_name_modifiers = 'hyphy_Yersinia_Threshold=-20.0to-4.5_Conserved=True_NtRestriction=XXXXX'\n",
    "\n",
    "\n",
    "df_all = pd.read_csv('../Results/Dataframes/df_{}_ratios.csv'.format(file_name_modifiers.replace('XXXXX', 'None')))\n",
    "df_strongest = pd.read_csv('../Results/Dataframes/df_{}_ratios.csv'.format(file_name_modifiers.replace('XXXXX', '0')))\n",
    "df_strong = pd.read_csv('../Results/Dataframes/df_{}_ratios.csv'.format(file_name_modifiers.replace('XXXXX', '1')))\n",
    "df_weak = pd.read_csv('../Results/Dataframes/df_{}_ratios.csv'.format(file_name_modifiers.replace('XXXXX', '2')))\n",
    "df_weakest = pd.read_csv('../Results/Dataframes/df_{}_ratios.csv'.format(file_name_modifiers.replace('XXXXX', '3')))"
   ]
  },
  {
   "cell_type": "code",
   "execution_count": null,
   "metadata": {
    "collapsed": false
   },
   "outputs": [],
   "source": [
    "dfs = [df_all, df_strongest, df_strong, df_weak, df_weakest]\n",
    "\n",
    "for df in dfs:\n",
    "    print('######################################################################')\n",
    "    print('Actual (shuffled) median p-val (codon):', df['Actual_pvals_codon'].median(), '(',\\\n",
    "          df['Shuffled_pvals_codon'].median(), ')')\n",
    "    print('Actual (shuffled) median p-val (trint):', df['Actual_pvals_trint'].median(), '(',\\\n",
    "          df['Shuffled_pvals_trint'].median(), ')')"
   ]
  },
  {
   "cell_type": "code",
   "execution_count": null,
   "metadata": {
    "collapsed": false
   },
   "outputs": [],
   "source": [
    "positions = [1.5, 3, 4.5, 6, 7.5]\n",
    "\n",
    "fig = plt.figure(figsize=(4.5,2.25))\n",
    "ax1 = fig.add_subplot(121)\n",
    "violin_parts = ax1.violinplot([i['Actual_rats_codon'] for i in dfs], positions=positions,\\\n",
    "                              widths=1.2, showextrema=False, showmeans=True, vert=True)\n",
    "for i, pc in enumerate(violin_parts['bodies']):\n",
    "    pc.set_facecolor('steelblue')\n",
    "    pc.set_edgecolor('steelblue')\n",
    "    pc.set_alpha(0.85)   \n",
    "\n",
    "violin_parts['cmeans'].set_edgecolor('r')\n",
    "ax1.axhline(1, c='k')\n",
    "ax1.set_xticks(positions)\n",
    "ax1.set_xticklabels(['All', '0', '1', '2', '3'], ha='center')\n",
    "ax1.set_ylabel('Substitution rate ratio')\n",
    "ax1.set_xlabel('Number of mutations\\n resulting in a stronger\\n SD-like seq', position=(0.6,1))\n",
    "\n",
    "\n",
    "\n",
    "\n",
    "ax2 = fig.add_subplot(122, sharey=ax1)\n",
    "violin_parts = ax2.violinplot([i['Actual_rats_trint'] for i in dfs], positions=positions,\\\n",
    "                              widths=1.2, showextrema=False, showmeans=True, vert=True)\n",
    "for i, pc in enumerate(violin_parts['bodies']):\n",
    "    pc.set_facecolor('darkorange')\n",
    "    pc.set_edgecolor('darkorange')\n",
    "    pc.set_alpha(0.85)\n",
    "    \n",
    "violin_parts['cmeans'].set_edgecolor('r')\n",
    "ax2.axhline(1, c='k')\n",
    "ax2.set_xticks(positions)\n",
    "ax2.set_xticklabels(['All', '0', '1', '2', '3'], ha='center')\n",
    "ax2.set_xlabel('Number of mutations\\n resulting in a stronger\\n SD-like seq', position=(0.6,1))\n",
    "\n",
    "ax1.set_ylim(0.55, 1.4)\n",
    "\n",
    "plt.setp(ax2.get_yticklabels(), visible=False);\n",
    "for line in ax2.yaxis.get_ticklines():\n",
    "    line.set_markersize(0)\n",
    "    line.set_markeredgewidth(0)\n",
    "\n",
    "\n",
    "plt.tight_layout()\n",
    "plt.savefig('../Results/Figures/{}_weakest_vs_strongest_ratios.pdf'.format(file_name_modifiers))"
   ]
  },
  {
   "cell_type": "code",
   "execution_count": null,
   "metadata": {
    "collapsed": true
   },
   "outputs": [],
   "source": []
  },
  {
   "cell_type": "markdown",
   "metadata": {
    "collapsed": true
   },
   "source": [
    "# Fig 3"
   ]
  },
  {
   "cell_type": "code",
   "execution_count": 33,
   "metadata": {
    "collapsed": false
   },
   "outputs": [],
   "source": [
    "###Fig 3 in paper\n",
    "# basic_file_name_structure = '../Results/Dataframes/df_hyphy_Escherichia_Threshold=-20to-4.5_Conserved=True_NtRestriction=0_Subset=XXXXX_ratios.csv'\n",
    "# file_name_modifiers = 'hyphy_Escherichia_Threshold=-20to-4.5_Conserved=True_NtRestriction=0_Subset=XXXXX'\n",
    "\n",
    "basic_file_name_structure = '../Results/Dataframes/df_hyphy_Escherichia_Threshold=-20to-4.5_Conserved=True_NtRestriction=0_Subset=XXXXX_MIDDLELENGTHS_ratios.csv'\n",
    "file_name_modifiers = 'hyphy_Escherichia_Threshold=-20to-4.5_Conserved=True_NtRestriction=0_Subset=XXXXX_MIDDLELENGTHS'\n",
    "\n",
    "###Using weak sites\n",
    "# basic_file_name_structure = '../Results/Dataframes/df_hyphy_Escherichia_Threshold=-20to-4.5_Conserved=True_NtRestriction=3_Subset=XXXXX_ratios.csv'\n",
    "# file_name_modifiers = 'hyphy_Escherichia_Threshold=-20to-4.5_Conserved=True_NtRestriction=3_Subset=XXXXX'\n",
    "\n",
    "\n",
    "###Fig 3 in paper with less stringent threshold\n",
    "# basic_file_name_structure = '../Results/Dataframes/df_hyphy_Escherichia_Threshold=-20to-3.5_Conserved=True_NtRestriction=0_Subset=XXXXX_ratios.csv'\n",
    "# file_name_modifiers = 'hyphy_Escherichia_Threshold=-20to-3.5_Conserved=True_NtRestriction=0_Subset=XXXXX'\n",
    "\n",
    "###Fig 3 in paper with more stringent threshold\n",
    "# basic_file_name_structure = '../Results/Dataframes/df_hyphy_Escherichia_Threshold=-20to-5.5_Conserved=True_NtRestriction=0_Subset=XXXXX_ratios.csv'\n",
    "# file_name_modifiers = 'hyphy_Escherichia_Threshold=-20to-5.5_Conserved=True_NtRestriction=0_Subset=XXXXX'\n",
    "\n",
    "\n",
    "###Fig 3 in paper with Y. pestis location identifiers\n",
    "# basic_file_name_structure = '../Results/Dataframes/df_hyphy_Yersinia_Threshold=-20to-4.5_Conserved=True_NtRestriction=0_Subset=XXXXX_ratios.csv'\n",
    "# file_name_modifiers = 'hyphy_Yersinia_Threshold=-20to-4.5_Conserved=True_NtRestriction=0_Subset=XXXXX'\n",
    "\n",
    "\n",
    "\n",
    "df_lowest = pd.read_csv(basic_file_name_structure.replace('XXXXX', 'lowest'))\n",
    "df_low = pd.read_csv(basic_file_name_structure.replace('XXXXX', 'low'))\n",
    "df_med = pd.read_csv(basic_file_name_structure.replace('XXXXX', 'mid'))\n",
    "df_high = pd.read_csv(basic_file_name_structure.replace('XXXXX', 'high'))\n",
    "df_highest = pd.read_csv(basic_file_name_structure.replace('XXXXX', 'highest'))"
   ]
  },
  {
   "cell_type": "code",
   "execution_count": 34,
   "metadata": {
    "collapsed": false
   },
   "outputs": [
    {
     "data": {
      "text/html": [
       "<div>\n",
       "<style>\n",
       "    .dataframe thead tr:only-child th {\n",
       "        text-align: right;\n",
       "    }\n",
       "\n",
       "    .dataframe thead th {\n",
       "        text-align: left;\n",
       "    }\n",
       "\n",
       "    .dataframe tbody tr th {\n",
       "        vertical-align: top;\n",
       "    }\n",
       "</style>\n",
       "<table border=\"1\" class=\"dataframe\">\n",
       "  <thead>\n",
       "    <tr style=\"text-align: right;\">\n",
       "      <th></th>\n",
       "      <th>Actual_rats_codon</th>\n",
       "      <th>Shuffled_rats_codon</th>\n",
       "      <th>Actual_rats_trint</th>\n",
       "      <th>Shuffled_rats_trint</th>\n",
       "      <th>Actual_pvals_codon</th>\n",
       "      <th>Shuffled_pvals_codon</th>\n",
       "      <th>Actual_pvals_trint</th>\n",
       "      <th>Shuffled_pvals_trint</th>\n",
       "      <th>N_(codon)</th>\n",
       "      <th>N_(trint)</th>\n",
       "    </tr>\n",
       "  </thead>\n",
       "  <tbody>\n",
       "    <tr>\n",
       "      <th>0</th>\n",
       "      <td>1.307879</td>\n",
       "      <td>1.131724</td>\n",
       "      <td>1.633195</td>\n",
       "      <td>1.006515</td>\n",
       "      <td>0.000413</td>\n",
       "      <td>0.313980</td>\n",
       "      <td>3.115087e-06</td>\n",
       "      <td>0.856180</td>\n",
       "      <td>148</td>\n",
       "      <td>101</td>\n",
       "    </tr>\n",
       "    <tr>\n",
       "      <th>1</th>\n",
       "      <td>1.337695</td>\n",
       "      <td>1.005233</td>\n",
       "      <td>1.481002</td>\n",
       "      <td>1.146837</td>\n",
       "      <td>0.000015</td>\n",
       "      <td>0.465795</td>\n",
       "      <td>1.703326e-05</td>\n",
       "      <td>0.300705</td>\n",
       "      <td>148</td>\n",
       "      <td>101</td>\n",
       "    </tr>\n",
       "    <tr>\n",
       "      <th>2</th>\n",
       "      <td>1.302289</td>\n",
       "      <td>0.988700</td>\n",
       "      <td>1.715458</td>\n",
       "      <td>0.955443</td>\n",
       "      <td>0.000392</td>\n",
       "      <td>0.741963</td>\n",
       "      <td>9.409403e-07</td>\n",
       "      <td>0.653531</td>\n",
       "      <td>148</td>\n",
       "      <td>101</td>\n",
       "    </tr>\n",
       "    <tr>\n",
       "      <th>3</th>\n",
       "      <td>1.376682</td>\n",
       "      <td>0.960679</td>\n",
       "      <td>1.698444</td>\n",
       "      <td>1.049581</td>\n",
       "      <td>0.000100</td>\n",
       "      <td>0.724669</td>\n",
       "      <td>1.769608e-07</td>\n",
       "      <td>0.397991</td>\n",
       "      <td>148</td>\n",
       "      <td>101</td>\n",
       "    </tr>\n",
       "    <tr>\n",
       "      <th>4</th>\n",
       "      <td>1.311845</td>\n",
       "      <td>0.972389</td>\n",
       "      <td>1.638255</td>\n",
       "      <td>1.081037</td>\n",
       "      <td>0.000234</td>\n",
       "      <td>0.543968</td>\n",
       "      <td>1.105391e-05</td>\n",
       "      <td>0.361259</td>\n",
       "      <td>148</td>\n",
       "      <td>101</td>\n",
       "    </tr>\n",
       "  </tbody>\n",
       "</table>\n",
       "</div>"
      ],
      "text/plain": [
       "   Actual_rats_codon  Shuffled_rats_codon  Actual_rats_trint  \\\n",
       "0           1.307879             1.131724           1.633195   \n",
       "1           1.337695             1.005233           1.481002   \n",
       "2           1.302289             0.988700           1.715458   \n",
       "3           1.376682             0.960679           1.698444   \n",
       "4           1.311845             0.972389           1.638255   \n",
       "\n",
       "   Shuffled_rats_trint  Actual_pvals_codon  Shuffled_pvals_codon  \\\n",
       "0             1.006515            0.000413              0.313980   \n",
       "1             1.146837            0.000015              0.465795   \n",
       "2             0.955443            0.000392              0.741963   \n",
       "3             1.049581            0.000100              0.724669   \n",
       "4             1.081037            0.000234              0.543968   \n",
       "\n",
       "   Actual_pvals_trint  Shuffled_pvals_trint  N_(codon)  N_(trint)  \n",
       "0        3.115087e-06              0.856180        148        101  \n",
       "1        1.703326e-05              0.300705        148        101  \n",
       "2        9.409403e-07              0.653531        148        101  \n",
       "3        1.769608e-07              0.397991        148        101  \n",
       "4        1.105391e-05              0.361259        148        101  "
      ]
     },
     "execution_count": 34,
     "metadata": {},
     "output_type": "execute_result"
    }
   ],
   "source": [
    "df_highest.head()"
   ]
  },
  {
   "cell_type": "code",
   "execution_count": 35,
   "metadata": {
    "collapsed": false
   },
   "outputs": [
    {
     "name": "stdout",
     "output_type": "stream",
     "text": [
      "######################################################################\n",
      "Actual (shuffled) median p-val (codon): 0.015615174526587916 ( 0.6046207024458066 )\n",
      "Actual (shuffled) median p-val (trint): 0.0030467407070881047 ( 0.5128429254704854 )\n",
      "######################################################################\n",
      "Actual (shuffled) median p-val (codon): 0.0068351962083803295 ( 0.4792673841407191 )\n",
      "Actual (shuffled) median p-val (trint): 0.00018931818238931449 ( 0.5402203416512339 )\n",
      "######################################################################\n",
      "Actual (shuffled) median p-val (codon): 0.010320196392054493 ( 0.5467677364027961 )\n",
      "Actual (shuffled) median p-val (trint): 1.533971169035112e-05 ( 0.43206785429004557 )\n",
      "######################################################################\n",
      "Actual (shuffled) median p-val (codon): 0.010607099143710916 ( 0.48238384701354775 )\n",
      "Actual (shuffled) median p-val (trint): 0.0010278513449038448 ( 0.4820990116330057 )\n",
      "######################################################################\n",
      "Actual (shuffled) median p-val (codon): 7.687958277182434e-05 ( 0.48353902203460775 )\n",
      "Actual (shuffled) median p-val (trint): 6.134177390439357e-06 ( 0.48315840266455296 )\n"
     ]
    }
   ],
   "source": [
    "df_list = [df_lowest, df_low, df_med, df_high, df_highest]\n",
    "to_plot_codon = [list(temp_df['Actual_rats_codon']) for temp_df in df_list]\n",
    "to_plot_trint = [list(temp_df['Actual_rats_trint']) for temp_df in df_list]\n",
    "\n",
    "for df in df_list:\n",
    "    print('######################################################################')\n",
    "    print('Actual (shuffled) median p-val (codon):', df['Actual_pvals_codon'].median(), '(',\\\n",
    "          df['Shuffled_pvals_codon'].median(), ')')\n",
    "    print('Actual (shuffled) median p-val (trint):', df['Actual_pvals_trint'].median(), '(',\\\n",
    "          df['Shuffled_pvals_trint'].median(), ')')"
   ]
  },
  {
   "cell_type": "code",
   "execution_count": 36,
   "metadata": {
    "collapsed": false
   },
   "outputs": [
    {
     "data": {
      "image/png": "[encoded data removed]",
      "text/plain": [
       "<matplotlib.figure.Figure at 0x11d18aeb8>"
      ]
     },
     "metadata": {},
     "output_type": "display_data"
    }
   ],
   "source": [
    "cols = ['Codon_rats_lowest', 'Codon_rats_low', 'Codon_rats_med', 'Codon_rats_high', 'Codon_rats_highest']\n",
    "\n",
    "fig = plt.figure(figsize=(3.5,3.5))\n",
    "ax1 = fig.add_subplot(211)\n",
    "violin_parts = ax1.violinplot(to_plot_codon, positions=[1.5, 3, 4.5, 6, 7.5],\\\n",
    "                              widths=0.9, showextrema=False, showmeans=True, vert=True)\n",
    "for i, pc in enumerate(violin_parts['bodies']):\n",
    "    pc.set_facecolor('steelblue')\n",
    "    pc.set_edgecolor('steelblue')\n",
    "    pc.set_alpha(1)   \n",
    "\n",
    "violin_parts['cmeans'].set_edgecolor('r')\n",
    "ax1.axhline(1, c='k')\n",
    "ax1.set_xticks([1.5, 3, 4.5, 6, 7.5])\n",
    "ax1.set_xticklabels(['Lowest 20%', '', '', '', 'Highest 20%'], ha='center')\n",
    "ax1.set_ylabel('Substitution\\nrate ratio')\n",
    "# ax1.set_ylim(0.95, 1.45)\n",
    "ax1.set_ylim(0.85, 1.5)\n",
    "# ax1.set_ylim(0.5, 1.75)\n",
    "# ax1.set_ylim(0.4, 1.3)\n",
    "\n",
    "\n",
    "ax2 = fig.add_subplot(212, sharex=ax1)\n",
    "violin_parts = ax2.violinplot(to_plot_trint, positions=[1.5, 3, 4.5, 6, 7.5],\\\n",
    "                              widths=0.9, showextrema=False, showmeans=True, vert=True)\n",
    "for i, pc in enumerate(violin_parts['bodies']):\n",
    "    pc.set_facecolor('darkorange')\n",
    "    pc.set_edgecolor('darkorange')\n",
    "    pc.set_alpha(1)\n",
    "violin_parts['cmeans'].set_edgecolor('r')\n",
    "ax2.axhline(1, c='k')\n",
    "ax2.set_xticks([1.5, 3, 4.5, 6, 7.5])\n",
    "ax2.set_xticklabels(['Lowest 20%', '', '', '', 'Highest 20%'], ha='center')\n",
    "ax2.set_ylabel('Substitution\\nrate ratio')\n",
    "ax2.set_xlabel('Gene expression bins')\n",
    "\n",
    "\n",
    "plt.setp(ax1.get_xticklabels(), visible=False);\n",
    "for line in ax1.xaxis.get_ticklines():\n",
    "    line.set_markersize(0)\n",
    "    line.set_markeredgewidth(0)\n",
    "\n",
    "ax1.set_title('Codon control', y=0.96)\n",
    "ax2.set_title('Context control', y=0.96)\n",
    "# ax2.set_ylim(0.95, 1.9)\n",
    "ax2.set_ylim(0.75, 1.95)\n",
    "# ax2.set_ylim(0.5, 1.85)\n",
    "# ax2.set_ylim(0.4, 1.3)\n",
    "plt.tight_layout(h_pad=0.5)\n",
    "\n",
    "plt.savefig('../Results/Figures/{}_expression_bins.pdf'.format(file_name_modifiers))"
   ]
  },
  {
   "cell_type": "code",
   "execution_count": null,
   "metadata": {
    "collapsed": true
   },
   "outputs": [],
   "source": []
  },
  {
   "cell_type": "code",
   "execution_count": null,
   "metadata": {
    "collapsed": true
   },
   "outputs": [],
   "source": []
  },
  {
   "cell_type": "markdown",
   "metadata": {
    "collapsed": true
   },
   "source": [
    "# Protein domain analysis"
   ]
  },
  {
   "cell_type": "code",
   "execution_count": null,
   "metadata": {
    "collapsed": false
   },
   "outputs": [],
   "source": [
    "# df_all_strong = pd.read_csv('../Results/Dataframes/df_hyphy_Escherichia_Threshold=-20.0to-4.5_Conserved=True_NtRestriction=0_ratios.csv')\n",
    "# df_postdomain_strong = pd.read_csv('../Results/Dataframes/df_hyphy_Escherichia_Threshold=-20.0to-4.5_Conserved=True_NtRestriction=0_Position_limitation=POST_DOMAIN_ALL_ratios.csv')\n",
    "# all_dfs = [df_all_strong, df_postdomain_strong]\n",
    "# title = 'Locally strong sites'\n",
    "# save_file = 'domain_strong'\n",
    "\n",
    "df_all_weak = pd.read_csv('../Results/Dataframes/df_hyphy_Escherichia_Threshold=-20.0to-4.5_Conserved=True_NtRestriction=3_ratios.csv')\n",
    "df_postdomain_weak = pd.read_csv('../Results/Dataframes/df_hyphy_Escherichia_Threshold=-20.0to-4.5_Conserved=True_NtRestriction=3_Position_limitation=POST_DOMAIN_ALL_ratios.csv')\n",
    "all_dfs = [df_all_weak, df_postdomain_weak]\n",
    "title = 'Locally weak sites'\n",
    "save_file = 'domain_weak'\n",
    "\n",
    "for df in all_dfs:\n",
    "    print('######################################################################')\n",
    "    print('Actual (shuffled) median p-val (codon):', df['Actual_pvals_codon'].median(), '(',\\\n",
    "          df['Shuffled_pvals_codon'].median(), ')')\n",
    "    print('Actual (shuffled) median p-val (trint):', df['Actual_pvals_trint'].median(), '(',\\\n",
    "          df['Shuffled_pvals_trint'].median(), ')')\n",
    "\n"
   ]
  },
  {
   "cell_type": "code",
   "execution_count": null,
   "metadata": {
    "collapsed": true
   },
   "outputs": [],
   "source": [
    "fig = plt.figure(figsize=(3.5,2))\n",
    "ax1 = fig.add_subplot(111)\n",
    "violin_parts = ax1.violinplot([temp_df['Actual_rats_codon'] for temp_df in all_dfs]+[temp_df['Actual_rats_trint'] for temp_df in all_dfs], positions=[1.5, 3, 4.5, 6],\\\n",
    "                              widths=0.9, showextrema=False, showmeans=True, vert=True)\n",
    "for i, pc in enumerate(violin_parts['bodies']):\n",
    "    if i in [0, 1]:\n",
    "        pc.set_facecolor('steelblue')\n",
    "        pc.set_edgecolor('steelblue')\n",
    "        pc.set_alpha(1)   \n",
    "    elif i in [2,3]:\n",
    "        pc.set_facecolor('darkorange')\n",
    "        pc.set_edgecolor('darkorange')\n",
    "        pc.set_alpha(1) \n",
    "\n",
    "        \n",
    "violin_parts['cmeans'].set_edgecolor('r')\n",
    "ax1.axhline(1, c='k')\n",
    "ax1.set_xticks([1.5, 3, 4.5, 6])\n",
    "ax1.set_xticklabels(['All', 'Post\\nDomain', 'All', 'Post\\nDomain'])\n",
    "ax1.set_ylabel('Substitution\\nrate ratio')\n",
    "\n",
    "ax1.set_ylim(0.6, 1.25)\n",
    "ax1.set_title(title)\n",
    "plt.tight_layout()\n",
    "plt.savefig('../Results/Figures/{}.pdf'.format(save_file))"
   ]
  },
  {
   "cell_type": "code",
   "execution_count": null,
   "metadata": {
    "collapsed": true
   },
   "outputs": [],
   "source": []
  },
  {
   "cell_type": "code",
   "execution_count": null,
   "metadata": {
    "collapsed": true
   },
   "outputs": [],
   "source": []
  },
  {
   "cell_type": "code",
   "execution_count": null,
   "metadata": {
    "collapsed": true
   },
   "outputs": [],
   "source": []
  },
  {
   "cell_type": "code",
   "execution_count": null,
   "metadata": {
    "collapsed": true
   },
   "outputs": [],
   "source": []
  },
  {
   "cell_type": "code",
   "execution_count": null,
   "metadata": {
    "collapsed": true
   },
   "outputs": [],
   "source": []
  },
  {
   "cell_type": "code",
   "execution_count": null,
   "metadata": {
    "collapsed": true
   },
   "outputs": [],
   "source": []
  },
  {
   "cell_type": "code",
   "execution_count": null,
   "metadata": {
    "collapsed": true
   },
   "outputs": [],
   "source": []
  }
 ],
 "metadata": {
  "kernelspec": {
   "display_name": "Python 3",
   "language": "python",
   "name": "python3"
  },
  "language_info": {
   "codemirror_mode": {
    "name": "ipython",
    "version": 3
   },
   "file_extension": ".py",
   "mimetype": "text/x-python",
   "name": "python",
   "nbconvert_exporter": "python",
   "pygments_lexer": "ipython3",
   "version": "3.4.5"
  },
  "toc": {
   "colors": {
    "hover_highlight": "#DAA520",
    "navigate_num": "#000000",
    "navigate_text": "#333333",
    "running_highlight": "#FF0000",
    "selected_highlight": "#FFD700",
    "sidebar_border": "#EEEEEE",
    "wrapper_background": "#FFFFFF"
   },
   "moveMenuLeft": true,
   "nav_menu": {
    "height": "30px",
    "width": "252px"
   },
   "navigate_menu": true,
   "number_sections": true,
   "sideBar": true,
   "threshold": 4,
   "toc_cell": false,
   "toc_section_display": "block",
   "toc_window_display": false,
   "widenNotebook": false
  }
 },
 "nbformat": 4,
 "nbformat_minor": 0
}
