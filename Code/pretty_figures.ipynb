{
 "cells": [
  {
   "cell_type": "code",
   "execution_count": 1,
   "metadata": {
    "collapsed": true
   },
   "outputs": [],
   "source": [
    "%matplotlib inline"
   ]
  },
  {
   "cell_type": "code",
   "execution_count": 2,
   "metadata": {
    "collapsed": true
   },
   "outputs": [],
   "source": [
    "import pandas as pd\n",
    "from matplotlib import pyplot as plt\n",
    "import numpy as np"
   ]
  },
  {
   "cell_type": "code",
   "execution_count": 3,
   "metadata": {
    "collapsed": true
   },
   "outputs": [],
   "source": [
    "import matplotlib\n",
    "matplotlib.rcParams['xtick.labelsize'] = 9\n",
    "matplotlib.rcParams['ytick.labelsize'] = 9\n",
    "matplotlib.rcParams['axes.labelsize'] = 9\n",
    "matplotlib.rcParams['axes.titlesize'] = 10\n",
    "\n",
    "matplotlib.rcParams['axes.grid'] = True\n",
    "matplotlib.rcParams['grid.color'] = '0.8'\n",
    "matplotlib.rcParams['grid.linewidth'] = '0.5'\n",
    "\n",
    "matplotlib.rcParams['axes.edgecolor'] = '0.25'\n",
    "matplotlib.rcParams['xtick.color'] = '0'\n",
    "matplotlib.rcParams['ytick.color'] = '0'\n",
    "\n",
    "matplotlib.rcParams['xtick.major.width'] = 2\n",
    "matplotlib.rcParams['ytick.major.width'] = 2\n",
    "matplotlib.rcParams['ytick.major.size'] = 5\n",
    "matplotlib.rcParams['xtick.major.size'] = 5\n",
    "# matplotlib.rcParams['axes.spines.right'] = False\n",
    "# matplotlib.rcParams['axes.spines.left'] = False\n",
    "# matplotlib.rcParams['axes.spines.top'] = False\n",
    "# matplotlib.rcParams['axes.spines.bottom'] = False\n",
    "\n",
    "matplotlib.rcParams['font.family'] = 'sans-serif'\n",
    "matplotlib.rcParams['font.weight']='ultralight'\n",
    "# matplotlib.rcParams['font.sans-serif'] = ['Computer Modern Sans Serif']\n",
    "matplotlib.rcParams['axes.axisbelow'] = True"
   ]
  },
  {
   "cell_type": "markdown",
   "metadata": {},
   "source": [
    "# Fig1"
   ]
  },
  {
   "cell_type": "code",
   "execution_count": 12,
   "metadata": {
    "collapsed": false
   },
   "outputs": [],
   "source": [
    "# file_name_modifiers = 'df_hyphy_Escherichia_Threshold=-20.0to-4.5_Conserved=True_NtRestriction=None'\n",
    "file_name_modifiers = 'df_hyphy_Escherichia_Threshold=-20.0to-4.5_Conserved=True_NtRestriction=None_Subset=preceding_Position_limitation=3prime'\n",
    "df_raw = pd.read_csv('../Results/Dataframes/{}_all.csv'.format(file_name_modifiers))\n",
    "df_ratios = pd.read_csv('../Results/Dataframes/{}_ratios.csv'.format(file_name_modifiers))"
   ]
  },
  {
   "cell_type": "code",
   "execution_count": 13,
   "metadata": {
    "collapsed": false
   },
   "outputs": [
    {
     "data": {
      "image/png": "[encoded data removed]",
      "text/plain": [
       "<matplotlib.figure.Figure at 0x108ea2160>"
      ]
     },
     "metadata": {},
     "output_type": "display_data"
    }
   ],
   "source": [
    "fig = plt.figure(figsize=(5,2.5))\n",
    "ax1 = fig.add_subplot(221)\n",
    "columns = ['Control\\n(codon)', 'SD-like(codon)']\n",
    "plot_data = [df_raw[df_raw[i].isnull()==False][i] for i in columns]\n",
    "violin_parts = ax1.violinplot(plot_data, points=1000, showextrema=False, showmeans=True, widths=0.9, vert=False);\n",
    "ax1.set_yticks(list(range(1,len(columns)+1)))\n",
    "# column_plus_n = [i.split('\\n')[0]+'\\n (n={})'.format(len(df_raw[df_raw[i].isnull()==False])) for i in columns]\n",
    "column_plus_n = [i.split('\\n')[0]+'\\n   (n={})  '.format(len(df_raw[df_raw[i].isnull()==False])) for i in columns]\n",
    "column_plus_n = [i.replace('(codon)', '') for i in column_plus_n]\n",
    "ax1.set_yticklabels(column_plus_n, ha='center')\n",
    "for i, pc in enumerate(violin_parts['bodies']):\n",
    "    if i == 0:\n",
    "        pc.set_facecolor('lightsteelblue')\n",
    "        pc.set_edgecolor('lightsteelblue')\n",
    "        pc.set_alpha(1)\n",
    "    if i == 1:\n",
    "        pc.set_facecolor('steelblue')\n",
    "        pc.set_edgecolor('steelblue')\n",
    "        pc.set_alpha(1) \n",
    "violin_parts['cmeans'].set_edgecolor('r')\n",
    "ax1.tick_params(axis='y', which='major', pad=25)\n",
    "\n",
    "ax3 = fig.add_subplot(223, sharex=ax1)\n",
    "columns = ['Control\\n(context)', 'SD-like(trint)']\n",
    "plot_data = [df_raw[df_raw[i].isnull()==False][i] for i in columns]\n",
    "violin_parts = ax3.violinplot(plot_data, points=1000, showextrema=False, showmeans=True, widths=0.9, vert=False);\n",
    "ax3.set_yticks(list(range(1,len(columns)+1)))\n",
    "column_plus_n = [i.split('\\n')[0]+'\\n (n={})'.format(len(df_raw[df_raw[i].isnull()==False])) for i in columns]\n",
    "column_plus_n = [i.replace('(trint)', '') for i in column_plus_n]\n",
    "ax3.set_yticklabels(column_plus_n, ha='center')\n",
    "ax3.set_xlabel('Substitution rate')\n",
    "for i, pc in enumerate(violin_parts['bodies']):\n",
    "    if i == 0:\n",
    "        pc.set_facecolor('navajowhite')\n",
    "        pc.set_edgecolor('navajowhite')\n",
    "        pc.set_alpha(1)\n",
    "    if i == 1:\n",
    "        pc.set_facecolor('darkorange')\n",
    "        pc.set_edgecolor('darkorange')\n",
    "        pc.set_alpha(1) \n",
    "violin_parts['cmeans'].set_edgecolor('r')\n",
    "\n",
    "ax3.tick_params(axis='y', which='major', pad=25)\n",
    "# ax3.set_xlim(0, 10)\n",
    "# ax3.set_xlim(0, 20)\n",
    "\n",
    "ax2 = fig.add_subplot(222)\n",
    "violin_parts = ax2.violinplot([df_ratios['Shuffled_rats_codon'], df_ratios['Actual_rats_codon'],],\\\n",
    "                              widths=0.9, showextrema=False, showmeans=True, vert=False)\n",
    "for i, pc in enumerate(violin_parts['bodies']):\n",
    "    if i==0:\n",
    "        pc.set_facecolor('0.7')\n",
    "        pc.set_edgecolor('0.7')\n",
    "        pc.set_alpha(1)   \n",
    "    if i==1:\n",
    "        pc.set_facecolor('steelblue')\n",
    "        pc.set_edgecolor('steelblue')\n",
    "        pc.set_alpha(1)\n",
    "violin_parts['cmeans'].set_edgecolor('r')\n",
    "ax2.axvline(1, c='k')\n",
    "ax2.set_yticks(list(range(1,len(columns)+1)))\n",
    "ax2.set_yticklabels(['Shuffled', 'Actual', ], ha='right')\n",
    "\n",
    "ax4 = fig.add_subplot(224, sharex=ax2)\n",
    "violin_parts = ax4.violinplot([df_ratios['Shuffled_rats_trint'], df_ratios['Actual_rats_trint']],\\\n",
    "                              widths=0.9, showextrema=False, showmeans=True, vert=False)\n",
    "for i, pc in enumerate(violin_parts['bodies']):\n",
    "    if i==0:\n",
    "        pc.set_facecolor('0.7')\n",
    "        pc.set_edgecolor('0.7')\n",
    "        pc.set_alpha(1)   \n",
    "    if i==1:\n",
    "        pc.set_facecolor('darkorange')\n",
    "        pc.set_edgecolor('darkorange')\n",
    "        pc.set_alpha(1)\n",
    "violin_parts['cmeans'].set_edgecolor('r')\n",
    "ax4.axvline(1, c='k')\n",
    "ax4.set_yticks(list(range(1,len(columns)+1)))\n",
    "ax4.set_yticklabels(['Shuffled', 'Actual', ], ha='right')\n",
    "# ax4.set_xticks(np.arange(0, 2.1, 1))\n",
    "# ax4.set_xlim(0, 2.1)\n",
    "# ax4.set_xlim(0.25, 1.3)\n",
    "# ax4.set_xlim(0.88, 1.41)\n",
    "\n",
    "\n",
    "ax4.set_xlabel('Substitution rate ratio\\n(SD-like / paired controls)')\n",
    "plt.setp(ax2.get_xticklabels(), visible=False);\n",
    "plt.setp(ax1.get_xticklabels(), visible=False);\n",
    "\n",
    "\n",
    "for line in ax2.xaxis.get_ticklines():\n",
    "    line.set_markersize(0)\n",
    "    line.set_markeredgewidth(0)\n",
    "for line in ax1.xaxis.get_ticklines():\n",
    "    line.set_markersize(0)\n",
    "    line.set_markeredgewidth(0)\n",
    "plt.tight_layout(pad=0.5, w_pad=-0.1, h_pad=-0.2)\n",
    "\n",
    "plt.savefig('../Results/Figures/fig_{}.pdf'.format(file_name_modifiers))"
   ]
  },
  {
   "cell_type": "markdown",
   "metadata": {
    "collapsed": false
   },
   "source": [
    "# Comparing nucleotide identities"
   ]
  },
  {
   "cell_type": "code",
   "execution_count": null,
   "metadata": {
    "collapsed": false
   },
   "outputs": [],
   "source": [
    "file_name_modifiers = 'hyphy_Escherichia_Threshold=-20.0to-4.5_Conserved=True_NtRestriction=XXXXX'\n",
    "df_all = pd.read_csv('../Results/Dataframes/df_{}_ratios.csv'.format(file_name_modifiers.replace('XXXXX', 'None')))\n",
    "df_strongest = pd.read_csv('../Results/Dataframes/df_{}_ratios.csv'.format(file_name_modifiers.replace('XXXXX', '0')))\n",
    "df_strong = pd.read_csv('../Results/Dataframes/df_{}_ratios.csv'.format(file_name_modifiers.replace('XXXXX', '1')))\n",
    "df_weak = pd.read_csv('../Results/Dataframes/df_{}_ratios.csv'.format(file_name_modifiers.replace('XXXXX', '2')))\n",
    "df_weakest = pd.read_csv('../Results/Dataframes/df_{}_ratios.csv'.format(file_name_modifiers.replace('XXXXX', '3')))\n",
    "\n"
   ]
  },
  {
   "cell_type": "code",
   "execution_count": null,
   "metadata": {
    "collapsed": false
   },
   "outputs": [],
   "source": [
    "dfs = [df_all, df_strongest, df_strong, df_weak, df_weakest]\n",
    "positions = [1.5, 3, 4.5, 6, 7.5]\n",
    "fig = plt.figure(figsize=(4.5,2.25))\n",
    "ax1 = fig.add_subplot(121)\n",
    "violin_parts = ax1.violinplot([i['Actual_rats_codon'] for i in dfs], positions=positions,\\\n",
    "                              widths=0.9, showextrema=False, showmeans=True, vert=True)\n",
    "for i, pc in enumerate(violin_parts['bodies']):\n",
    "    pc.set_facecolor('steelblue')\n",
    "    pc.set_edgecolor('steelblue')\n",
    "    pc.set_alpha(0.85)   \n",
    "\n",
    "violin_parts['cmeans'].set_edgecolor('r')\n",
    "ax1.axhline(1, c='k')\n",
    "ax1.set_xticks(positions)\n",
    "ax1.set_xticklabels(['All', '0', '1', '2', '3'], ha='center')\n",
    "ax1.set_ylabel('Substitution rate ratio')\n",
    "ax1.set_xlabel('Mutations resulting in\\na stronger SD-like seq', position=(0.6,1))\n",
    "\n",
    "\n",
    "\n",
    "\n",
    "\n",
    "ax2 = fig.add_subplot(122, sharey=ax1)\n",
    "violin_parts = ax2.violinplot([i['Actual_rats_trint'] for i in dfs], positions=positions,\\\n",
    "                              widths=0.9, showextrema=False, showmeans=True, vert=True)\n",
    "for i, pc in enumerate(violin_parts['bodies']):\n",
    "    pc.set_facecolor('darkorange')\n",
    "    pc.set_edgecolor('darkorange')\n",
    "    pc.set_alpha(0.85)\n",
    "    \n",
    "violin_parts['cmeans'].set_edgecolor('r')\n",
    "ax2.axhline(1, c='k')\n",
    "ax2.set_xticks(positions)\n",
    "ax2.set_xticklabels(['All', '0', '1', '2', '3'], ha='center')\n",
    "ax2.set_xlabel('Mutations resulting in\\na stronger SD-like seq', position=(0.6,1))\n",
    "\n",
    "plt.setp(ax2.get_yticklabels(), visible=False);\n",
    "for line in ax2.yaxis.get_ticklines():\n",
    "    line.set_markersize(0)\n",
    "    line.set_markeredgewidth(0)\n",
    "\n",
    "# plt.tight_layout()\n",
    "# plt.savefig('../Results/Figures/weakest_vs_strongest_ratios.pdf')"
   ]
  },
  {
   "cell_type": "code",
   "execution_count": null,
   "metadata": {
    "collapsed": true
   },
   "outputs": [],
   "source": []
  },
  {
   "cell_type": "code",
   "execution_count": null,
   "metadata": {
    "collapsed": true
   },
   "outputs": [],
   "source": [
    "file_name_modifiers = 'hyphy_Escherichia_Threshold=-20.0to-4.5_Conserved=True_NtRestriction='\n",
    "df_all = pd.read_csv('../Results/Dataframes/df_{}None_all.csv'.format(file_name_modifiers))\n",
    "df_strongest = pd.read_csv('../Results/Dataframes/df_{}0_all.csv'.format(file_name_modifiers))\n",
    "df_strong = pd.read_csv('../Results/Dataframes/df_{}1_all.csv'.format(file_name_modifiers))\n",
    "df_weak = pd.read_csv('../Results/Dataframes/df_{}2_all.csv'.format(file_name_modifiers))\n",
    "df_weakest = pd.read_csv('../Results/Dataframes/df_{}3_all.csv'.format(file_name_modifiers))"
   ]
  },
  {
   "cell_type": "code",
   "execution_count": null,
   "metadata": {
    "collapsed": false
   },
   "outputs": [],
   "source": [
    "print(len(df_all.index), len(df_all[df_all['SD-like(trint)'].isnull() == False].index))\n",
    "print(len(df_all.index), len(df_strongest[df_strongest['SD-like(trint)'].isnull() == False].index))\n",
    "print(len(df_all.index), len(df_strong[df_strong['SD-like(trint)'].isnull() == False].index))\n",
    "print(len(df_all.index), len(df_weak[df_weak['SD-like(trint)'].isnull() == False].index))\n",
    "print(len(df_all.index), len(df_weakest[df_weakest['SD-like(trint)'].isnull() == False].index))\n"
   ]
  },
  {
   "cell_type": "markdown",
   "metadata": {
    "collapsed": true
   },
   "source": [
    "# Reading in expression ratio results"
   ]
  },
  {
   "cell_type": "code",
   "execution_count": null,
   "metadata": {
    "collapsed": false
   },
   "outputs": [],
   "source": [
    "basic_file_name_structure = '../Results/Dataframes/df_hyphy_Escherichia_Threshold=-20to-4.5_Conserved=True_NtRestriction=1_Subset=XXXXX_ratios.csv'\n",
    "df_lowest = pd.read_csv(basic_file_name_structure.replace('XXXXX', 'lowest'))\n",
    "df_low = pd.read_csv(basic_file_name_structure.replace('XXXXX', 'low'))\n",
    "df_med = pd.read_csv(basic_file_name_structure.replace('XXXXX', 'mid'))\n",
    "df_high = pd.read_csv(basic_file_name_structure.replace('XXXXX', 'high'))\n",
    "df_highest = pd.read_csv(basic_file_name_structure.replace('XXXXX', 'highest'))"
   ]
  },
  {
   "cell_type": "code",
   "execution_count": null,
   "metadata": {
    "collapsed": true
   },
   "outputs": [],
   "source": [
    "df_list = [df_lowest, df_low, df_med, df_high, df_highest]\n",
    "to_plot_codon = [list(temp_df['Actual_rats_codon']) for temp_df in df_list]\n",
    "to_plot_trint = [list(temp_df['Actual_rats_trint']) for temp_df in df_list]"
   ]
  },
  {
   "cell_type": "code",
   "execution_count": null,
   "metadata": {
    "collapsed": false
   },
   "outputs": [],
   "source": [
    "cols = ['Codon_rats_lowest', 'Codon_rats_low', 'Codon_rats_med', 'Codon_rats_high', 'Codon_rats_highest']\n",
    "\n",
    "fig = plt.figure(figsize=(3.5,3.5))\n",
    "ax1 = fig.add_subplot(211)\n",
    "violin_parts = ax1.violinplot(to_plot_codon, positions=[1.5, 3, 4.5, 6, 7.5],\\\n",
    "                              widths=0.9, showextrema=False, showmeans=True, vert=True)\n",
    "for i, pc in enumerate(violin_parts['bodies']):\n",
    "    pc.set_facecolor('steelblue')\n",
    "    pc.set_edgecolor('steelblue')\n",
    "    pc.set_alpha(1)   \n",
    "\n",
    "violin_parts['cmeans'].set_edgecolor('r')\n",
    "ax1.axhline(1, c='k')\n",
    "ax1.set_xticks([1.5, 3, 4.5, 6, 7.5])\n",
    "ax1.set_xticklabels(['Lowest 20%', '', '', '', 'Highest 20%'], ha='center')\n",
    "ax1.set_ylabel('Substitution\\nrate ratio')\n",
    "\n",
    "\n",
    "ax2 = fig.add_subplot(212, sharex=ax1)\n",
    "violin_parts = ax2.violinplot(to_plot_trint, positions=[1.5, 3, 4.5, 6, 7.5],\\\n",
    "                              widths=0.9, showextrema=False, showmeans=True, vert=True)\n",
    "for i, pc in enumerate(violin_parts['bodies']):\n",
    "    pc.set_facecolor('darkorange')\n",
    "    pc.set_edgecolor('darkorange')\n",
    "    pc.set_alpha(1)\n",
    "violin_parts['cmeans'].set_edgecolor('r')\n",
    "ax2.axhline(1, c='k')\n",
    "ax2.set_xticks([1.5, 3, 4.5, 6, 7.5])\n",
    "ax2.set_xticklabels(['Lowest 20%', '', '', '', 'Highest 20%'], ha='center')\n",
    "ax2.set_ylabel('Substitution\\nrate ratio')\n",
    "ax2.set_xlabel('Gene expression bins')\n",
    "\n",
    "\n",
    "plt.setp(ax1.get_xticklabels(), visible=False);\n",
    "for line in ax1.xaxis.get_ticklines():\n",
    "    line.set_markersize(0)\n",
    "    line.set_markeredgewidth(0)\n",
    "\n",
    "ax1.set_title('Codon control', y=0.96)\n",
    "ax2.set_title('Context control', y=0.96)\n",
    "plt.tight_layout(h_pad=0.5)\n",
    "\n",
    "# plt.savefig('../Results/Figures/ratio_expression_bins.pdf')"
   ]
  },
  {
   "cell_type": "code",
   "execution_count": null,
   "metadata": {
    "collapsed": true
   },
   "outputs": [],
   "source": []
  },
  {
   "cell_type": "code",
   "execution_count": null,
   "metadata": {
    "collapsed": true
   },
   "outputs": [],
   "source": []
  },
  {
   "cell_type": "markdown",
   "metadata": {
    "collapsed": true
   },
   "source": [
    "# Protein domain analysis"
   ]
  },
  {
   "cell_type": "code",
   "execution_count": null,
   "metadata": {
    "collapsed": false
   },
   "outputs": [],
   "source": [
    "df = pd.read_csv('../Results/temp_df_domain_analysis_all_NTrestriction=0_ratios.csv')\n",
    "# df = pd.read_csv('../Results/temp_df_domain_analysis_cotrans_NTrestriction=0_ratios.csv')\n",
    "\n",
    "\n",
    "\n",
    "cols = ['Actual_rats_codon_domain', 'Actual_rats_codon_post_domain', 'Actual_rats_trint_domain', 'Actual_rats_trint_post_domain']\n",
    "\n",
    "fig = plt.figure(figsize=(3.5,3.5))\n",
    "ax1 = fig.add_subplot(211)\n",
    "violin_parts = ax1.violinplot([df[i] for i in cols], positions=[1.5, 3, 4.5, 6],\\\n",
    "                              widths=0.9, showextrema=False, showmeans=True, vert=True)\n",
    "for i, pc in enumerate(violin_parts['bodies']):\n",
    "    if i in [0, 1]:\n",
    "        pc.set_facecolor('steelblue')\n",
    "        pc.set_edgecolor('steelblue')\n",
    "        pc.set_alpha(1)   \n",
    "    elif i in [2,3]:\n",
    "        pc.set_facecolor('darkorange')\n",
    "        pc.set_edgecolor('darkorange')\n",
    "        pc.set_alpha(1) \n",
    "        \n",
    "violin_parts['cmeans'].set_edgecolor('r')\n",
    "ax1.axhline(1, c='k')\n",
    "ax1.set_xticks([1.5, 3, 4.5, 6])\n",
    "ax1.set_xticklabels([''])\n",
    "ax1.set_ylabel('Substitution\\nrate ratio')\n",
    "ax1.set_title('Locally strong sites')\n",
    "\n",
    "\n",
    "\n",
    "\n",
    "\n",
    "###############################\n",
    "df = pd.read_csv('../Results/temp_df_domain_analysis_all_NTrestriction=3_ratios.csv')\n",
    "# df = pd.read_csv('../Results/temp_df_domain_analysis_cotrans_NTrestriction=3_ratios.csv')\n",
    "\n",
    "\n",
    "cols = ['Actual_rats_codon_domain', 'Actual_rats_codon_post_domain', 'Actual_rats_trint_domain', 'Actual_rats_trint_post_domain']\n",
    "\n",
    "ax2 = fig.add_subplot(212)\n",
    "violin_parts = ax2.violinplot([df[i] for i in cols], positions=[1.5, 3, 4.5, 6],\\\n",
    "                              widths=0.9, showextrema=False, showmeans=True, vert=True)\n",
    "for i, pc in enumerate(violin_parts['bodies']):\n",
    "    if i in [0, 1]:\n",
    "        pc.set_facecolor('steelblue')\n",
    "        pc.set_edgecolor('steelblue')\n",
    "        pc.set_alpha(1)   \n",
    "    elif i in [2,3]:\n",
    "        pc.set_facecolor('darkorange')\n",
    "        pc.set_edgecolor('darkorange')\n",
    "        pc.set_alpha(1) \n",
    "        \n",
    "violin_parts['cmeans'].set_edgecolor('r')\n",
    "ax2.axhline(1, c='k')\n",
    "ax2.set_xticks([1.5, 3, 4.5, 6])\n",
    "ax2.set_xticklabels(['Inside\\nDomain', 'Post\\nDomain', 'Inside\\nDomain', 'Post\\nDomain'], ha='center', rotation=0)\n",
    "ax2.set_ylabel('Substitution\\nrate ratio')\n",
    "ax2.set_title('Locally weak sites')\n",
    "ax2.set_yticks([0.7, 1.0, 1.3])\n",
    "\n",
    "plt.setp(ax1.get_xticklabels(), visible=False);\n",
    "for line in ax1.xaxis.get_ticklines():\n",
    "    line.set_markersize(0)\n",
    "    line.set_markeredgewidth(0)\n",
    "plt.tight_layout()\n",
    "\n",
    "\n",
    "plt.savefig('../Results/Figures/domains_all.pdf')"
   ]
  },
  {
   "cell_type": "code",
   "execution_count": null,
   "metadata": {
    "collapsed": true
   },
   "outputs": [],
   "source": []
  },
  {
   "cell_type": "code",
   "execution_count": null,
   "metadata": {
    "collapsed": true
   },
   "outputs": [],
   "source": []
  },
  {
   "cell_type": "code",
   "execution_count": null,
   "metadata": {
    "collapsed": true
   },
   "outputs": [],
   "source": []
  },
  {
   "cell_type": "code",
   "execution_count": null,
   "metadata": {
    "collapsed": true
   },
   "outputs": [],
   "source": []
  },
  {
   "cell_type": "code",
   "execution_count": null,
   "metadata": {
    "collapsed": true
   },
   "outputs": [],
   "source": []
  },
  {
   "cell_type": "code",
   "execution_count": null,
   "metadata": {
    "collapsed": true
   },
   "outputs": [],
   "source": []
  },
  {
   "cell_type": "code",
   "execution_count": null,
   "metadata": {
    "collapsed": true
   },
   "outputs": [],
   "source": []
  },
  {
   "cell_type": "code",
   "execution_count": null,
   "metadata": {
    "collapsed": true
   },
   "outputs": [],
   "source": []
  },
  {
   "cell_type": "code",
   "execution_count": null,
   "metadata": {
    "collapsed": true
   },
   "outputs": [],
   "source": []
  }
 ],
 "metadata": {
  "kernelspec": {
   "display_name": "Python 3",
   "language": "python",
   "name": "python3"
  },
  "language_info": {
   "codemirror_mode": {
    "name": "ipython",
    "version": 3
   },
   "file_extension": ".py",
   "mimetype": "text/x-python",
   "name": "python",
   "nbconvert_exporter": "python",
   "pygments_lexer": "ipython3",
   "version": "3.4.5"
  },
  "toc": {
   "colors": {
    "hover_highlight": "#DAA520",
    "navigate_num": "#000000",
    "navigate_text": "#333333",
    "running_highlight": "#FF0000",
    "selected_highlight": "#FFD700",
    "sidebar_border": "#EEEEEE",
    "wrapper_background": "#FFFFFF"
   },
   "moveMenuLeft": true,
   "nav_menu": {
    "height": "30px",
    "width": "252px"
   },
   "navigate_menu": true,
   "number_sections": true,
   "sideBar": true,
   "threshold": 4,
   "toc_cell": false,
   "toc_section_display": "block",
   "toc_window_display": false,
   "widenNotebook": false
  }
 },
 "nbformat": 4,
 "nbformat_minor": 0
}
