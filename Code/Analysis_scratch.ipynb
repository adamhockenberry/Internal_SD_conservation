{
 "cells": [
  {
   "cell_type": "code",
   "execution_count": 1,
   "metadata": {
    "collapsed": false
   },
   "outputs": [],
   "source": [
    "%matplotlib inline"
   ]
  },
  {
   "cell_type": "code",
   "execution_count": 2,
   "metadata": {
    "collapsed": false
   },
   "outputs": [],
   "source": [
    "import matplotlib\n",
    "matplotlib.rcParams['xtick.labelsize'] = 9\n",
    "matplotlib.rcParams['ytick.labelsize'] = 9\n",
    "matplotlib.rcParams['axes.labelsize'] = 9\n",
    "matplotlib.rcParams['axes.titlesize'] = 10\n",
    "\n",
    "matplotlib.rcParams['axes.grid'] = True\n",
    "matplotlib.rcParams['grid.color'] = '0.5'\n",
    "matplotlib.rcParams['grid.linewidth'] = '0.5'\n",
    "\n",
    "matplotlib.rcParams['axes.edgecolor'] = '0.25'\n",
    "matplotlib.rcParams['xtick.color'] = '0'\n",
    "matplotlib.rcParams['ytick.color'] = '0'\n",
    "\n",
    "matplotlib.rcParams['xtick.major.width'] = 2\n",
    "matplotlib.rcParams['ytick.major.width'] = 2\n",
    "matplotlib.rcParams['ytick.major.size'] = 5\n",
    "matplotlib.rcParams['xtick.major.size'] = 5\n",
    "matplotlib.rcParams['axes.spines.right'] = True\n",
    "matplotlib.rcParams['axes.spines.left'] = True\n",
    "matplotlib.rcParams['axes.spines.top'] = True\n",
    "matplotlib.rcParams['axes.spines.bottom'] = True\n",
    "\n",
    "\n",
    "matplotlib.rcParams['font.family'] = 'sans-serif'\n",
    "matplotlib.rcParams['font.weight']='ultralight'\n",
    "# matplotlib.rcParams['font.sans-serif'] = ['Computer Modern Sans Serif']\n",
    "matplotlib.rcParams['axes.axisbelow'] = True"
   ]
  },
  {
   "cell_type": "code",
   "execution_count": 3,
   "metadata": {
    "collapsed": false
   },
   "outputs": [],
   "source": [
    "import glob\n",
    "from matplotlib import pyplot as plt\n",
    "from matplotlib import gridspec\n",
    "import numpy as np\n",
    "from Bio import SeqIO\n",
    "from scipy import stats\n",
    "import re\n",
    "import random\n",
    "import pandas as pd\n",
    "import json\n",
    "\n",
    "from Bio.Data import CodonTable\n",
    "import itertools\n",
    "from collections import Counter\n",
    "\n",
    "from bisect import bisect"
   ]
  },
  {
   "cell_type": "code",
   "execution_count": 4,
   "metadata": {
    "collapsed": false
   },
   "outputs": [],
   "source": [
    "def get_codon_dicts(n=11):\n",
    "    GivenCodonTable = CodonTable.unambiguous_dna_by_id[n]\n",
    "    nucleotides = ['A', 'T', 'C', 'G']\n",
    "    aa_to_codons = {}\n",
    "    for first in nucleotides:\n",
    "        for second in nucleotides:\n",
    "            for third in nucleotides:\n",
    "                Codon = first + second + third\n",
    "                if Codon not in CodonTable.unambiguous_dna_by_id[n].stop_codons:\n",
    "                    if GivenCodonTable.forward_table[Codon] in aa_to_codons.keys():\n",
    "                            aa_to_codons[GivenCodonTable.forward_table[Codon]].append(Codon)\n",
    "                    else:\n",
    "                        aa_to_codons[GivenCodonTable.forward_table[Codon]] = [Codon]\n",
    "                else:\n",
    "                    pass\n",
    "    codon_to_aa = {}\n",
    "    for aa, syns in aa_to_codons.items():\n",
    "        for syn in syns:\n",
    "            codon_to_aa[syn] = aa\n",
    "    return aa_to_codons, codon_to_aa\n",
    "\n",
    "aa_to_codon_dict, codon_to_aa_dict = get_codon_dicts()\n",
    "\n",
    "temp = []\n",
    "for aa in ['P', 'T', 'A', 'V', 'G']:\n",
    "    temp.extend(aa_to_codon_dict[aa])\n",
    "\n",
    "redundant_codons = ['CTA', 'CTG', 'CTC', 'CTT',\\\n",
    "                    'TCA', 'TCG', 'TCC', 'TCT',\\\n",
    "                    'CGA', 'CGG', 'CGC', 'CGT'] + temp\n"
   ]
  },
  {
   "cell_type": "markdown",
   "metadata": {},
   "source": [
    "# Get the sequences for each gene for testing purposes later\n",
    "Note: this requires establishing a reference genome that you will use later"
   ]
  },
  {
   "cell_type": "code",
   "execution_count": 5,
   "metadata": {
    "collapsed": false
   },
   "outputs": [
    {
     "name": "stdout",
     "output_type": "stream",
     "text": [
      "Number of records: 61\n"
     ]
    }
   ],
   "source": [
    "base_genome = '511145.12' #This is E. coli K12\n",
    "species_name = 'Escherichia'\n",
    "seq_dicty = {}\n",
    "for infile_name in glob.glob('../Data/Orthologs/Order_Enterobacterales_Mixed/mfastas_nt/*.mfasta'):\n",
    "    gene_name = infile_name.split('/')[-1].strip('.mfasta')\n",
    "    records = list(SeqIO.parse(infile_name, 'fasta'))\n",
    "    for record in records:\n",
    "        try:\n",
    "            seq_dicty[record.id][gene_name] = str(record.seq)\n",
    "        except KeyError:\n",
    "            seq_dicty[record.id] = {}\n",
    "            seq_dicty[record.id][gene_name] = str(record.seq)\n",
    "print('Number of records: {}'.format(len(seq_dicty.keys())))"
   ]
  },
  {
   "cell_type": "code",
   "execution_count": 6,
   "metadata": {
    "collapsed": true
   },
   "outputs": [],
   "source": [
    "#######To analyze a different genome as a reference, run this cell instead and \n",
    "#######just pretend that it's E. coli which makes the code easier\n",
    "# base_genome = '511145.12' #This is E. coli K12\n",
    "# new_base_genome = '214092.21'\n",
    "# species_name = 'Yersinia'\n",
    "# seq_dicty = {}\n",
    "# # for infile_name in glob.glob('../Data/Orthologs/Order_Enterobacterales_Reference/mfastas_nt/*.mfasta'):\n",
    "# # for infile_name in glob.glob('../Data/Orthologs/Order_Enterobacterales_Representative/mfastas_nt/*.mfasta'):\n",
    "# for infile_name in glob.glob('../Data/Orthologs/Order_Enterobacterales_Mixed/mfastas_nt/*.mfasta'):\n",
    "# #     print(infile_name)\n",
    "#     gene_name = infile_name.split('/')[-1].strip('.mfasta')\n",
    "#     records = list(SeqIO.parse(infile_name, 'fasta'))\n",
    "#     for record in records:\n",
    "#         if record.id not in [base_genome, new_base_genome]:\n",
    "#             try:\n",
    "#                 seq_dicty[record.id][gene_name] = str(record.seq)\n",
    "#             except KeyError:\n",
    "#                 seq_dicty[record.id] = {}\n",
    "#                 seq_dicty[record.id][gene_name] = str(record.seq)\n",
    "#         elif record.id == base_genome:\n",
    "#             try:\n",
    "#                 seq_dicty[new_base_genome][gene_name] = str(record.seq)\n",
    "#             except KeyError:\n",
    "#                 seq_dicty[new_base_genome] = {}\n",
    "#                 seq_dicty[new_base_genome][gene_name] = str(record.seq)\n",
    "#         elif record.id == new_base_genome:\n",
    "#             try:\n",
    "#                 seq_dicty[base_genome][gene_name] = str(record.seq)\n",
    "#             except KeyError:\n",
    "#                 seq_dicty[base_genome] = {}\n",
    "#                 seq_dicty[base_genome][gene_name] = str(record.seq)\n",
    "                \n",
    "# print(len(seq_dicty.keys()))"
   ]
  },
  {
   "cell_type": "markdown",
   "metadata": {},
   "source": [
    "## And get dicts to identify conserved amino acid positions and consensus nucleotides\n",
    "\n",
    "Please note that I'm considering an amino acid here as being \"conserved\" if 60 positions in the alignment have that same amino acid (and it's not a gap). There are 61 total positions so this just gives a little bit of flexibility to definition of conserved."
   ]
  },
  {
   "cell_type": "code",
   "execution_count": 7,
   "metadata": {
    "collapsed": false
   },
   "outputs": [],
   "source": [
    "conservation_dicty = {}\n",
    "nt_consensus_dicty = {}\n",
    "nt_conservation_dicty = {}\n",
    "for infile_name in glob.glob('../Data/Orthologs/Order_Enterobacterales_Mixed/mfastas_nt/*.mfasta')[:]:\n",
    "    gene_name = infile_name.split('/')[-1].strip('.mfasta')\n",
    "    conservation_dicty[gene_name] = []\n",
    "    nt_consensus_dicty[gene_name] = []\n",
    "    nt_conservation_dicty[gene_name] = []\n",
    "    records = list(SeqIO.parse(infile_name, 'fasta'))\n",
    "    aa_seq_lol = []\n",
    "    nt_seq_lol = []\n",
    "    ref_genome_aa = []\n",
    "    ref_genome_nt = []\n",
    "    for record in records:\n",
    "        aa_seq_lol.append(list(str(record.seq.translate(gap='-'))))\n",
    "        nt_seq_lol.append(list(str(record.seq)))\n",
    "        if record.id == base_genome:\n",
    "            ref_genome_aa = list(str(record.seq.translate(gap='-')))\n",
    "            ref_genome_nt = list(str(record.seq))\n",
    "    aa_seq_lol = np.array(aa_seq_lol)\n",
    "    aa_seq_lol = aa_seq_lol.T\n",
    "    for i, pos in enumerate(aa_seq_lol):\n",
    "        counter_dict = Counter(pos)\n",
    "        best = sorted(counter_dict.items(), key=lambda x: x[1])[-1]\n",
    "        if len(counter_dict.keys()) == 1 and counter_dict[list(counter_dict.keys())[0]] != '-':\n",
    "            conservation_dicty[gene_name].append('C')\n",
    "        elif len(counter_dict.keys()) == 2 and best[1]==60 and\\\n",
    "                best[0]!='-' and best[0]==ref_genome_aa[i]:\n",
    "            conservation_dicty[gene_name].append('C')\n",
    "        else:\n",
    "            conservation_dicty[gene_name].append('V')\n",
    "    nt_seq_lol = np.array(nt_seq_lol)\n",
    "    nt_seq_lol = nt_seq_lol.T\n",
    "    for i,pos in enumerate(nt_seq_lol):\n",
    "        counter_dict = Counter(pos)\n",
    "        nt_consensus_dicty[gene_name].append(sorted(counter_dict.items(), key=lambda x: x[1])[-1][0])\n",
    "        best = sorted(counter_dict.items(), key=lambda x: x[1])[-1]\n",
    "        if len(counter_dict.keys()) == 1 and counter_dict[list(counter_dict.keys())[0]] != '-':\n",
    "            nt_conservation_dicty[gene_name].append('C')\n",
    "        elif len(counter_dict.keys()) == 2 and best[1]==60 and\\\n",
    "                best[0]!='-' and best[0]==ref_genome_nt[i]:\n",
    "            nt_conservation_dicty[gene_name].append('C')\n",
    "        else:\n",
    "            nt_conservation_dicty[gene_name].append('V')"
   ]
  },
  {
   "cell_type": "markdown",
   "metadata": {},
   "source": [
    "# Read in substitution rate datasets as separate dictionaries"
   ]
  },
  {
   "cell_type": "code",
   "execution_count": 8,
   "metadata": {
    "collapsed": false
   },
   "outputs": [],
   "source": [
    "# dicty_phylop = {}\n",
    "# for infile_name in glob.glob('../Results/Order_Enterobacterales_Mixed/phyloP_CONACC/*.wig')[:]:\n",
    "#     with open(infile_name, 'r') as infile:\n",
    "#         tempy = infile.readlines()\n",
    "#         data = [float(i) for i in tempy[1:]]\n",
    "#         dicty_phylop[infile_name.split('/')[-1].strip('.wig')] = data\n",
    "# print(len(dicty_phylop.keys()))"
   ]
  },
  {
   "cell_type": "code",
   "execution_count": 9,
   "metadata": {
    "collapsed": false
   },
   "outputs": [
    {
     "name": "stdout",
     "output_type": "stream",
     "text": [
      "1394\n"
     ]
    }
   ],
   "source": [
    "dicty_hyphy = {}\n",
    "for infile_name in glob.glob('../Results/Order_Enterobacterales_Mixed/Hyphy_GTR/*.site-rates.json')[:]:\n",
    "    gene_name = infile_name.split('/')[-1].strip('.site-rates.json')\n",
    "    with open(infile_name) as infile:\n",
    "        site_rate_data = json.load(infile)\n",
    "    positions = [int(i) for i in site_rate_data['Relative site rate estimates'].keys()]\n",
    "    rates = []\n",
    "    for position in range(min(positions), max(positions)+1):\n",
    "        rates.append(site_rate_data['Relative site rate estimates'][str(position)]['MLE'])\n",
    "    meany = np.mean(rates)\n",
    "    dicty_hyphy[gene_name] = [i/meany for i in rates]\n",
    "print(len(dicty_hyphy.keys()))"
   ]
  },
  {
   "cell_type": "markdown",
   "metadata": {
    "collapsed": true
   },
   "source": [
    "## Trim 5' terminal gaps according to the E. coli reference sequence for all dicts instantiated above"
   ]
  },
  {
   "cell_type": "code",
   "execution_count": 10,
   "metadata": {
    "collapsed": false
   },
   "outputs": [
    {
     "name": "stdout",
     "output_type": "stream",
     "text": [
      "1105.7195122\n",
      "1105.7195122\n",
      "1059.24533716\n",
      "1059.24533716\n"
     ]
    }
   ],
   "source": [
    "print(np.mean([len(i) for i in seq_dicty[base_genome].values()]))\n",
    "print(np.mean([len(i) for i in dicty_hyphy.values()]))\n",
    "\n",
    "for i, j in seq_dicty[base_genome].items():\n",
    "    if j[0:3] == '---':\n",
    "        first_bases = []\n",
    "        for base in ['A', 'T', 'G', 'C']:\n",
    "            first_bases.append(j.find(base))\n",
    "        first_base = min(first_bases)\n",
    "        \n",
    "        for genome in seq_dicty.keys():\n",
    "            seq_dicty[genome][i] = seq_dicty[genome][i][first_base:]\n",
    "        \n",
    "        if i in dicty_hyphy.keys():\n",
    "            dicty_hyphy[i] = dicty_hyphy[i][first_base:]\n",
    "\n",
    "        if i in conservation_dicty.keys():\n",
    "            conservation_dicty[i] = conservation_dicty[i][int(first_base/3):]\n",
    "                \n",
    "        if i in nt_consensus_dicty.keys():\n",
    "            nt_consensus_dicty[i] = nt_consensus_dicty[i][first_base:]\n",
    "            \n",
    "        if i in nt_conservation_dicty.keys():\n",
    "            nt_conservation_dicty[i] = nt_conservation_dicty[i][first_base:]\n",
    "            \n",
    "print(np.mean([len(i) for i in seq_dicty[base_genome].values()]))\n",
    "print(np.mean([len(i) for i in dicty_hyphy.values()]))"
   ]
  },
  {
   "cell_type": "markdown",
   "metadata": {},
   "source": [
    "## And 3' terminal gaps according to the E. coli reference sequence"
   ]
  },
  {
   "cell_type": "code",
   "execution_count": 11,
   "metadata": {
    "collapsed": false
   },
   "outputs": [
    {
     "name": "stdout",
     "output_type": "stream",
     "text": [
      "1059.24533716\n",
      "1059.24533716\n",
      "1046.48995696\n",
      "1046.48995696\n"
     ]
    }
   ],
   "source": [
    "print(np.mean([len(i) for i in seq_dicty[base_genome].values()]))\n",
    "print(np.mean([len(i) for i in dicty_hyphy.values()]))\n",
    "\n",
    "\n",
    "for i, j in seq_dicty[base_genome].items():\n",
    "    if j[-3:] == '---':\n",
    "        last_bases = []\n",
    "        for base in ['A', 'T', 'G', 'C']:\n",
    "            last_bases.append(j[::-1].find(base))\n",
    "        last_base = min(last_bases)\n",
    "        for genome in seq_dicty.keys():\n",
    "            seq_dicty[genome][i] = seq_dicty[genome][i][:len(j)-last_base]\n",
    "\n",
    "        if i in dicty_hyphy.keys():\n",
    "            dicty_hyphy[i] = dicty_hyphy[i][:len(j)-last_base]\n",
    "\n",
    "        if i in conservation_dicty.keys():\n",
    "            conservation_dicty[i] = conservation_dicty[i][:int((len(j)-last_base)/3)]\n",
    "\n",
    "        if i in nt_consensus_dicty.keys():\n",
    "            nt_consensus_dicty[i] = nt_consensus_dicty[i][:len(j)-last_base]\n",
    "        \n",
    "        if i in nt_conservation_dicty.keys():\n",
    "            nt_conservation_dicty[i] = nt_conservation_dicty[i][:len(j)-last_base]\n",
    "            \n",
    "print(np.mean([len(i) for i in seq_dicty[base_genome].values()]))\n",
    "print(np.mean([len(i) for i in dicty_hyphy.values()]))"
   ]
  },
  {
   "cell_type": "code",
   "execution_count": null,
   "metadata": {
    "collapsed": true
   },
   "outputs": [],
   "source": []
  },
  {
   "cell_type": "markdown",
   "metadata": {},
   "source": [
    "# Investigate relationships between the metrics on the full dataset"
   ]
  },
  {
   "cell_type": "code",
   "execution_count": 12,
   "metadata": {
    "collapsed": false
   },
   "outputs": [
    {
     "data": {
      "text/plain": [
       "<matplotlib.text.Text at 0x120423860>"
      ]
     },
     "execution_count": 12,
     "metadata": {},
     "output_type": "execute_result"
    },
    {
     "data": {
      "image/png": "[encoded data removed]",
      "text/plain": [
       "<matplotlib.figure.Figure at 0x1099dd550>"
      ]
     },
     "metadata": {},
     "output_type": "display_data"
    }
   ],
   "source": [
    "hyphy = []\n",
    "for key, val in dicty_hyphy.items():\n",
    "    hyphy.extend(dicty_hyphy[key])   \n",
    "fig, ax = plt.subplots(figsize=(6,4))\n",
    "ax.hist(hyphy, 20, color='gray', alpha=1)\n",
    "ax.set_xlabel('hyphy (rel subs rate)')\n",
    "ax.set_yscale('log')\n",
    "ax.set_ylabel('counts')"
   ]
  },
  {
   "cell_type": "markdown",
   "metadata": {},
   "source": [
    "# Look at length and position-dependent scores"
   ]
  },
  {
   "cell_type": "code",
   "execution_count": 13,
   "metadata": {
    "collapsed": false
   },
   "outputs": [],
   "source": [
    "ivals = []\n",
    "plot_vals_hyphy = []\n",
    "\n",
    "for i in range(150):\n",
    "    tempy = []\n",
    "    for gene_name, vals in dicty_hyphy.items():\n",
    "        if len(vals) > 150:\n",
    "            tempy.extend([vals[i]])\n",
    "    plot_vals_hyphy.append(np.median(tempy))\n",
    "    \n",
    "    ivals.append(i)\n",
    "    \n",
    "ivals_r = []\n",
    "plot_vals_hyphy_r = []\n",
    "for i in range(150, 0, -1):\n",
    "    tempy = []\n",
    "    for gene_name, vals in dicty_hyphy.items():\n",
    "        if len(vals) > 150:\n",
    "            tempy.extend([vals[-i]])\n",
    "    plot_vals_hyphy_r.append(np.median(tempy))\n",
    "    ivals_r.append(-i)"
   ]
  },
  {
   "cell_type": "code",
   "execution_count": 14,
   "metadata": {
    "collapsed": false,
    "scrolled": true
   },
   "outputs": [
    {
     "data": {
      "image/png": "[encoded data removed]",
      "text/plain": [
       "<matplotlib.figure.Figure at 0x109d0f9b0>"
      ]
     },
     "metadata": {},
     "output_type": "display_data"
    }
   ],
   "source": [
    "fig = plt.figure(figsize=(6,2.5))\n",
    "ax1 = fig.add_subplot(121)\n",
    "l1, = ax1.plot(ivals[0::3], plot_vals_hyphy[0::3], 'bo', label='1st codon position')\n",
    "l2, = ax1.plot(ivals[1::3], plot_vals_hyphy[1::3], 'go', label='2nd codon position')\n",
    "l3, = ax1.plot(ivals[2::3], plot_vals_hyphy[2::3], 'ro', label='3rd codon position')\n",
    "ax1.set_ylabel('Mean relative substitution rate')\n",
    "ax1.set_xlabel('NT position')\n",
    "ax2 = fig.add_subplot(122, sharey=ax1)\n",
    "ax2.plot(ivals_r[0::3], plot_vals_hyphy_r[0::3], 'bo')\n",
    "ax2.plot(ivals_r[1::3], plot_vals_hyphy_r[1::3], 'go')\n",
    "ax2.plot(ivals_r[2::3], plot_vals_hyphy_r[2::3], 'ro')\n",
    "ax2.set_xlabel('NT position')\n",
    "plt.setp(ax2.get_yticklabels(), visible=False);\n",
    "fig.subplots_adjust(top=0.85, left=0.1, right=0.9, bottom=0.18)  # create some space below the plots by increasing the bottom-value\n",
    "plt.figlegend((l1, l2, l3), ('1st position', '2nd position', '3rd position'), bbox_to_anchor=(0.15, 0.88, 0.7, 0.85), loc=3,\n",
    "           ncol=3, mode=\"expand\", borderaxespad=0, fontsize=8)\n",
    "# plt.tight_layout()\n",
    "plt.savefig('../Results/Figures/position_dependent_rates.pdf')"
   ]
  },
  {
   "cell_type": "markdown",
   "metadata": {},
   "source": [
    "# Defining a SD threshold strength"
   ]
  },
  {
   "cell_type": "code",
   "execution_count": 15,
   "metadata": {
    "collapsed": true
   },
   "outputs": [],
   "source": [
    "with open('../Data/json-energyRef-CCUCCU.txt') as infile:\n",
    "    fragment_energy_dict = json.load(infile)\n",
    "asd_seq = 'CCTCCT'"
   ]
  },
  {
   "cell_type": "code",
   "execution_count": 16,
   "metadata": {
    "collapsed": false
   },
   "outputs": [],
   "source": [
    "real_utrs = []\n",
    "include = 20\n",
    "genome = list(SeqIO.parse('/Users/adamhockenberry/Projects/2017/Genome_database/Data/GBFs/511145.12.PATRIC.gbf', 'genbank'))\n",
    "for record in genome:\n",
    "    for feature in record.features[:]:\n",
    "        if feature.type == 'CDS':\n",
    "            if feature.location.strand == 1:\n",
    "                cds = str(record.seq[feature.location.start:feature.location.end])\n",
    "            elif feature.location.strand == -1:\n",
    "                cds = str(record.seq[feature.location.start:feature.location.end].reverse_complement())\n",
    "            if len(cds)%3 != 0 or len(cds) < 100 or cds[-3:] not in ['TAA', 'TGA', 'TAG']:\n",
    "                continue\n",
    "            if feature.location.strand == 1:\n",
    "                real_utrs.append(record.seq[feature.location.start-include:feature.location.start])\n",
    "            elif feature.location.strand == -1:\n",
    "                real_utrs.append(record.seq[feature.location.end:feature.location.end+include].reverse_complement())"
   ]
  },
  {
   "cell_type": "code",
   "execution_count": 17,
   "metadata": {
    "collapsed": false
   },
   "outputs": [
    {
     "name": "stdout",
     "output_type": "stream",
     "text": [
      "4525\n",
      "90500\n"
     ]
    }
   ],
   "source": [
    "randomizations = 20\n",
    "real_utrs = [str(i) for i in real_utrs]\n",
    "strongest_real = []\n",
    "strongest_fake = []\n",
    "strongest_fake_dict = {}\n",
    "for randomization in range(randomizations):\n",
    "    strongest_fake_dict[randomization] = []\n",
    "\n",
    "\n",
    "for utr in real_utrs[:]:\n",
    "    energy_list = []\n",
    "    for i in range(0, len(utr)-len(asd_seq)-4):\n",
    "        fragment = utr[i:i+len(asd_seq)]\n",
    "        energy = fragment_energy_dict[fragment.replace('T', 'U')]\n",
    "        energy_list.append(energy)\n",
    "    strongest_real.append(min(energy_list))\n",
    "    \n",
    "    for randomization in range(randomizations):\n",
    "        energy_list = []\n",
    "        utr_rand = np.array(list(utr))\n",
    "        np.random.shuffle(utr_rand)\n",
    "        utr_rand = ''.join(list(utr_rand))\n",
    "        for i in range(0, len(utr_rand)-len(asd_seq)-4):\n",
    "            fragment = utr_rand[i:i+len(asd_seq)]\n",
    "            energy = fragment_energy_dict[fragment.replace('T', 'U')]\n",
    "            energy_list.append(energy)\n",
    "        strongest_fake.append(min(energy_list))\n",
    "        strongest_fake_dict[randomization].append(min(energy_list))\n",
    "print(len(strongest_real))\n",
    "print(len(strongest_fake))\n",
    "        "
   ]
  },
  {
   "cell_type": "code",
   "execution_count": 18,
   "metadata": {
    "collapsed": false
   },
   "outputs": [
    {
     "data": {
      "image/png": "[encoded data removed]",
      "text/plain": [
       "<matplotlib.figure.Figure at 0x123dd4828>"
      ]
     },
     "metadata": {},
     "output_type": "display_data"
    }
   ],
   "source": [
    "fig = plt.figure(figsize=(3,2))\n",
    "ax = fig.add_subplot(111)\n",
    "ax.hist(strongest_fake, 60, normed=True, alpha=0.7, color='gray', label='Shuffled UTRs')\n",
    "ax.hist(strongest_real, 60, normed=True, alpha=0.7, label='Real UTRs')\n",
    "ax.axvline(-4.5, c='r')\n",
    "ax.axvline(-3.5, c='r', linestyle='--')\n",
    "ax.axvline(-5.5, c='r', linestyle=':')\n",
    "ax.set_xlabel('UTR binding strength to \"5-CCUCCU-3\"')\n",
    "ax.set_ylabel('Probability density')\n",
    "fig.subplots_adjust(top=0.8, left=0.2, right=0.9, bottom=0.25)  # create some space below the plots by increasing the bottom-value\n",
    "ax.legend(loc='upper center', ncol=2, bbox_to_anchor=(0.15, 0.9, 0.7, 0.4), fontsize=8)\n",
    "plt.savefig('../Results/Figures/SD_threshold.pdf')"
   ]
  },
  {
   "cell_type": "markdown",
   "metadata": {},
   "source": [
    "# Actually dig into data to test for conservation of SD motifs\n",
    "The below analysis is limited to ONLY 4-fold redundant codon sites that are within an aSD sequence binding site. Critically, for each one that I find, I compare the conservation at that site to the same synonymous codon or nucleotide context somewhere else in the same gene. With these paired lists, we can accurately compare whether there is any conservation differences while ruling out gene-specific effects."
   ]
  },
  {
   "cell_type": "markdown",
   "metadata": {},
   "source": [
    "## Positive control data. Find genes that have another gene directly 3' of them which are thus likely to contain a real SD sequence in their 3' terminus"
   ]
  },
  {
   "cell_type": "code",
   "execution_count": 19,
   "metadata": {
    "collapsed": false
   },
   "outputs": [
    {
     "name": "stdout",
     "output_type": "stream",
     "text": [
      "391 1003 1394\n"
     ]
    }
   ],
   "source": [
    "preceding_genes = []\n",
    "starts_positive_strand = []\n",
    "starts_negative_strand = []\n",
    "genome = list(SeqIO.parse('/Users/adamhockenberry/Projects/2017/Genome_database/Data/GBFs/511145.12.PATRIC.gbf', 'genbank'))\n",
    "for record in genome:\n",
    "    for feature in record.features:\n",
    "        if feature.type == 'CDS':\n",
    "            if feature.location.strand == 1:\n",
    "                starts_positive_strand.append(feature.location.start)\n",
    "            elif feature.location.strand == -1:\n",
    "                starts_negative_strand.append(feature.location.end)\n",
    "for i,j in enumerate(starts_positive_strand):\n",
    "    starts_positive_strand[i] = list(range(j-20,j+20,1))\n",
    "for i,j in enumerate(starts_negative_strand):\n",
    "    starts_negative_strand[i] = list(range(j-20,j+20,1))\n",
    "for record in genome:\n",
    "    for feature in record.features:\n",
    "        if feature.type == 'CDS':\n",
    "            if feature.location.strand == 1:\n",
    "                end = feature.location.end\n",
    "                for i in starts_positive_strand:\n",
    "                    if end in i:\n",
    "                        preceding_genes.append(feature.qualifiers['locus_tag'][0])\n",
    "            elif feature.location.strand == -1:\n",
    "                end = feature.location.start\n",
    "                for i in starts_negative_strand:\n",
    "                    if end in i:\n",
    "                        preceding_genes.append(feature.qualifiers['locus_tag'][0])\n",
    "                        \n",
    "preceding_genes = [i for i in seq_dicty[base_genome].keys() if i in preceding_genes]\n",
    "not_preceding_genes = [i for i in seq_dicty[base_genome].keys() if i not in preceding_genes]\n",
    "print(len(preceding_genes), len(not_preceding_genes), len(seq_dicty[base_genome].keys()))"
   ]
  },
  {
   "cell_type": "code",
   "execution_count": 20,
   "metadata": {
    "collapsed": true
   },
   "outputs": [],
   "source": [
    "three_prime_limitation_dict = {}\n",
    "for gene_name, nts in seq_dicty[base_genome].items():\n",
    "    three_prime_limitation_dict[gene_name] = list(range(len(nts)-50, len(nts)))"
   ]
  },
  {
   "cell_type": "markdown",
   "metadata": {},
   "source": [
    "## Comparing conservation of a particular 4-fold redundant position that is within a strong binding sequence to a randomly chosen identical 4-fold redundant codon elsewhere in the sequence\n",
    "Note I'm currently looking at a 6nt aSD sequence and only considering 4-fold redundant codons in positions 2,3,4, or 5. I'm also taking care not to double count any one position"
   ]
  },
  {
   "cell_type": "code",
   "execution_count": 21,
   "metadata": {
    "collapsed": false
   },
   "outputs": [],
   "source": [
    "def get_sd_sites(nt_sequence, asd_seq, threshold, fragment_energy_dict, position_limitation_list, upper_threshold=-20, min_position=100, max_position=-50):\n",
    "    codon_list = [nt_sequence[nt:nt+3] for nt in range(0, len(nt_sequence), 3)]\n",
    "    energy_list = []\n",
    "    for i in range(0, len(nt_sequence)-len(asd_seq)):\n",
    "        fragment = nt_sequence[i:i+len(asd_seq)]\n",
    "        if fragment.count('-') == 0:\n",
    "            energy = fragment_energy_dict[fragment.replace('T', 'U')]\n",
    "            energy_list.append(energy)\n",
    "        else:\n",
    "            energy_list.append(np.nan)\n",
    "    #######This gets all positions below the given threshold\n",
    "    sd_positions_all_nts = [list(range(i, i+len(asd_seq))) for i,j in enumerate(energy_list) if j < threshold]\n",
    "    sd_positions_all_nts = [item for sublist in sd_positions_all_nts for item in sublist]\n",
    "    sd_positions_all_nts = list(set(sd_positions_all_nts))\n",
    "    \n",
    "    #######This gets all \"start\" position within the threshold range. Subtle but important difference\n",
    "    if position_limitation_list != False:\n",
    "        sd_positions_start = np.array([i for i,j in enumerate(energy_list) if upper_threshold < j and j < threshold and i in position_limitation_list])\n",
    "    else:\n",
    "        sd_positions_start = np.array([i for i,j in enumerate(energy_list) if upper_threshold < j and j < threshold and i > min_position and i < len(nt_sequence)+max_position])\n",
    "    \n",
    "    np.random.shuffle(sd_positions_start) #Shuffle this so that I'm not always analyzing the 5' ones every single time later on\n",
    "    return sd_positions_all_nts, sd_positions_start, energy_list, codon_list\n",
    "\n",
    "def get_control_sites_codon(nt_sequence, codon_list, sd_positions_all_nts, analyzed_positions, codon, min_position=100, max_position=-50):\n",
    "    control_sites = [site*3+2 for site, x in enumerate(codon_list) if x == codon]\n",
    "    control_sites = [site for site in control_sites if site > min_position and site < len(nt_sequence)+max_position]\n",
    "    control_sites = [site for site in control_sites if site not in sd_positions_all_nts]\n",
    "    control_sites = [site for site in control_sites if site not in analyzed_positions]\n",
    "    return control_sites\n",
    "\n",
    "def get_control_sites_tri_nt(nt_sequence, codon_list, sd_positions_all_nts, analyzed_positions, tri_nt, redundant_codons, min_position=100, max_position=-50):\n",
    "    control_sites = [m.start()+1 for m in re.finditer(tri_nt, nt_sequence)]\n",
    "    control_sites = [site for site in control_sites if site > min_position and site < len(nt_sequence)+max_position]\n",
    "    control_sites = [site for site in control_sites if site%3 == 2]\n",
    "    control_sites = [site for site in control_sites if nt_sequence[site-2:site+1] in redundant_codons]\n",
    "    control_sites = [site for site in control_sites if site not in sd_positions_all_nts]\n",
    "    control_sites = [site for site in control_sites if site not in analyzed_positions]\n",
    "    return control_sites\n",
    "\n",
    "def get_possible_energies(fragment, codon, all_codons, modifier, fragment_energy_dict):\n",
    "    possible_energies = []\n",
    "    for possible_codon in all_codons:\n",
    "        if possible_codon != codon:\n",
    "            if modifier == 2:\n",
    "                possible_fragment = possible_codon + fragment[-3:]\n",
    "            elif modifier == 3:\n",
    "                possible_fragment = fragment[0] + possible_codon + fragment[-2:]\n",
    "            elif modifier == 1:\n",
    "                possible_fragment = possible_codon[-2:] + fragment[-4:]\n",
    "            elif modifier == 4:\n",
    "                possible_fragment = fragment[0:2] + possible_codon + fragment[-1]\n",
    "            assert len(possible_fragment) == 6\n",
    "            possible_energies.append(fragment_energy_dict[possible_fragment.replace('T', 'U')])\n",
    "    return possible_energies\n",
    "\n",
    "\n",
    "def paired_nt_analysis(dicty_to_analyze,\\\n",
    "                      genome_seq_dicty,\\\n",
    "                      fragment_energy_dict,\\\n",
    "                      asd_seq,\\\n",
    "                      conservation_dicty,\\\n",
    "                      nt_conservation_dicty,\\\n",
    "                      redundant_codons=redundant_codons,\\\n",
    "                      threshold=-4.5,\\\n",
    "                      upper_threshold=-20,\\\n",
    "                      min_position=100,\\\n",
    "                      max_position=-50,\\\n",
    "                      subset_names=False,\\\n",
    "                      only_conserved_aa=False,\\\n",
    "                      position_limitation_dict=False,\\\n",
    "                      internal_control='',\\\n",
    "                      nt_strength_restriction=''):\n",
    "    '''\n",
    "    This is my rather monsterous main function that has a lot of flags so be careful! \n",
    "    However, its complexity provides the benefit that I know all analyses are run through\n",
    "    a common framework. For the most part, all of these flags are ultimately limiting the \n",
    "    data according to various criteria at different points in the pipeline.\n",
    "    '''\n",
    "    sds = []\n",
    "    others = []\n",
    "    analyzed_sd_dict = {}\n",
    "    analyzed_control_dict = {}\n",
    "    \n",
    "    all_sds = []\n",
    "    all_others = []\n",
    "        \n",
    "    for gene_name, seq in list(genome_seq_dicty.items())[:]:\n",
    "\n",
    "        analyzed_sds = []\n",
    "        analyzed_controls = []\n",
    "        \n",
    "        gene_sds = []\n",
    "        gene_others = []\n",
    "        \n",
    "        ###########Skip ahead if this gene is not in my dictionary to analyze\n",
    "        if gene_name not in dicty_to_analyze.keys():\n",
    "            continue\n",
    "        ###########Skip ahead if I want to only analyze a subset and this gene isn't in it\n",
    "        if subset_names:\n",
    "            if gene_name not in subset_names:\n",
    "                continue\n",
    "        ###########Hang on to this information for now to eventually limit where in the gene to consider, if relevant\n",
    "        position_limitation_list = False\n",
    "        if position_limitation_dict != False:\n",
    "            position_limitation_list = position_limitation_dict[gene_name]\n",
    "            \n",
    "        ##################################################################################################\n",
    "        ###GET LOCATIONS OF ALL SD-LIKE SEQUENCES THAT I MIGHT WANT TO ANALYZE FOR THIS GENE       \n",
    "        sd_positions_all_nts, sd_positions_start, energy_list, codon_list =\\\n",
    "                        get_sd_sites(seq, asd_seq, threshold, fragment_energy_dict,\\\n",
    "                                     position_limitation_list=position_limitation_list,\\\n",
    "                                     upper_threshold=upper_threshold, min_position=min_position,\\\n",
    "                                     max_position=max_position)\n",
    "\n",
    "        for i in sd_positions_start:\n",
    "            energy = energy_list[i]\n",
    "            modifiers = []\n",
    "            if i%3 == 0:\n",
    "                modifiers = [2]\n",
    "            elif i%3 == 2:\n",
    "                modifiers = [3]\n",
    "            elif i%3 == 1:\n",
    "                modifiers = [1,4]\n",
    "            for modifier in modifiers:\n",
    "                ##################################################################################################\n",
    "                #If I'm only considering particular regions, make sure that this location is one of them\n",
    "                if position_limitation_dict != False:\n",
    "                    if i+modifier not in position_limitation_dict[gene_name]:\n",
    "                        continue\n",
    "\n",
    "                analyzed_positions = analyzed_sds + analyzed_controls\n",
    "                \n",
    "                ##################################################################################################\n",
    "                #Make sure that the location is conserved, and if TRINT that the next position is conserved\n",
    "                if only_conserved_aa == True:\n",
    "                    if conservation_dicty[gene_name][int(np.floor((i+modifier)/3.))] != 'C':\n",
    "                        continue\n",
    "                if only_conserved_aa == True and internal_control=='TRINT':\n",
    "                    if nt_conservation_dicty[gene_name][i+modifier+1] != 'C':\n",
    "                        continue\n",
    "                \n",
    "                codon = seq[i+modifier-2:i+modifier+1]\n",
    "                tri_nt = seq[i+modifier-1:i+modifier+2]\n",
    "                if codon in redundant_codons:\n",
    "                    ##################################################################################################\n",
    "                    ###RUN A FILTER ACCORDING TO WHETHER I ONLY WANT TO SELECT STRONGEST OR WEAKEST POSSIBLE SEQUENCES\n",
    "                    if nt_strength_restriction == 'None':\n",
    "                        pass\n",
    "                    else:\n",
    "                        fragment = genome_seq_dicty[gene_name][i:i+len(asd_seq)]\n",
    "                        all_codons = aa_to_codon_dict[codon_to_aa_dict[codon]]\n",
    "                        all_codons = [temp for temp in all_codons if temp[:2] == codon[:2]]###Dealing with 6-fold redundant codons\n",
    "                        possible_energies = get_possible_energies(fragment, codon, all_codons, modifier, fragment_energy_dict)\n",
    "                        possible_energies = sorted(possible_energies)\n",
    "                        assert len(possible_energies) == 3, possible_energies\n",
    "                        if energy in possible_energies:###Because I don't know how to treat these cases\n",
    "                            continue\n",
    "                        insertion_point = bisect(possible_energies, energy)\n",
    "                        #################################################################\n",
    "                        ###Below will get rid of the ones that aren't included in my flag\n",
    "                        if int(nt_strength_restriction) != insertion_point:\n",
    "                            continue \n",
    "                            \n",
    "                    ##################################################################################################\n",
    "                    ###GET CONTROL SITES ACCORDING TO EITHER OF TWO DIFFERENT NULL MODELS\n",
    "                    if internal_control == 'CODON':\n",
    "                        control_sites =\\\n",
    "                            get_control_sites_codon(seq, codon_list, sd_positions_all_nts, analyzed_positions, codon,\\\n",
    "                                                   min_position=min_position, max_position=max_position)\n",
    "                    elif internal_control == 'TRINT':\n",
    "                        control_sites =\\\n",
    "                            get_control_sites_tri_nt(seq, codon_list, sd_positions_all_nts, analyzed_positions, tri_nt, redundant_codons,\\\n",
    "                                                    min_position=min_position, max_position=max_position)\n",
    "                    else:\n",
    "                        print(\"YOU DID NOT PROPERLY SPECIFY A CONTROL METHOD\")\n",
    "                        break\n",
    "                    ##################################################################################################\n",
    "                    ###Limit the controls based on conservation of the amino acid\n",
    "                    if only_conserved_aa == True and internal_control == 'CODON':\n",
    "                        control_sites = [site for site in control_sites if conservation_dicty[gene_name][int(np.floor(site/3.))] == 'C']\n",
    "                    elif only_conserved_aa == True and internal_control == 'TRINT':\n",
    "                        control_sites = [site for site in control_sites if conservation_dicty[gene_name][int(np.floor(site/3.))] == 'C']\n",
    "                        control_sites = [site for site in control_sites if nt_conservation_dicty[gene_name][site+1] == 'C']\n",
    "\n",
    "                    ##################################################################################################\n",
    "                    ###IF ALL LOOKS WELL CHOOSE A CONTROL AND GO FORWARD WITH ANALYSIS\n",
    "                    gene_sds.append(i+modifier)\n",
    "                    gene_others.extend(control_sites)\n",
    "                    if len(control_sites) > 0 and i+modifier not in analyzed_positions:\n",
    "                        choice = random.choice(control_sites)\n",
    "                        sds.append(dicty_to_analyze[gene_name][i+modifier])\n",
    "                        others.append(dicty_to_analyze[gene_name][choice])\n",
    "                        analyzed_sds.append(i+modifier)\n",
    "                        analyzed_controls.append(choice)\n",
    "                        #######################################################################\n",
    "                        ###Fail safe to make sure I chose the right codons and context controls\n",
    "                        if internal_control == 'CODON':\n",
    "                            assert seq_dicty[base_genome][gene_name][i+modifier-2:i+modifier+1] == seq_dicty[base_genome][gene_name][choice-2:choice+1]\n",
    "                        if internal_control == 'TRINT':\n",
    "                            assert seq_dicty[base_genome][gene_name][i+modifier-1:i+modifier+2] == seq_dicty[base_genome][gene_name][choice-1:choice+2]\n",
    "        gene_sds = list(set(gene_sds))\n",
    "        gene_others = list(set(gene_others))\n",
    "        \n",
    "        all_sds.extend([dicty_to_analyze[gene_name][position] for position in gene_sds])\n",
    "        all_others.extend([dicty_to_analyze[gene_name][position] for position in gene_others])\n",
    "        analyzed_sd_dict[gene_name] = analyzed_sds\n",
    "        analyzed_control_dict[gene_name] = analyzed_controls\n",
    "    return sds, others, analyzed_sd_dict, analyzed_control_dict, all_sds, all_others"
   ]
  },
  {
   "cell_type": "markdown",
   "metadata": {},
   "source": [
    "# Main function\n",
    "There are a lot of flags but the analysis below is essentially the analysis that is used throughout the manuscript. Thresholds, null models, etc can all be altered below to accomplish various analyses that were depicted in the manuscript"
   ]
  },
  {
   "cell_type": "code",
   "execution_count": 24,
   "metadata": {
    "collapsed": false
   },
   "outputs": [
    {
     "name": "stdout",
     "output_type": "stream",
     "text": [
      "#####0\n",
      "Lengths:31, 31, Means:1.0224528873501033, 2.9728406158325256, Ratio:0.3439312830646899\n",
      "Coin flip expt: 0.1935483870967742\n",
      "Lengths:15, 15, Means:0.9059830708518377, 3.1022163826029683, Ratio:0.29204380324097734\n",
      "Coin flip expt: 0.13333333333333333\n",
      "#####1\n",
      "Lengths:31, 31, Means:1.0224528873501033, 2.7008901069112174, Ratio:0.3785614545122672\n",
      "Coin flip expt: 0.25806451612903225\n",
      "Lengths:15, 15, Means:0.9059830708518377, 3.2745313721685383, Ratio:0.2766756423688975\n",
      "Coin flip expt: 0.13333333333333333\n",
      "#####2\n",
      "Lengths:31, 31, Means:1.0224528873501033, 3.2360298388181548, Ratio:0.3159590418744464\n",
      "Coin flip expt: 0.22580645161290322\n",
      "Lengths:15, 15, Means:0.9059830708518377, 3.238801893780632, Ratio:0.2797278439881019\n",
      "Coin flip expt: 0.2\n",
      "#####3\n",
      "Lengths:31, 31, Means:1.0224528873501033, 3.071263251123932, Ratio:0.3329095566705119\n",
      "Coin flip expt: 0.12903225806451613\n",
      "Lengths:15, 15, Means:0.9059830708518377, 3.401088073683417, Ratio:0.26638036158547573\n",
      "Coin flip expt: 0.06666666666666667\n",
      "#####4\n",
      "Lengths:31, 31, Means:1.0224528873501033, 2.9768867330380018, Ratio:0.3434638194334857\n",
      "Coin flip expt: 0.22580645161290322\n",
      "Lengths:15, 15, Means:0.9059830708518377, 3.1927028473856662, Ratio:0.2837668001560806\n",
      "Coin flip expt: 0.2\n",
      "#####5\n",
      "Lengths:31, 31, Means:1.0224528873501033, 3.1173384146869316, Ratio:0.3279890571177484\n",
      "Coin flip expt: 0.16129032258064516\n",
      "Lengths:15, 15, Means:0.9059830708518377, 3.223169192038378, Ratio:0.2810845527717647\n",
      "Coin flip expt: 0.2\n",
      "#####6\n",
      "Lengths:31, 31, Means:1.0224528873501033, 3.160817834244468, Ratio:0.32347732168326643\n",
      "Coin flip expt: 0.12903225806451613\n",
      "Lengths:15, 15, Means:0.9059830708518377, 3.6258608292717183, Ratio:0.2498670284137219\n",
      "Coin flip expt: 0.06666666666666667\n",
      "#####7\n",
      "Lengths:31, 31, Means:1.0224528873501033, 2.8346458003677575, Ratio:0.36069864080283104\n",
      "Coin flip expt: 0.22580645161290322\n",
      "Lengths:15, 15, Means:0.9059830708518377, 3.271565617156126, Ratio:0.2769264556702921\n",
      "Coin flip expt: 0.13333333333333333\n",
      "#####8\n",
      "Lengths:31, 31, Means:1.0224528873501033, 2.7669758337789676, Ratio:0.36951999177878586\n",
      "Coin flip expt: 0.25806451612903225\n",
      "Lengths:15, 15, Means:0.9059830708518377, 3.029854917927459, Ratio:0.29901863138435886\n",
      "Coin flip expt: 0.2\n",
      "#####9\n",
      "Lengths:31, 31, Means:1.0224528873501033, 3.4039728365512176, Ratio:0.3003704601785294\n",
      "Coin flip expt: 0.22580645161290322\n",
      "Lengths:15, 15, Means:0.9059830708518377, 2.997559487879002, Ratio:0.30224023059935623\n",
      "Coin flip expt: 0.13333333333333333\n",
      "#####10\n",
      "Lengths:31, 31, Means:1.0224528873501033, 2.687791925127694, Ratio:0.3804062650056246\n",
      "Coin flip expt: 0.2903225806451613\n",
      "Lengths:15, 15, Means:0.9059830708518377, 3.4497390379657187, Ratio:0.2626236538129818\n",
      "Coin flip expt: 0.06666666666666667\n",
      "#####11\n",
      "Lengths:31, 31, Means:1.0224528873501033, 3.102660901818837, Ratio:0.329540649044413\n",
      "Coin flip expt: 0.1935483870967742\n",
      "Lengths:15, 15, Means:0.9059830708518377, 3.183367098031822, Ratio:0.28459899312648523\n",
      "Coin flip expt: 0.26666666666666666\n",
      "#####12\n",
      "Lengths:31, 31, Means:1.0224528873501033, 2.9985625861431098, Ratio:0.3409810060577157\n",
      "Coin flip expt: 0.22580645161290322\n",
      "Lengths:15, 15, Means:0.9059830708518377, 3.232761602065328, Ratio:0.28025050479225827\n",
      "Coin flip expt: 0.2\n",
      "#####13\n",
      "Lengths:31, 31, Means:1.0224528873501033, 2.6420542369181574, Ratio:0.3869916344119985\n",
      "Coin flip expt: 0.2903225806451613\n",
      "Lengths:15, 15, Means:0.9059830708518377, 3.345832572916377, Ratio:0.27077955967836803\n",
      "Coin flip expt: 0.13333333333333333\n",
      "#####14\n",
      "Lengths:31, 31, Means:1.0224528873501033, 3.0262824078929906, Ratio:0.33785772427695293\n",
      "Coin flip expt: 0.22580645161290322\n",
      "Lengths:15, 15, Means:0.9059830708518377, 3.2580145433926315, Ratio:0.2780782770565599\n",
      "Coin flip expt: 0.2\n",
      "#####15\n",
      "Lengths:31, 31, Means:1.0224528873501033, 2.7743074933980933, Ratio:0.368543461668612\n",
      "Coin flip expt: 0.1935483870967742\n",
      "Lengths:15, 15, Means:0.9059830708518377, 3.52978473162281, Ratio:0.25666808027562465\n",
      "Coin flip expt: 0.2\n",
      "#####16\n",
      "Lengths:31, 31, Means:1.0224528873501033, 2.652374107273223, Ratio:0.3854859254380361\n",
      "Coin flip expt: 0.2903225806451613\n",
      "Lengths:15, 15, Means:0.9059830708518377, 3.346740941080788, Ratio:0.27070606503509703\n",
      "Coin flip expt: 0.2\n",
      "#####17\n",
      "Lengths:31, 31, Means:1.0224528873501033, 2.915573861842941, Ratio:0.3506866695202873\n",
      "Coin flip expt: 0.3225806451612903\n",
      "Lengths:15, 15, Means:0.9059830708518377, 3.1851900807108877, Ratio:0.2844361083309777\n",
      "Coin flip expt: 0.06666666666666667\n",
      "#####18\n",
      "Lengths:31, 31, Means:1.0224528873501033, 3.028369255137518, Ratio:0.33762490674330725\n",
      "Coin flip expt: 0.22580645161290322\n",
      "Lengths:15, 15, Means:0.9059830708518377, 3.2980764314731332, Ratio:0.2747004472686424\n",
      "Coin flip expt: 0.2\n",
      "#####19\n",
      "Lengths:31, 31, Means:1.0224528873501033, 2.8037676405591316, Ratio:0.36467104925506744\n",
      "Coin flip expt: 0.25806451612903225\n",
      "Lengths:15, 15, Means:0.9059830708518377, 3.328096501178715, Ratio:0.27222259646947283\n",
      "Coin flip expt: 0.2\n"
     ]
    }
   ],
   "source": [
    "dicty_to_analyze = dicty_hyphy #####If this changes, make sure to manually change file_name_modifiers\n",
    "threshold=-4.5\n",
    "upper_threshold=-20.\n",
    "subset_names=preceding_genes\n",
    "# subset_names=False\n",
    "only_conserved_aa=True\n",
    "position_limitation_dict=three_prime_limitation_dict\n",
    "# position_limitation_dict=False\n",
    "controls=('CODON', 'TRINT')\n",
    "nt_strength_restriction='None'\n",
    "\n",
    "\n",
    "mean_randomizations = 20\n",
    "stat_randomizations = 20\n",
    "\n",
    "#########################################################\n",
    "####Putative aSD sequence to use in considering hybridization energies\n",
    "with open('../Data/json-energyRef-CCUCCU.txt') as infile:\n",
    "    fragment_energy_dict = json.load(infile)\n",
    "asd_seq = 'CCUCCU'\n",
    "#########################################################\n",
    "#########################################################\n",
    "#\n",
    "#\n",
    "#\n",
    "#########################################################\n",
    "####For writing files later\n",
    "file_name_modifiers = '{}_{}_Threshold={}to{}_Conserved={}_NtRestriction={}'.format('hyphy', species_name, upper_threshold, threshold, only_conserved_aa, nt_strength_restriction)\n",
    "if subset_names != False or position_limitation_dict != False:\n",
    "    file_name_modifiers = file_name_modifiers + '_Subset=preceding_Position_limitation=3prime'\n",
    "#########################################################\n",
    "#########################################################\n",
    "#\n",
    "#\n",
    "#########################################################\n",
    "#These containers are for keeping track of randomizations to assess significance\n",
    "actual_ratios_codon = []\n",
    "shuffled_ratios_codon = {}\n",
    "actual_ratios_trint = []\n",
    "shuffled_ratios_trint = {}\n",
    "\n",
    "for i in range(mean_randomizations):\n",
    "    shuffled_ratios_codon[i] = []\n",
    "    shuffled_ratios_trint[i] = []\n",
    "    print('#####{}'.format(i))\n",
    "    sds_codon, others_codon, analyzed_sd_dict, analyzed_ctrl_dict, all_sds_codon, all_others_codon = paired_nt_analysis(dicty_to_analyze,\\\n",
    "                                     seq_dicty[base_genome],\\\n",
    "                                     fragment_energy_dict,\\\n",
    "                                     asd_seq,\\\n",
    "                                     conservation_dicty,\\\n",
    "                                     nt_conservation_dicty,\\\n",
    "                                     threshold=threshold,\\\n",
    "                                     upper_threshold=upper_threshold,\\\n",
    "                                     subset_names=subset_names,\\\n",
    "                                     only_conserved_aa=only_conserved_aa,\\\n",
    "                                     position_limitation_dict=position_limitation_dict,\\\n",
    "                                     internal_control=controls[0],\\\n",
    "                                     nt_strength_restriction=nt_strength_restriction)\n",
    "    actual_ratios_codon.append(np.mean(sds_codon)/np.mean(others_codon))\n",
    "    print('Lengths:{}, {}, Means:{}, {}, Ratio:{}'.format(len(sds_codon), len(others_codon),\\\n",
    "                                                          np.mean(sds_codon), np.mean(others_codon),\\\n",
    "                                                          np.mean(sds_codon)/np.mean(others_codon)))\n",
    "    diffs = np.array(sds_codon)-np.array(others_codon)\n",
    "    print('Coin flip expt:', len([i for i in diffs if i > 0])/len([i for i in diffs if i != 0]))\n",
    "    for j in range(stat_randomizations):\n",
    "        combined = sds_codon + others_codon\n",
    "        random.shuffle(combined)\n",
    "        random_sds = combined[:len(sds_codon)]\n",
    "        random_others = combined[len(sds_codon):]\n",
    "        shuffled_ratios_codon[i].append(np.mean(random_sds)/np.mean(random_others))\n",
    "        \n",
    "        \n",
    "    sds_trint, others_trint, analyzed_sd_dict, analyzed_ctrl_dict, all_sds_trint, all_others_trint = paired_nt_analysis(dicty_to_analyze,\\\n",
    "                                     seq_dicty[base_genome],\\\n",
    "                                     fragment_energy_dict,\\\n",
    "                                     asd_seq,\\\n",
    "                                     conservation_dicty,\\\n",
    "                                     nt_conservation_dicty,\\\n",
    "                                     threshold=threshold,\\\n",
    "                                     upper_threshold=upper_threshold,\\\n",
    "                                     subset_names=subset_names,\\\n",
    "                                     only_conserved_aa=only_conserved_aa,\\\n",
    "                                     position_limitation_dict=position_limitation_dict,\\\n",
    "                                     internal_control=controls[1],\\\n",
    "                                     nt_strength_restriction=nt_strength_restriction)\n",
    "    actual_ratios_trint.append(np.mean(sds_trint)/np.mean(others_trint))\n",
    "    print('Lengths:{}, {}, Means:{}, {}, Ratio:{}'.format(len(sds_trint), len(others_trint),\\\n",
    "                                                          np.mean(sds_trint), np.mean(others_trint),\\\n",
    "                                                          np.mean(sds_trint)/np.mean(others_trint)))\n",
    "    diffs = np.array(sds_trint)-np.array(others_trint)\n",
    "    print('Coin flip expt:', len([i for i in diffs if i > 0])/len([i for i in diffs if i != 0]))\n",
    "    for j in range(stat_randomizations):\n",
    "        combined = sds_trint + others_trint\n",
    "        random.shuffle(combined)\n",
    "        random_sds = combined[:len(sds_trint)]\n",
    "        random_others = combined[len(sds_trint):]\n",
    "        shuffled_ratios_trint[i].append(np.mean(random_sds)/np.mean(random_others))"
   ]
  },
  {
   "cell_type": "code",
   "execution_count": 25,
   "metadata": {
    "collapsed": false
   },
   "outputs": [],
   "source": [
    "dfA = pd.DataFrame({'Actual_rats_codon':actual_ratios_codon})\n",
    "dfB = pd.DataFrame({'Shuffled_rats_codon':[j[0] for i,j in shuffled_ratios_codon.items()]})\n",
    "dfC = pd.DataFrame({'Actual_rats_trint':actual_ratios_trint})\n",
    "dfD = pd.DataFrame({'Shuffled_rats_trint':[j[0] for i,j in shuffled_ratios_trint.items()]})\n",
    "df = pd.concat([dfA[['Actual_rats_codon']],dfB[['Shuffled_rats_codon']],\\\n",
    "               dfC[['Actual_rats_trint']],dfD[['Shuffled_rats_trint']]], axis=1)\n",
    "df['N_(codon)'] = len(sds_codon)\n",
    "df['N_(trint)'] = len(sds_trint)\n",
    "df.to_csv('../Results/Dataframes/df_{}_ratios.csv'.format(file_name_modifiers), index=False)\n",
    "\n",
    "\n",
    "dfA = pd.DataFrame({'SD-like(codon)':all_sds_codon})\n",
    "dfB = pd.DataFrame({'SD-like(trint)':all_sds_trint})\n",
    "dfC = pd.DataFrame({'Control\\n(codon)':all_others_codon})\n",
    "dfD = pd.DataFrame({'Control\\n(context)':all_others_trint})\n",
    "df = pd.concat([dfA[['SD-like(codon)']],dfB[['SD-like(trint)']], dfC[['Control\\n(codon)']], dfD[['Control\\n(context)']]], axis=1)\n",
    "df.to_csv('../Results/Dataframes/df_{}_all.csv'.format(file_name_modifiers), index=False)\n",
    "\n",
    "dist_of_codon_means = []\n",
    "for j in range(stat_randomizations):\n",
    "    temp = []\n",
    "    for i in range(mean_randomizations):\n",
    "        temp.append(shuffled_ratios_codon[i][j])\n",
    "    dist_of_codon_means.append(np.mean(temp))\n",
    "\n",
    "dist_of_trint_means = []\n",
    "for j in range(stat_randomizations):\n",
    "    temp = []\n",
    "    for i in range(mean_randomizations):\n",
    "        temp.append(shuffled_ratios_trint[i][j])\n",
    "    dist_of_trint_means.append(np.mean(temp))\n",
    "    \n",
    "dfA = pd.DataFrame({'Names':['Actual']+list(range(len(dist_of_codon_means)))})\n",
    "dfB = pd.DataFrame({'Values(codon)':[np.mean(actual_ratios_codon)]+dist_of_codon_means})\n",
    "dfC = pd.DataFrame({'Values(trint)':[np.mean(actual_ratios_trint)]+dist_of_trint_means})\n",
    "df = pd.concat([dfA[['Names']],dfB[['Values(codon)']], dfC[['Values(trint)']]], axis=1)\n",
    "df.to_csv('../Results/Dataframes/df_{}_stat_sig.csv'.format(file_name_modifiers), index=False)"
   ]
  },
  {
   "cell_type": "code",
   "execution_count": null,
   "metadata": {
    "collapsed": false
   },
   "outputs": [],
   "source": [
    "###Saved this data to make prettier figures but because I'm ants-y and want to see how they look\n",
    "plt.figure()\n",
    "plt.hist(dist_of_trint_means)\n",
    "plt.axvline(np.mean(actual_ratios_trint), c='r')\n",
    "\n",
    "plt.figure()\n",
    "plt.hist(dist_of_codon_means)\n",
    "plt.axvline(np.mean(actual_ratios_codon), c='r')"
   ]
  },
  {
   "cell_type": "code",
   "execution_count": null,
   "metadata": {
    "collapsed": true
   },
   "outputs": [],
   "source": []
  },
  {
   "cell_type": "code",
   "execution_count": null,
   "metadata": {
    "collapsed": true
   },
   "outputs": [],
   "source": []
  },
  {
   "cell_type": "markdown",
   "metadata": {
    "collapsed": true
   },
   "source": [
    "# Put rates into context\n",
    "Similar paired analysis of 2-fold vs 4-fold redundant codons"
   ]
  },
  {
   "cell_type": "code",
   "execution_count": null,
   "metadata": {
    "collapsed": false
   },
   "outputs": [],
   "source": [
    "genome_seq_dicty = seq_dicty[base_genome]\n",
    "dicty_to_analyze = dicty_hyphy\n",
    "\n",
    "ratios_all = []\n",
    "for randomization in range(3):\n",
    "    two_fold = []\n",
    "    four_fold = []\n",
    "    two_fold_all = []\n",
    "    four_fold_all = []\n",
    "    for gene_name, nt_sequence in list(genome_seq_dicty.items())[:]:\n",
    "        if gene_name not in dicty_to_analyze.keys():\n",
    "            continue\n",
    "        two_fold_gene = []\n",
    "        four_fold_gene = []\n",
    "        codon_list = [nt_sequence[nt:nt+3] for nt in range(0, len(nt_sequence), 3)]\n",
    "        for i, codon in enumerate(codon_list):\n",
    "            if codon == '---':\n",
    "                continue\n",
    "            if i < 33:\n",
    "                continue\n",
    "            if i > len(codon_list)-16:\n",
    "                continue\n",
    "            if conservation_dicty[gene_name][i] != 'C':\n",
    "                continue\n",
    "            if codon in redundant_codons:\n",
    "                four_fold_gene.append(dicty_to_analyze[gene_name][i*3+2])\n",
    "            elif codon_to_aa_dict[codon] in ['F', 'D', 'E', 'K', 'N', 'Q', 'H', 'Y', 'C']:\n",
    "                two_fold_gene.append(dicty_to_analyze[gene_name][i*3+2])\n",
    "        smallest_set = min([len(two_fold_gene), len(four_fold_gene)])\n",
    "        two_fold_truncated = random.sample(two_fold_gene, smallest_set)\n",
    "        four_fold_truncated = random.sample(four_fold_gene, smallest_set)\n",
    "        two_fold.extend(two_fold_truncated)\n",
    "        four_fold.extend(four_fold_truncated)\n",
    "        two_fold_all.extend(two_fold_gene)\n",
    "        four_fold_all.extend(four_fold_gene)\n",
    "    ratio_i = np.mean(four_fold)/np.mean(two_fold)\n",
    "    ratios_all.append(ratio_i)\n",
    "    print(randomization, ratio_i, len(four_fold), len(two_fold), len(two_fold_all), len(four_fold_all))\n",
    "print(np.mean(four_fold_all)/np.mean(two_fold_all))"
   ]
  },
  {
   "cell_type": "code",
   "execution_count": null,
   "metadata": {
    "collapsed": false
   },
   "outputs": [],
   "source": [
    "plt.figure()\n",
    "plt.boxplot([two_fold, four_fold]);\n",
    "plt.ylim(0,10)"
   ]
  },
  {
   "cell_type": "code",
   "execution_count": null,
   "metadata": {
    "collapsed": true
   },
   "outputs": [],
   "source": []
  },
  {
   "cell_type": "markdown",
   "metadata": {},
   "source": [
    "# Protein Domain analysis"
   ]
  },
  {
   "cell_type": "code",
   "execution_count": null,
   "metadata": {
    "collapsed": false
   },
   "outputs": [],
   "source": [
    "df = pd.read_csv('../Data/foldingFromPNAS_v2.csv')\n",
    "df['bNumber'] = ''\n",
    "df['patricNumber'] = ''\n",
    "print(len(df.index))\n",
    "\n",
    "for index in df.index:\n",
    "    names = df.loc[index]['Gene names'].split(' ')\n",
    "    for name in names:\n",
    "        if name in reference_name_dict.keys():\n",
    "            df.set_value(index, 'bNumber', name)\n",
    "            try:\n",
    "                df.set_value(index, 'patricNumber', reference_name_dict[name])\n",
    "            except KeyError:\n",
    "                pass\n",
    "\n",
    "df = df[df['patricNumber'] != '']\n",
    "print(len(df.index))"
   ]
  },
  {
   "cell_type": "markdown",
   "metadata": {},
   "source": [
    "### Choose whether to stratify the data according to Lm\n",
    "A lot of degrees of potential degrees of freedom here which can be dangerous. Be rational."
   ]
  },
  {
   "cell_type": "code",
   "execution_count": null,
   "metadata": {
    "collapsed": true
   },
   "outputs": [],
   "source": [
    "df = df[df['Lm (residues)'].isnull() == False]\n",
    "# df = df[(df['Lm (residues)'] > 0) & (df['Lm (residues)'] <= 50)]"
   ]
  },
  {
   "cell_type": "markdown",
   "metadata": {},
   "source": [
    "### `domain_dict` will specify what regions in what proteins I want to actually consider "
   ]
  },
  {
   "cell_type": "code",
   "execution_count": null,
   "metadata": {
    "collapsed": false
   },
   "outputs": [],
   "source": [
    "df['Domain_beg_nt'] = int()\n",
    "df['Domain_end_nt'] = int()\n",
    "for index in df.index:\n",
    "    domain_beg, domain_end = df.loc[index]['Codon range of domain'].split('-')\n",
    "    df.set_value(index, 'Domain_beg_nt', int(domain_beg)*3)\n",
    "    df.set_value(index, 'Domain_end_nt', int(domain_end)*3)\n",
    "\n",
    "\n",
    "df['Domain_beg_in_patric'] = int()\n",
    "df['Domain_end_in_patric'] = int()\n",
    "for index in df.index:    \n",
    "    ref_seq_beg = ref_genome_seq_ref_dict[df.loc[index]['bNumber']][int(df.loc[index]['Domain_beg_nt']):int(df.loc[index]['Domain_beg_nt'])+100]\n",
    "    ref_seq_end = ref_genome_seq_ref_dict[df.loc[index]['bNumber']][int(df.loc[index]['Domain_end_nt'])-100:int(df.loc[index]['Domain_end_nt'])]\n",
    "    df.set_value(index, 'Domain_beg_in_patric', ref_genome_seq_patric_dict[df.loc[index]['patricNumber']].find(ref_seq_beg))\n",
    "    df.set_value(index, 'Domain_end_in_patric', ref_genome_seq_patric_dict[df.loc[index]['patricNumber']].find(ref_seq_end) + 100)\n",
    "\n",
    "\n",
    "\n",
    "\n",
    "###Inside of domains\n",
    "domain_dict = {}\n",
    "for index in df.index:\n",
    "    if df.loc[index]['Domain_beg_in_patric'] > 100:\n",
    "        try:\n",
    "            domain_dict[df.loc[index]['patricNumber']].extend(list(range(df.loc[index]['Domain_beg_in_patric'], df.loc[index]['Domain_end_in_patric'])))\n",
    "        except:\n",
    "            domain_dict[df.loc[index]['patricNumber']] = list(range(df.loc[index]['Domain_beg_in_patric'], df.loc[index]['Domain_end_in_patric']))\n",
    "    else:\n",
    "        if df.loc[index]['Domain_end_in_patric'] < 100:\n",
    "            pass\n",
    "        else:\n",
    "            try:\n",
    "                domain_dict[df.loc[index]['patricNumber']].extend(list(range(100, df.loc[index]['Domain_end_in_patric'])))\n",
    "            except:\n",
    "                domain_dict[df.loc[index]['patricNumber']] = list(range(100, df.loc[index]['Domain_end_in_patric']))\n",
    "\n",
    "to_delete = []        \n",
    "for gene_name in domain_dict.keys():\n",
    "    if gene_name not in dicty_to_analyze.keys():\n",
    "        to_delete.append(gene_name)\n",
    "for gene_name in to_delete:\n",
    "    del domain_dict[gene_name]\n",
    "print('Inside domains: {}'.format(len(domain_dict.keys())))\n",
    "\n",
    "\n",
    "###Post domain dicts\n",
    "post_domain_dict = {}\n",
    "for index in df.index:\n",
    "    try:\n",
    "        post_domain_dict[df.loc[index]['patricNumber']].append(df.loc[index]['Domain_end_in_patric'])\n",
    "    except:\n",
    "        post_domain_dict[df.loc[index]['patricNumber']] = [df.loc[index]['Domain_end_in_patric']]\n",
    "        \n",
    "to_delete = []        \n",
    "for gene_name in post_domain_dict.keys():\n",
    "    if gene_name not in dicty_to_analyze.keys():\n",
    "        to_delete.append(gene_name)\n",
    "for gene_name in to_delete:\n",
    "    del post_domain_dict[gene_name]\n",
    "\n",
    "for i,j in post_domain_dict.items():\n",
    "    tempy = []\n",
    "    for loc in j:\n",
    "        if loc+150 > len(seq_dicty[base_genome][i])-50:\n",
    "            if loc+30 > len(seq_dicty[base_genome][i]):\n",
    "                pass\n",
    "            else:\n",
    "                tempy.extend(list(range(loc+30, len(seq_dicty[base_genome][i])-50))) #####IMPORTANT\n",
    "        else:\n",
    "            tempy.extend(list(range(loc+30, loc+150))) #####IMPORTANT\n",
    "    post_domain_dict[i] = tempy\n",
    "print('Post domains: {}'.format(len(post_domain_dict.keys())))"
   ]
  },
  {
   "cell_type": "markdown",
   "metadata": {},
   "source": [
    "# Copy and pasted code above, just making a few changes to initial parameters"
   ]
  },
  {
   "cell_type": "code",
   "execution_count": null,
   "metadata": {
    "collapsed": false
   },
   "outputs": [],
   "source": [
    "dicty_to_analyze = dicty_hyphy #####If this changes, make sure to manually change file_name_modifiers\n",
    "threshold=-4.5\n",
    "upper_threshold=-20\n",
    "# subset_names=domain_dict.keys()#####CRITICAL\n",
    "subset_names=post_domain_dict.keys()#####CRITICAL\n",
    "only_conserved_aa=True\n",
    "# position_limitation_dict=domain_dict####CRITICAL\n",
    "position_limitation_dict=post_domain_dict####CRITICAL\n",
    "controls=('CODON', 'TRINT')\n",
    "nt_strength_restriction='3'\n",
    "\n",
    "#########################################################\n",
    "####Putative aSD sequence to use in considering hybridization energies\n",
    "with open('../Data/json-energyRef-CCUCCU.txt') as infile:\n",
    "    fragment_energy_dict = json.load(infile)\n",
    "asd_seq = 'CCUCCU'\n",
    "\n",
    "\n",
    "actual_ratios_codon = []\n",
    "shuffled_ratios_codon = []\n",
    "actual_ratios_trint = []\n",
    "shuffled_ratios_trint = []\n",
    "for i in range(20):\n",
    "    print('#####{}'.format(i))\n",
    "    sds, others, analyzed_sd_dict, analyzed_ctrl_dict = paired_nt_analysis(dicty_to_analyze,\\\n",
    "                                     seq_dicty[base_genome],\\\n",
    "                                     fragment_energy_dict,\\\n",
    "                                     asd_seq,\\\n",
    "                                     conservation_dicty,\\\n",
    "                                     nt_conservation_dicty,\\\n",
    "                                     threshold=threshold,\\\n",
    "                                     upper_threshold=upper_threshold,\\\n",
    "                                     randomization=False,\\\n",
    "                                     subset_names=subset_names,\\\n",
    "                                     only_conserved_aa=only_conserved_aa,\\\n",
    "                                     position_limitation_dict=position_limitation_dict,\\\n",
    "                                     internal_control=controls[0],\\\n",
    "                                     nt_strength_restriction=nt_strength_restriction)\n",
    "    actual_ratios_codon.append(np.mean(sds)/np.mean(others))\n",
    "    print('Lengths:{}, {}, Means:{}, {}, Ratio:{}'.format(len(sds), len(others), np.mean(sds), np.mean(others), np.mean(sds)/np.mean(others)))\n",
    "    sds, others, analyzed_sd_dict, analyzed_ctrl_dict = paired_nt_analysis(dicty_to_analyze,\\\n",
    "                                     seq_dicty[base_genome],\\\n",
    "                                     fragment_energy_dict,\\\n",
    "                                     asd_seq,\\\n",
    "                                     conservation_dicty,\\\n",
    "                                     nt_conservation_dicty,\\\n",
    "                                     threshold=threshold,\\\n",
    "                                     upper_threshold=upper_threshold,\\\n",
    "                                     randomization=True,\\\n",
    "                                     subset_names=subset_names,\\\n",
    "                                     only_conserved_aa=only_conserved_aa,\\\n",
    "                                     position_limitation_dict=position_limitation_dict,\\\n",
    "                                     internal_control=controls[0],\\\n",
    "                                     nt_strength_restriction=nt_strength_restriction)\n",
    "    shuffled_ratios_codon.append(np.mean(sds)/np.mean(others))\n",
    "    \n",
    "    sds, others, analyzed_sd_dict, analyzed_ctrl_dict = paired_nt_analysis(dicty_to_analyze,\\\n",
    "                                     seq_dicty[base_genome],\\\n",
    "                                     fragment_energy_dict,\\\n",
    "                                     asd_seq,\\\n",
    "                                     conservation_dicty,\\\n",
    "                                     nt_conservation_dicty,\\\n",
    "                                     threshold=threshold,\\\n",
    "                                     upper_threshold=upper_threshold,\\\n",
    "                                     randomization=False,\\\n",
    "                                     subset_names=subset_names,\\\n",
    "                                     only_conserved_aa=only_conserved_aa,\\\n",
    "                                     position_limitation_dict=position_limitation_dict,\\\n",
    "                                     internal_control=controls[1],\\\n",
    "                                     nt_strength_restriction=nt_strength_restriction)\n",
    "    actual_ratios_trint.append(np.mean(sds)/np.mean(others))\n",
    "    print('Lengths:{}, {}, Means:{}, {}, Ratio:{}'.format(len(sds), len(others), np.mean(sds), np.mean(others), np.mean(sds)/np.mean(others)))\n",
    "    sds, others, analyzed_sd_dict, analyzed_ctrl_dict = paired_nt_analysis(dicty_to_analyze,\\\n",
    "                                     seq_dicty[base_genome],\\\n",
    "                                     fragment_energy_dict,\\\n",
    "                                     asd_seq,\\\n",
    "                                     conservation_dicty,\\\n",
    "                                     nt_conservation_dicty,\\\n",
    "                                     threshold=threshold,\\\n",
    "                                     upper_threshold=upper_threshold,\\\n",
    "                                     randomization=True,\\\n",
    "                                     subset_names=subset_names,\\\n",
    "                                     only_conserved_aa=only_conserved_aa,\\\n",
    "                                     position_limitation_dict=position_limitation_dict,\\\n",
    "                                     internal_control=controls[1],\\\n",
    "                                     nt_strength_restriction=nt_strength_restriction)\n",
    "    shuffled_ratios_trint.append(np.mean(sds)/np.mean(others))"
   ]
  },
  {
   "cell_type": "code",
   "execution_count": null,
   "metadata": {
    "collapsed": false
   },
   "outputs": [],
   "source": [
    "if position_limitation_dict == domain_dict:\n",
    "    dfA = pd.DataFrame({'Actual_rats_codon_domain':actual_ratios_codon})\n",
    "    dfB = pd.DataFrame({'Actual_rats_trint_domain':actual_ratios_trint})\n",
    "elif position_limitation_dict == post_domain_dict:\n",
    "    dfC = pd.DataFrame({'Actual_rats_codon_post_domain':actual_ratios_codon})\n",
    "    dfD = pd.DataFrame({'Actual_rats_trint_post_domain':actual_ratios_trint})\n",
    "else:\n",
    "    print('Go back and change something!')"
   ]
  },
  {
   "cell_type": "code",
   "execution_count": null,
   "metadata": {
    "collapsed": true
   },
   "outputs": [],
   "source": [
    "df = pd.concat([dfA[['Actual_rats_codon_domain']],dfB[['Actual_rats_trint_domain']],\\\n",
    "               dfC[['Actual_rats_codon_post_domain']],dfD[['Actual_rats_trint_post_domain']]], axis=1)\n",
    "df.to_csv('../Results/temp_df_domain_analysis_cotrans_NTrestriction={}_ratios.csv'.format(nt_strength_restriction), index=False)"
   ]
  },
  {
   "cell_type": "code",
   "execution_count": null,
   "metadata": {
    "collapsed": true
   },
   "outputs": [],
   "source": []
  },
  {
   "cell_type": "markdown",
   "metadata": {},
   "source": [
    "# Testing gene expression differences systematically"
   ]
  },
  {
   "cell_type": "markdown",
   "metadata": {},
   "source": [
    "### First, tediously get a dictionary linking names in PATRIC annotations to names in RefSeq"
   ]
  },
  {
   "cell_type": "code",
   "execution_count": null,
   "metadata": {
    "collapsed": false
   },
   "outputs": [],
   "source": [
    "genome_ref = list(SeqIO.parse('/Users/adamhockenberry/Projects/2017/Genome_database/Data/GBFs/511145.12.RefSeq.gbf', 'genbank'))[0]\n",
    "genome_pat = list(SeqIO.parse('/Users/adamhockenberry/Projects/2017/Genome_database/Data/GBFs/511145.12.PATRIC.gbf', 'genbank'))[0]\n",
    "\n",
    "locs_dict_ref_positive = {}\n",
    "locs_dict_ref_negative = {}\n",
    "\n",
    "locs_dict_pat_positive = {}\n",
    "locs_dict_pat_negative = {}\n",
    "\n",
    "ref_genome_seq_ref_dict = {}\n",
    "ref_genome_seq_patric_dict = {}\n",
    "\n",
    "for feature_pat in genome_pat.features[:]:\n",
    "    if feature_pat.type == 'CDS':\n",
    "        name_pat = feature_pat.qualifiers['locus_tag'][0]\n",
    "        strand_pat = feature_pat.strand\n",
    "        if strand_pat == 1:\n",
    "            locs_dict_pat_positive[name_pat] = list(range(feature_pat.location.start, feature_pat.location.end))\n",
    "            ref_genome_seq_patric_dict[name_pat] = genome_pat.seq[feature_pat.location.start:feature_pat.location.end]\n",
    "        elif strand_pat == -1:\n",
    "            locs_dict_pat_negative[name_pat] = list(range(feature_pat.location.start, feature_pat.location.end))\n",
    "            ref_genome_seq_patric_dict[name_pat] = genome_pat.seq[feature_pat.location.start:feature_pat.location.end].reverse_complement()\n",
    "\n",
    "for feature_ref in genome_ref.features[:]:\n",
    "    if feature_ref.type == 'CDS':\n",
    "        name_ref = feature_ref.qualifiers['locus_tag'][0]\n",
    "        strand_ref = feature_ref.strand\n",
    "        if strand_ref == 1:\n",
    "            locs_dict_ref_positive[name_ref] = list(range(feature_ref.location.start, feature_ref.location.end))\n",
    "            ref_genome_seq_ref_dict[name_ref] = genome_ref.seq[feature_ref.location.start:feature_ref.location.end]\n",
    "\n",
    "        elif strand_ref == -1:\n",
    "            locs_dict_ref_negative[name_ref] = list(range(feature_ref.location.start, feature_ref.location.end))\n",
    "            ref_genome_seq_ref_dict[name_ref] = genome_ref.seq[feature_ref.location.start:feature_ref.location.end].reverse_complement()\n",
    "            \n",
    "print(len(locs_dict_pat_positive.keys()))\n",
    "print(len(locs_dict_pat_negative.keys()))\n",
    "print(len(locs_dict_ref_positive.keys()))\n",
    "print(len(locs_dict_ref_negative.keys()))   \n",
    "\n",
    "reference_name_dict = {}\n",
    "for name_pat, loc_pat in sorted(locs_dict_pat_positive.items()):\n",
    "    for name_ref, loc_ref in sorted(locs_dict_ref_positive.items()):\n",
    "        if len(set(loc_pat)&set(loc_ref)) / len(loc_pat) > 0.9:\n",
    "            reference_name_dict[name_ref] = name_pat\n",
    "            del locs_dict_ref_positive[name_ref]\n",
    "            break\n",
    "            \n",
    "for name_pat, loc_pat in sorted(locs_dict_pat_negative.items()):\n",
    "    for name_ref, loc_ref in sorted(locs_dict_ref_negative.items()):\n",
    "        if len(set(loc_pat)&set(loc_ref)) / len(loc_pat) > 0.9:\n",
    "            reference_name_dict[name_ref] = name_pat\n",
    "            del locs_dict_ref_negative[name_ref]\n",
    "            break\n",
    "print(len(reference_name_dict.keys()), len(ref_genome_seq_patric_dict.keys()), len(ref_genome_seq_ref_dict.keys()))"
   ]
  },
  {
   "cell_type": "markdown",
   "metadata": {},
   "source": [
    "### Load in dataset of protein abundance from PaxDB (integrated dataset)"
   ]
  },
  {
   "cell_type": "code",
   "execution_count": null,
   "metadata": {
    "collapsed": false
   },
   "outputs": [],
   "source": [
    "df = pd.read_csv('/Users/adamhockenberry/Downloads/511145/511145-WHOLE_ORGANISM-integrated.txt',\\\n",
    "                 index_col = 'string_external_id', sep='\\t', skiprows=10)\n",
    "expression_dict = {}\n",
    "for index in df.index:\n",
    "    temp_name = index.split('.')[-1]\n",
    "    try:\n",
    "        expression_dict[reference_name_dict[temp_name]] = df.loc[index]['abundance']\n",
    "    except KeyError:\n",
    "        pass"
   ]
  },
  {
   "cell_type": "markdown",
   "metadata": {},
   "source": [
    "### Get list of gene expression values in my dataset"
   ]
  },
  {
   "cell_type": "code",
   "execution_count": null,
   "metadata": {
    "collapsed": false
   },
   "outputs": [],
   "source": [
    "dict_to_analyze = dicty_hyphy\n",
    "\n",
    "full_listy = []\n",
    "for key in expression_dict.keys():\n",
    "    if key in dict_to_analyze.keys():\n",
    "        full_listy.append(expression_dict[key])\n",
    "print(len(full_listy))\n",
    "full_listy_to_plot = sorted(full_listy)[:-1]"
   ]
  },
  {
   "cell_type": "code",
   "execution_count": null,
   "metadata": {
    "collapsed": false
   },
   "outputs": [],
   "source": [
    "percentile_20 = np.percentile(full_listy, 20)\n",
    "percentile_40 = np.percentile(full_listy, 40)\n",
    "percentile_60 = np.percentile(full_listy, 60)\n",
    "percentile_80 = np.percentile(full_listy, 80)\n",
    "\n",
    "expression_quantile_dict = {}\n",
    "expression_quantile_dict['lowest'] = []\n",
    "expression_quantile_dict['low'] = []\n",
    "expression_quantile_dict['mid'] = []\n",
    "expression_quantile_dict['high'] = []\n",
    "expression_quantile_dict['highest'] = []\n",
    "\n",
    "for seq_name in dict_to_analyze:\n",
    "    if seq_name not in expression_dict.keys():\n",
    "        continue\n",
    "    if expression_dict[seq_name] < percentile_20:\n",
    "        expression_quantile_dict['lowest'].append(seq_name)\n",
    "    elif expression_dict[seq_name] >= percentile_20 and expression_dict[seq_name] < percentile_40:\n",
    "        expression_quantile_dict['low'].append(seq_name)\n",
    "    elif expression_dict[seq_name] >= percentile_40 and expression_dict[seq_name] < percentile_60:\n",
    "        expression_quantile_dict['mid'].append(seq_name)\n",
    "    elif expression_dict[seq_name] >= percentile_60 and expression_dict[seq_name] < percentile_80:\n",
    "        expression_quantile_dict['high'].append(seq_name)\n",
    "    elif expression_dict[seq_name] >= percentile_80 :\n",
    "        expression_quantile_dict['highest'].append(seq_name)\n",
    "    \n",
    "for key, vals in expression_quantile_dict.items():\n",
    "    print(key, len(vals))\n"
   ]
  },
  {
   "cell_type": "markdown",
   "metadata": {},
   "source": [
    "# Visualize some differences between the categories"
   ]
  },
  {
   "cell_type": "code",
   "execution_count": null,
   "metadata": {
    "collapsed": false
   },
   "outputs": [],
   "source": [
    "fig, ax = plt.subplots(figsize=(5,2))\n",
    "ax.hist(full_listy_to_plot, 10000, cumulative=True, histtype='step')\n",
    "ax.set_xscale('log')\n",
    "# ax.set_yscale('log')\n",
    "ax.axvspan(percentile_20, percentile_40, color='k', alpha=0.2)\n",
    "ax.axvspan(percentile_60, percentile_80, color='k', alpha=0.2)\n",
    "ax.set_xlabel('Protein abundance')\n",
    "ax.set_ylabel('Cumulative\\ncounts')\n",
    "plt.tight_layout()\n"
   ]
  },
  {
   "cell_type": "code",
   "execution_count": null,
   "metadata": {
    "collapsed": false
   },
   "outputs": [],
   "source": [
    "asd_seq = 'CCUCCU'\n",
    "threshold = -4.5\n",
    "upper_threshold = -20\n",
    "\n",
    "density_dict = {}\n",
    "eligible_density_dict = {}\n",
    "exp_energy_dict = {}\n",
    "basic_conservation_dict = {}\n",
    "for category in ['lowest', 'low', 'mid', 'high', 'highest'][:]:\n",
    "    lengths = []\n",
    "    sd_nts = []\n",
    "    energies_temp = []\n",
    "    cons = []\n",
    "    eligible_sites = []\n",
    "    \n",
    "    for gene_name in expression_quantile_dict[category]:\n",
    "        if gene_name in seq_dicty[base_genome].keys():\n",
    "            seq = seq_dicty[base_genome][gene_name]\n",
    "            sd_positions_all_nts, sd_positions_start, energy_list, codon_list =\\\n",
    "                get_sd_sites(seq, asd_seq, threshold, fragment_energy_dict,\\\n",
    "                             position_limitation_list=False, upper_threshold=upper_threshold)\n",
    "            sd_nts.append(len(sd_positions_all_nts))\n",
    "            lengths.append(len(seq)-150)\n",
    "            energies_temp.extend([i for i in energy_list if i < threshold])\n",
    "            cons.append(conservation_dicty[gene_name].count('C')/len(conservation_dicty[gene_name]))\n",
    "            \n",
    "            eligible_sites_ind = []\n",
    "            for i in sd_positions_start:\n",
    "                modifiers = []\n",
    "                if i%3 == 0:\n",
    "                    modifiers = [2]\n",
    "                elif i%3 == 2:\n",
    "                    modifiers = [3]\n",
    "                elif i%3 == 1:\n",
    "                    modifiers = [1,4]\n",
    "                for modifier in modifiers:\n",
    "                    if conservation_dicty[gene_name][int(np.floor((i+modifier)/3.))] != 'C':\n",
    "                        continue\n",
    "                    codon = seq[i+modifier-2:i+modifier+1]\n",
    "                    if codon in redundant_codons:\n",
    "                        eligible_sites_ind.append(i+modifier)\n",
    "                        \n",
    "            eligible_sites_ind = list(set(eligible_sites_ind))\n",
    "            eligible_sites.append(len(eligible_sites_ind))\n",
    "            \n",
    "            \n",
    "            \n",
    "    density_dict[category] = np.array(sd_nts)/np.array(lengths)\n",
    "    exp_energy_dict[category] = energies_temp\n",
    "    basic_conservation_dict[category] = cons\n",
    "    eligible_density_dict[category] = np.array(eligible_sites)/np.array(lengths)"
   ]
  },
  {
   "cell_type": "code",
   "execution_count": null,
   "metadata": {
    "collapsed": false
   },
   "outputs": [],
   "source": [
    "fig = plt.figure(figsize=(3.5,3.5))\n",
    "ax = fig.add_subplot(311)\n",
    "boxes = ax.bar([0, 1, 2, 3, 4], [np.mean(density_dict[i]) for i in ['lowest', 'low', 'mid', 'high', 'highest']], facecolor='0.3')\n",
    "# ax.set_ylim(-0.01, 0.18)\n",
    "\n",
    "ax.set_xticklabels('')\n",
    "ax.set_ylabel('SD-like nt\\nfraction')\n",
    "\n",
    "for line in ax.xaxis.get_ticklines():\n",
    "    line.set_markersize(0)\n",
    "    line.set_markeredgewidth(0)\n",
    "\n",
    "ax = fig.add_subplot(312)\n",
    "boxes = ax.bar([0, 1, 2, 3, 4], [np.mean(basic_conservation_dict[i]) for i in ['lowest', 'low', 'mid', 'high', 'highest']], facecolor='0.3')\n",
    "# ax.set_ylim(-0.01, 0.18)\n",
    "ax.set_xticklabels('')\n",
    "ax.set_ylabel('Conserved AA\\nfraction')\n",
    "for line in ax.xaxis.get_ticklines():\n",
    "    line.set_markersize(0)\n",
    "    line.set_markeredgewidth(0)\n",
    "\n",
    "ax = fig.add_subplot(313)\n",
    "boxes = ax.bar([0, 1, 2, 3, 4], [np.mean(eligible_density_dict[i]) for i in ['lowest', 'low', 'mid', 'high', 'highest']], facecolor='0.3')\n",
    "ax.set_xticklabels('')\n",
    "ax.set_ylabel('Eligible SD-like\\nnt fraction')\n",
    "ax.set_xticklabels(['', 'Lowest 20%', '', '', '', 'Highest 20%'], ha='center')\n",
    "ax.set_xlabel('Gene expression bins')\n",
    "plt.tight_layout(h_pad=-0.1)\n",
    "plt.savefig('../Results/Figures/expression_summary.pdf')"
   ]
  },
  {
   "cell_type": "code",
   "execution_count": null,
   "metadata": {
    "collapsed": true
   },
   "outputs": [],
   "source": []
  },
  {
   "cell_type": "code",
   "execution_count": null,
   "metadata": {
    "collapsed": true
   },
   "outputs": [],
   "source": []
  },
  {
   "cell_type": "code",
   "execution_count": null,
   "metadata": {
    "collapsed": false
   },
   "outputs": [],
   "source": [
    "#####Parameters!\n",
    "dicty_to_analyze = dicty_hyphy\n",
    "threshold=-4.5\n",
    "upper_threshold=-20\n",
    "only_conserved_aa=True\n",
    "position_limitation_dict=False\n",
    "controls=('CODON', 'TRINT')\n",
    "nt_strength_restriction='None'\n",
    "\n",
    "meta_codon = []\n",
    "meta_trint = []\n",
    "for cat in ['lowest', 'low', 'mid', 'high', 'highest']:\n",
    "    file_name_modifiers = '{}_{}_Threshold={}to{}_Conserved={}_NtRestriction={}_Subset={}'.format('hyphy', species_name, upper_threshold, threshold, only_conserved_aa, nt_strength_restriction, cat)\n",
    "    print('#####{}'.format(cat))\n",
    "    subset_names = expression_quantile_dict[cat]\n",
    "    actual_ratios_codon = []\n",
    "    shuffled_ratios_codon = {}\n",
    "    actual_ratios_trint = []\n",
    "    shuffled_ratios_trint = {}\n",
    "    for i in range(20):\n",
    "        shuffled_ratios_codon[i] = []\n",
    "        shuffled_ratios_trint[i] = []\n",
    "        print('#####{}'.format(i))\n",
    "        sds_codon, others_codon, analyzed_sd_dict, analyzed_ctrl_dict, all_sds_codon, all_others_codon = paired_nt_analysis(dicty_to_analyze,\\\n",
    "                                         seq_dicty[base_genome],\\\n",
    "                                         fragment_energy_dict,\\\n",
    "                                         asd_seq,\\\n",
    "                                         conservation_dicty,\\\n",
    "                                         nt_conservation_dicty,\\\n",
    "                                         threshold=threshold,\\\n",
    "                                         upper_threshold=upper_threshold,\\\n",
    "                                         subset_names=subset_names,\\\n",
    "                                         only_conserved_aa=only_conserved_aa,\\\n",
    "                                         position_limitation_dict=position_limitation_dict,\\\n",
    "                                         internal_control=controls[0],\\\n",
    "                                         nt_strength_restriction=nt_strength_restriction)\n",
    "        actual_ratios_codon.append(np.mean(sds_codon)/np.mean(others_codon))\n",
    "        print('Lengths:{}, {}, Means:{}, {}, Ratio:{}'.format(len(sds_codon), len(others_codon),\\\n",
    "                                                              np.mean(sds_codon), np.mean(others_codon),\\\n",
    "                                                              np.mean(sds_codon)/np.mean(others_codon)))\n",
    "        diffs = np.array(sds_codon)-np.array(others_codon)\n",
    "        print('Coin flip expt:', len([i for i in diffs if i > 0])/len([i for i in diffs if i != 0]))\n",
    "        for j in range(stat_randomizations):\n",
    "            combined = sds_codon + others_codon\n",
    "            random.shuffle(combined)\n",
    "            random_sds = combined[:len(sds_codon)]\n",
    "            random_others = combined[len(sds_codon):]\n",
    "            shuffled_ratios_codon[i].append(np.mean(random_sds)/np.mean(random_others))\n",
    "\n",
    "\n",
    "        sds_trint, others_trint, analyzed_sd_dict, analyzed_ctrl_dict, all_sds_trint, all_others_trint = paired_nt_analysis(dicty_to_analyze,\\\n",
    "                                         seq_dicty[base_genome],\\\n",
    "                                         fragment_energy_dict,\\\n",
    "                                         asd_seq,\\\n",
    "                                         conservation_dicty,\\\n",
    "                                         nt_conservation_dicty,\\\n",
    "                                         threshold=threshold,\\\n",
    "                                         upper_threshold=upper_threshold,\\\n",
    "                                         subset_names=subset_names,\\\n",
    "                                         only_conserved_aa=only_conserved_aa,\\\n",
    "                                         position_limitation_dict=position_limitation_dict,\\\n",
    "                                         internal_control=controls[1],\\\n",
    "                                         nt_strength_restriction=nt_strength_restriction)\n",
    "        actual_ratios_trint.append(np.mean(sds_trint)/np.mean(others_trint))\n",
    "        print('Lengths:{}, {}, Means:{}, {}, Ratio:{}'.format(len(sds_trint), len(others_trint),\\\n",
    "                                                              np.mean(sds_trint), np.mean(others_trint),\\\n",
    "                                                              np.mean(sds_trint)/np.mean(others_trint)))\n",
    "        diffs = np.array(sds_trint)-np.array(others_trint)\n",
    "        print('Coin flip expt:', len([i for i in diffs if i > 0])/len([i for i in diffs if i != 0]))\n",
    "        for j in range(stat_randomizations):\n",
    "            combined = sds_trint + others_trint\n",
    "            random.shuffle(combined)\n",
    "            random_sds = combined[:len(sds_trint)]\n",
    "            random_others = combined[len(sds_trint):]\n",
    "            shuffled_ratios_trint[i].append(np.mean(random_sds)/np.mean(random_others))\n",
    "    \n",
    "    \n",
    "    dfA = pd.DataFrame({'Actual_rats_codon':actual_ratios_codon})\n",
    "    dfB = pd.DataFrame({'Shuffled_rats_codon':[j[0] for i,j in shuffled_ratios_codon.items()]})\n",
    "    dfC = pd.DataFrame({'Actual_rats_trint':actual_ratios_trint})\n",
    "    dfD = pd.DataFrame({'Shuffled_rats_trint':[j[0] for i,j in shuffled_ratios_trint.items()]})\n",
    "    df = pd.concat([dfA[['Actual_rats_codon']],dfB[['Shuffled_rats_codon']],\\\n",
    "                   dfC[['Actual_rats_trint']],dfD[['Shuffled_rats_trint']]], axis=1)\n",
    "    df['N_(codon)'] = len(sds_codon)\n",
    "    df['N_(trint)'] = len(sds_trint)\n",
    "    df.to_csv('../Results/Dataframes/df_{}_ratios.csv'.format(file_name_modifiers), index=False)\n",
    "\n",
    "\n",
    "    dfA = pd.DataFrame({'SD-like(codon)':all_sds_codon})\n",
    "    dfB = pd.DataFrame({'SD-like(trint)':all_sds_trint})\n",
    "    dfC = pd.DataFrame({'Control\\n(codon)':all_others_codon})\n",
    "    dfD = pd.DataFrame({'Control\\n(context)':all_others_trint})\n",
    "    df = pd.concat([dfA[['SD-like(codon)']],dfB[['SD-like(trint)']], dfC[['Control\\n(codon)']], dfD[['Control\\n(context)']]], axis=1)\n",
    "    df.to_csv('../Results/Dataframes/df_{}_all.csv'.format(file_name_modifiers), index=False)\n",
    "\n",
    "    dist_of_codon_means = []\n",
    "    for j in range(stat_randomizations):\n",
    "        temp = []\n",
    "        for i in range(mean_randomizations):\n",
    "            temp.append(shuffled_ratios_codon[i][j])\n",
    "        dist_of_codon_means.append(np.mean(temp))\n",
    "\n",
    "    dist_of_trint_means = []\n",
    "    for j in range(stat_randomizations):\n",
    "        temp = []\n",
    "        for i in range(mean_randomizations):\n",
    "            temp.append(shuffled_ratios_trint[i][j])\n",
    "        dist_of_trint_means.append(np.mean(temp))\n",
    "\n",
    "    dfA = pd.DataFrame({'Names':['Actual']+list(range(len(dist_of_codon_means)))})\n",
    "    dfB = pd.DataFrame({'Values(codon)':[np.mean(actual_ratios_codon)]+dist_of_codon_means})\n",
    "    dfC = pd.DataFrame({'Values(trint)':[np.mean(actual_ratios_trint)]+dist_of_trint_means})\n",
    "    df = pd.concat([dfA[['Names']],dfB[['Values(codon)']], dfC[['Values(trint)']]], axis=1)\n",
    "    df.to_csv('../Results/Dataframes/df_{}_stat_sig.csv'.format(file_name_modifiers), index=False)\n",
    "\n",
    "    \n",
    "    \n",
    "    meta_codon.append(actual_ratios_codon)\n",
    "    meta_trint.append(actual_ratios_trint)\n",
    "    print(len(sds_codon), np.mean(actual_ratios_codon), np.mean(actual_ratios_trint))"
   ]
  },
  {
   "cell_type": "code",
   "execution_count": null,
   "metadata": {
    "collapsed": false
   },
   "outputs": [],
   "source": [
    "plt.figure()\n",
    "plt.violinplot(meta_codon, showextrema=False)\n",
    "\n",
    "\n",
    "plt.figure()\n",
    "plt.violinplot(meta_trint, showextrema=False)"
   ]
  },
  {
   "cell_type": "code",
   "execution_count": null,
   "metadata": {
    "collapsed": false
   },
   "outputs": [],
   "source": []
  },
  {
   "cell_type": "code",
   "execution_count": null,
   "metadata": {
    "collapsed": true
   },
   "outputs": [],
   "source": []
  },
  {
   "cell_type": "code",
   "execution_count": null,
   "metadata": {
    "collapsed": true
   },
   "outputs": [],
   "source": []
  },
  {
   "cell_type": "code",
   "execution_count": null,
   "metadata": {
    "collapsed": true
   },
   "outputs": [],
   "source": []
  },
  {
   "cell_type": "code",
   "execution_count": null,
   "metadata": {
    "collapsed": true
   },
   "outputs": [],
   "source": []
  },
  {
   "cell_type": "code",
   "execution_count": null,
   "metadata": {
    "collapsed": true
   },
   "outputs": [],
   "source": []
  },
  {
   "cell_type": "code",
   "execution_count": null,
   "metadata": {
    "collapsed": true
   },
   "outputs": [],
   "source": []
  },
  {
   "cell_type": "markdown",
   "metadata": {
    "collapsed": true
   },
   "source": [
    "# DEPRECATED CODE THAT I'D LIKE TO HANG ON TO"
   ]
  },
  {
   "cell_type": "code",
   "execution_count": null,
   "metadata": {
    "collapsed": false
   },
   "outputs": [],
   "source": [
    "dicty_to_analyze = dicty_hyphy\n",
    "threshold=-4.5\n",
    "upper_threshold=-20\n",
    "subset_names=False\n",
    "only_conserved_aa=True\n",
    "three_prime_analysis=False\n",
    "controls=('CODON', 'TRINT')\n",
    "# nt_strength_restriction=''\n",
    "nt_strength_restriction='CURRENT_IS_WEAKEST'\n",
    "\n",
    "#########################################################\n",
    "####Putative aSD sequence to use in considering hybridization energies\n",
    "with open('../Data/json-energyRef-CCUCCU.txt') as infile:\n",
    "    fragment_energy_dict = json.load(infile)\n",
    "asd_seq = 'CCUCCU'\n",
    "\n",
    "\n",
    "x_sds_all = []\n",
    "x_controls_all=[]\n",
    "for i in range(2):\n",
    "    sds, others, analyzed_sd_dict, analyzed_ctrl_dict = paired_nt_analysis(dicty_to_analyze,\\\n",
    "                                     seq_dicty[base_genome],\\\n",
    "                                     fragment_energy_dict,\\\n",
    "                                     asd_seq,\\\n",
    "                                     conservation_dicty,\\\n",
    "                                     threshold=threshold,\\\n",
    "                                     upper_threshold=upper_threshold,\\\n",
    "                                     randomization=False,\\\n",
    "                                     subset_names=subset_names,\\\n",
    "                                     only_conserved_aa=only_conserved_aa,\\\n",
    "                                     three_prime_analysis=three_prime_analysis,\\\n",
    "                                     internal_control=controls[0],\\\n",
    "                                     nt_strength_restriction=nt_strength_restriction)\n",
    "    print(len(sds), len(others))\n",
    "    nts_sds = []\n",
    "    nts_controls = []\n",
    "    for gene_name, positions in analyzed_sd_dict.items():\n",
    "        for i in positions:\n",
    "            ec_nt = seq_dicty[base_genome][gene_name][i]\n",
    "            matches = []\n",
    "            for genome in ordered_names:\n",
    "                if seq_dicty[genome][gene_name][i] == ec_nt:\n",
    "                    matches.append(1)\n",
    "                else:\n",
    "                    matches.append(0)\n",
    "            nts_sds.append(matches)\n",
    "\n",
    "    for gene_name, positions in analyzed_ctrl_dict.items():\n",
    "        for i in positions:\n",
    "            ec_nt = seq_dicty[base_genome][gene_name][i]\n",
    "            matches = []\n",
    "            for genome in ordered_names:\n",
    "                if seq_dicty[genome][gene_name][i] == ec_nt:\n",
    "                    matches.append(1)\n",
    "                else:\n",
    "                    matches.append(0)\n",
    "            nts_controls.append(matches)\n",
    "    nts_sds = nts_sds * np.exp(np.linspace(10, 1, 61))\n",
    "    nts_sds = sorted(nts_sds, key=lambda x: np.sum(x))[::-1]\n",
    "    nts_sds = nts_sds / np.exp(np.linspace(10, 1, 61))\n",
    "    nts_controls = nts_controls * np.exp(np.linspace(10, 1, 61))\n",
    "    nts_controls = sorted(nts_controls, key=lambda x: np.sum(x))[::-1]\n",
    "    nts_controls = nts_controls / np.exp(np.linspace(10, 1, 61))\n",
    "    \n",
    "    x_sds_all.append(np.sum(nts_sds, axis=0)/np.shape(nts_sds)[0])\n",
    "    x_controls_all.append(np.sum(nts_controls, axis=0)/np.shape(nts_sds)[0])"
   ]
  },
  {
   "cell_type": "markdown",
   "metadata": {},
   "source": [
    "## Making figures from the above data"
   ]
  },
  {
   "cell_type": "code",
   "execution_count": null,
   "metadata": {
    "collapsed": false
   },
   "outputs": [],
   "source": [
    "from Bio import Phylo\n",
    "tree = Phylo.read('../Data/Tree_files/Order_Enterobacterales_Mixed/RAxML_bestTree.MixedSet108seqs', 'newick')"
   ]
  },
  {
   "cell_type": "code",
   "execution_count": null,
   "metadata": {
    "collapsed": false
   },
   "outputs": [],
   "source": [
    "####Order strictly via branch length distance to base_genome\n",
    "ordered_names = []\n",
    "for i in tree.get_terminals():\n",
    "    ordered_names.append((i.name, tree.distance(i.name, base_genome)))\n",
    "ordered_names = sorted(ordered_names, key=lambda x: x[1])\n",
    "ordered_names = [i[0] for i in ordered_names]"
   ]
  },
  {
   "cell_type": "code",
   "execution_count": null,
   "metadata": {
    "collapsed": false
   },
   "outputs": [],
   "source": [
    "###This needs to be written recursively to scale! in any meaningful way\n",
    "###First order by the closest common ancestor to base_genome\n",
    "initial_ordering = []\n",
    "for i in tree.get_terminals():\n",
    "    initial_ordering.append((i.name, len(tree.trace(tree.common_ancestor(i.name, base_genome), base_genome))))\n",
    "initial_ordering = sorted(initial_ordering, key=lambda x: x[1])\n",
    "###Resolve all ties by making whoever is closest to base_genome the top OR by making that call based on \n",
    "###who is closest via clades rather than distance. hmm\n",
    "###Strictly speaking distance makes sense but can produce results that are not consistent with rotation\n",
    "ordered_names = []\n",
    "for i in range(1, max([dist for term,dist in initial_ordering])+1):\n",
    "    tempy = [(term, dist) for term,dist in initial_ordering if dist == i]\n",
    "    if len(tempy) == 1:\n",
    "        ordered_names.append((tempy[0]))\n",
    "    else:\n",
    "        temp_ordering = []\n",
    "        for blah in tempy:\n",
    "            temp_ordering.append((blah[0],len(tree.trace(blah[0], base_genome))))\n",
    "        temp_ordering = sorted(temp_ordering, key=lambda x: x[1])\n",
    "        ordered_names.extend(temp_ordering)\n",
    "ordered_names = [i for i,j in ordered_names]"
   ]
  },
  {
   "cell_type": "code",
   "execution_count": null,
   "metadata": {
    "collapsed": false
   },
   "outputs": [],
   "source": [
    "fig = plt.figure(figsize=(12, 5)) \n",
    "gs = gridspec.GridSpec(1, 2, width_ratios=[4, 1]) \n",
    "ax1 = plt.subplot(gs[0])\n",
    "ax1.matshow(np.array(nts_sds).T, cmap='Greys_r', aspect='auto', )\n",
    "ax1.set_yticklabels('')\n",
    "ax1.set_xticklabels('')\n",
    "for line in ax1.xaxis.get_ticklines():\n",
    "    line.set_markersize(0)\n",
    "    line.set_markeredgewidth(0)\n",
    "for line in ax1.yaxis.get_ticklines():\n",
    "    line.set_markersize(0)\n",
    "    line.set_markeredgewidth(0)\n",
    "ax1.grid(False)\n",
    "ax1.set_ylabel('Species\\n(ordered phylogenetically)')\n",
    "ax1.set_xlabel('Sample of 4-fold redundant sites')\n",
    "ax1.spines['right'].set_visible(True)\n",
    "ax1.spines['top'].set_visible(True)\n",
    "ax1.spines['left'].set_visible(True)\n",
    "ax1.spines['bottom'].set_visible(True)\n",
    "\n",
    "ax2 = plt.subplot(gs[1], sharey=ax1)\n",
    "ax2.plot(np.sum(nts_sds, axis=0)/np.shape(nts_sds)[0], list(range(len(ordered_names))), c='k')\n",
    "ax2.set_xlabel('ANI across 4-fold\\nredundant sites')\n",
    "# ax2.set_xlim(0.25, 1.01)\n",
    "ax2.set_xticks([0.5, 1])\n",
    "for line in ax2.yaxis.get_ticklines():\n",
    "    line.set_markersize(0)\n",
    "    line.set_markeredgewidth(0)\n",
    "ax2.set_ylim(61,0)\n",
    "plt.tight_layout()\n",
    "plt.savefig('../Results/Figures/ANI_example.pdf')"
   ]
  },
  {
   "cell_type": "code",
   "execution_count": null,
   "metadata": {
    "collapsed": false
   },
   "outputs": [],
   "source": [
    "fig, ax = plt.subplots(figsize=(6,6))\n",
    "yvals = list(range(len(ordered_names)))[::-1]\n",
    "# x_sds = np.sum(nts_sds, axis=0)/np.shape(nts_sds)[0]\n",
    "# x_controls = np.sum(nts_controls, axis=0)/np.shape(nts_sds)[0]\n",
    "x_sds = np.mean(np.array(x_sds_all), axis=0)\n",
    "x_controls = np.mean(np.array(x_controls_all), axis=0)\n",
    "ax.plot(x_sds, yvals, label='SD-like', c='steelblue')\n",
    "ax.plot(x_controls, yvals, label='Codon control', c='gray')\n",
    "ax.fill_betweenx(yvals, x_sds, x_controls, where=x_sds>=x_controls, facecolor='steelblue', alpha=0.25)\n",
    "ax.fill_betweenx(yvals, x_sds, x_controls, where=x_sds<x_controls, facecolor='lightgray', alpha=0.5)\n",
    "ax.set_xlim(0.2,1.01)\n",
    "ax.legend(fontsize=16, loc='best', framealpha=1)\n",
    "ax.set_xlabel('ANI across 4-fold\\nredundant sites')\n",
    "ax.set_ylabel('Species (ordered phylogenetically)')\n",
    "ax.set_yticklabels('');\n",
    "# ax.set_ylabel('')\n",
    "\n",
    "for line in ax.yaxis.get_ticklines():\n",
    "    line.set_markersize(0)\n",
    "    line.set_markeredgewidth(0)\n",
    "plt.tight_layout()\n",
    "plt.savefig('../Results/Figures/ANI_SD_CONSERVED_STRONGEST.pdf')"
   ]
  },
  {
   "cell_type": "code",
   "execution_count": null,
   "metadata": {
    "collapsed": false
   },
   "outputs": [],
   "source": [
    "fig, ax = plt.subplots(figsize=(6,6))\n",
    "yvals = list(range(len(ordered_names)))[::-1]\n",
    "# x_sds = np.sum(nts_sds, axis=0)/np.shape(nts_sds)[0]\n",
    "# x_controls = np.sum(nts_controls, axis=0)/np.shape(nts_sds)[0]\n",
    "x_sds = np.mean(np.array(x_sds_all), axis=0)\n",
    "x_controls = np.mean(np.array(x_controls_all), axis=0)\n",
    "\n",
    "for i in range(len(yvals)):\n",
    "    if x_controls[i] > x_sds[i]:\n",
    "        ax.plot([x_sds[i], x_controls[i]], [yvals[i], yvals[i]], c='lightgray', linewidth='3', alpha=0.5)\n",
    "    else:\n",
    "        ax.plot([x_sds[i], x_controls[i]], [yvals[i], yvals[i]], c='steelblue', linewidth='3', alpha=0.5)\n",
    "ax.plot(x_sds, yvals, marker='o', linestyle='', label='SD-like', c='steelblue')\n",
    "ax.plot(x_controls, yvals, marker='o', linestyle='', label='Control', c='gray')\n",
    "\n",
    "# ax.fill_betweenx(yvals, x_sds, x_controls, where=x_sds>=x_controls, facecolor='steelblue', alpha=0.25)\n",
    "# ax.fill_betweenx(yvals, x_sds, x_controls, where=x_sds<x_controls, facecolor='darkorange', alpha=0.25)\n",
    "ax.set_xlim(0.2,1.01)\n",
    "# ax.legend(fontsize=20, loc='best', framealpha=1)\n",
    "ax.set_xlabel('ANI across 4-fold\\nredundant sites')\n",
    "ax.set_ylabel('Species (ordered phylogenetically)')\n",
    "ax.set_yticklabels('');\n",
    "# ax.set_ylabel('')\n",
    "\n",
    "for line in ax.yaxis.get_ticklines():\n",
    "    line.set_markersize(0)\n",
    "    line.set_markeredgewidth(0)\n",
    "plt.tight_layout()\n",
    "plt.savefig('../Results/Figures/ANI_SD_CONSERVED_WEAKEST.pdf')"
   ]
  },
  {
   "cell_type": "markdown",
   "metadata": {},
   "source": [
    "### For contingency tables"
   ]
  },
  {
   "cell_type": "code",
   "execution_count": null,
   "metadata": {
    "collapsed": false
   },
   "outputs": [],
   "source": [
    "ec_consensus = 0\n",
    "ec_not_consensus = 0\n",
    "for i in nts_sds:\n",
    "    if np.median(i) == 1:\n",
    "        ec_consensus += 1\n",
    "    elif np.median(i) == 0:\n",
    "        ec_not_consensus += 1\n",
    "print(ec_consensus, ec_not_consensus)\n",
    "ec_consensus = 0\n",
    "ec_not_consensus = 0\n",
    "for i in nts_controls:\n",
    "    if np.median(i) == 1:\n",
    "        ec_consensus += 1\n",
    "    elif np.median(i) == 0:\n",
    "        ec_not_consensus += 1\n",
    "print(ec_consensus, ec_not_consensus)"
   ]
  },
  {
   "cell_type": "code",
   "execution_count": null,
   "metadata": {
    "collapsed": true
   },
   "outputs": [],
   "source": []
  },
  {
   "cell_type": "code",
   "execution_count": null,
   "metadata": {
    "collapsed": true
   },
   "outputs": [],
   "source": []
  },
  {
   "cell_type": "code",
   "execution_count": null,
   "metadata": {
    "collapsed": true
   },
   "outputs": [],
   "source": []
  },
  {
   "cell_type": "code",
   "execution_count": null,
   "metadata": {
    "collapsed": true
   },
   "outputs": [],
   "source": []
  },
  {
   "cell_type": "code",
   "execution_count": null,
   "metadata": {
    "collapsed": true
   },
   "outputs": [],
   "source": []
  },
  {
   "cell_type": "code",
   "execution_count": null,
   "metadata": {
    "collapsed": true
   },
   "outputs": [],
   "source": []
  },
  {
   "cell_type": "code",
   "execution_count": null,
   "metadata": {
    "collapsed": true
   },
   "outputs": [],
   "source": []
  },
  {
   "cell_type": "code",
   "execution_count": null,
   "metadata": {
    "collapsed": true
   },
   "outputs": [],
   "source": []
  },
  {
   "cell_type": "code",
   "execution_count": null,
   "metadata": {
    "collapsed": true
   },
   "outputs": [],
   "source": []
  },
  {
   "cell_type": "code",
   "execution_count": null,
   "metadata": {
    "collapsed": true
   },
   "outputs": [],
   "source": []
  },
  {
   "cell_type": "code",
   "execution_count": null,
   "metadata": {
    "collapsed": true
   },
   "outputs": [],
   "source": []
  },
  {
   "cell_type": "code",
   "execution_count": null,
   "metadata": {
    "collapsed": true
   },
   "outputs": [],
   "source": []
  }
 ],
 "metadata": {
  "kernelspec": {
   "display_name": "Python 3",
   "language": "python",
   "name": "python3"
  },
  "language_info": {
   "codemirror_mode": {
    "name": "ipython",
    "version": 3
   },
   "file_extension": ".py",
   "mimetype": "text/x-python",
   "name": "python",
   "nbconvert_exporter": "python",
   "pygments_lexer": "ipython3",
   "version": "3.4.5"
  },
  "toc": {
   "colors": {
    "hover_highlight": "#DAA520",
    "navigate_num": "#000000",
    "navigate_text": "#333333",
    "running_highlight": "#FF0000",
    "selected_highlight": "#FFD700",
    "sidebar_border": "#EEEEEE",
    "wrapper_background": "#FFFFFF"
   },
   "moveMenuLeft": true,
   "nav_menu": {
    "height": "228px",
    "width": "252px"
   },
   "navigate_menu": true,
   "number_sections": true,
   "sideBar": true,
   "threshold": 4,
   "toc_cell": false,
   "toc_section_display": "block",
   "toc_window_display": false,
   "widenNotebook": false
  }
 },
 "nbformat": 4,
 "nbformat_minor": 0
}
