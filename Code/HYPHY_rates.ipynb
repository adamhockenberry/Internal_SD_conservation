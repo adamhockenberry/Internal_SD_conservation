{
 "cells": [
  {
   "cell_type": "code",
   "execution_count": 1,
   "metadata": {
    "collapsed": true
   },
   "outputs": [],
   "source": [
    "%matplotlib inline"
   ]
  },
  {
   "cell_type": "code",
   "execution_count": 15,
   "metadata": {
    "collapsed": true
   },
   "outputs": [],
   "source": [
    "import subprocess\n",
    "import glob\n",
    "from Bio import Phylo"
   ]
  },
  {
   "cell_type": "code",
   "execution_count": 29,
   "metadata": {
    "collapsed": true
   },
   "outputs": [],
   "source": [
    "def bash_command(cmd):\n",
    "    return subprocess.Popen(cmd, shell=True, executable='/bin/bash')"
   ]
  },
  {
   "cell_type": "markdown",
   "metadata": {},
   "source": [
    "# Re-write tree / fastas without periods in names"
   ]
  },
  {
   "cell_type": "code",
   "execution_count": 23,
   "metadata": {
    "collapsed": false
   },
   "outputs": [],
   "source": [
    "tree = Phylo.read('../Data/Tree_files/Order_Enterobacterales_Representative/RAxML_bestTree.RepresentativeSet101seqsFLAT', 'newick')\n",
    "for node in tree.get_terminals():\n",
    "    node.name = node.name.replace('.', '_')\n",
    "Phylo.write(tree, './tree_no_periods.newick', 'newick');"
   ]
  },
  {
   "cell_type": "markdown",
   "metadata": {},
   "source": [
    "# Run HYPHY on all"
   ]
  },
  {
   "cell_type": "code",
   "execution_count": 36,
   "metadata": {
    "collapsed": false
   },
   "outputs": [
    {
     "name": "stdout",
     "output_type": "stream",
     "text": [
      "../Data/Orthologs/Order_Enterobacterales_Representative/mfastas_nt/VBIEscCol129921_0001.mfasta\n",
      "../Data/Orthologs/Order_Enterobacterales_Representative/mfastas_nt/VBIEscCol129921_1001.mfasta\n",
      "../Data/Orthologs/Order_Enterobacterales_Representative/mfastas_nt/VBIEscCol129921_2001.mfasta\n",
      "../Data/Orthologs/Order_Enterobacterales_Representative/mfastas_nt/VBIEscCol129921_3001.mfasta\n"
     ]
    }
   ],
   "source": [
    "for infile_name in glob.glob('../Data/Orthologs/Order_Enterobacterales_Representative/mfastas_nt/*001.mfasta'):\n",
    "    gene_name = infile_name.split('/')[-1].rstrip('.mfasta')\n",
    "    print(infile_name)\n",
    "    infile = open(infile_name, 'r').readlines()\n",
    "    with open('temp.fa', 'w') as outfile:\n",
    "        for line in infile:\n",
    "            if line[0] == '>':\n",
    "                outfile.write(line.replace('.', '_'))\n",
    "            else:\n",
    "                outfile.write(line)\n",
    "    command = 'cat temp.fa tree_no_periods.newick > temp_hyphy_align.txt'\n",
    "    process = bash_command(command)\n",
    "    process.communicate()\n",
    "    with open('./proteinER-master/src/temp_hyphy_setup.txt', 'w') as outfile:\n",
    "        outfile.write('INFILE = /Users/adamhockenberry/Projects/2017/Internal_SD_conservation/Code/temp_hyphy_align.txt\\n')\n",
    "        outfile.write('OUTFILE = /Users/adamhockenberry/Projects/2017/Internal_SD_conservation/Results/Order_Enterobacterales_Representative/hyphy_jc/{}.rates'.format(gene_name))\n",
    "    command = 'HYPHYMP CPU=2 /Users/adamhockenberry/Projects/2017/Internal_SD_conservation/Code/proteinER-master/src/fitrates_JC_equal_NT.bf <<< temp_hyphy_setup.txt'\n",
    "    process = bash_command(command)\n",
    "    process.communicate()"
   ]
  },
  {
   "cell_type": "code",
   "execution_count": null,
   "metadata": {
    "collapsed": true
   },
   "outputs": [],
   "source": []
  }
 ],
 "metadata": {
  "kernelspec": {
   "display_name": "Python 3",
   "language": "python",
   "name": "python3"
  },
  "language_info": {
   "codemirror_mode": {
    "name": "ipython",
    "version": 3
   },
   "file_extension": ".py",
   "mimetype": "text/x-python",
   "name": "python",
   "nbconvert_exporter": "python",
   "pygments_lexer": "ipython3",
   "version": "3.4.4"
  },
  "toc": {
   "colors": {
    "hover_highlight": "#DAA520",
    "navigate_num": "#000000",
    "navigate_text": "#333333",
    "running_highlight": "#FF0000",
    "selected_highlight": "#FFD700",
    "sidebar_border": "#EEEEEE",
    "wrapper_background": "#FFFFFF"
   },
   "moveMenuLeft": true,
   "nav_menu": {
    "height": "48px",
    "width": "252px"
   },
   "navigate_menu": true,
   "number_sections": true,
   "sideBar": true,
   "threshold": 4,
   "toc_cell": false,
   "toc_section_display": "block",
   "toc_window_display": false,
   "widenNotebook": false
  }
 },
 "nbformat": 4,
 "nbformat_minor": 0
}
