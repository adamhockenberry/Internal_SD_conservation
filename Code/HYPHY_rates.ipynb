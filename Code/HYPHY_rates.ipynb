{
 "cells": [
  {
   "cell_type": "code",
   "execution_count": 1,
   "metadata": {
    "collapsed": true
   },
   "outputs": [],
   "source": [
    "%matplotlib inline"
   ]
  },
  {
   "cell_type": "code",
   "execution_count": 2,
   "metadata": {
    "collapsed": true
   },
   "outputs": [],
   "source": [
    "import subprocess\n",
    "import glob\n",
    "from Bio import Phylo\n",
    "import os"
   ]
  },
  {
   "cell_type": "code",
   "execution_count": 3,
   "metadata": {
    "collapsed": true
   },
   "outputs": [],
   "source": [
    "def bash_command(cmd):\n",
    "    return subprocess.Popen(cmd, shell=True, executable='/bin/bash')"
   ]
  },
  {
   "cell_type": "markdown",
   "metadata": {},
   "source": [
    "# Re-write tree / fastas without periods in names"
   ]
  },
  {
   "cell_type": "code",
   "execution_count": 4,
   "metadata": {
    "collapsed": false
   },
   "outputs": [],
   "source": [
    "tree = Phylo.read('../Data/Tree_files/Order_Enterobacterales_Mixed/RAxML_bestTree.MixedSet108seqsFLAT', 'newick')\n",
    "for node in tree.get_terminals():\n",
    "    node.name = node.name.replace('.', '_')\n",
    "Phylo.write(tree, './mixed_tree_no_periods.newick', 'newick');"
   ]
  },
  {
   "cell_type": "markdown",
   "metadata": {},
   "source": [
    "# Run HYPHY on all"
   ]
  },
  {
   "cell_type": "code",
   "execution_count": 5,
   "metadata": {
    "collapsed": true
   },
   "outputs": [],
   "source": [
    "command = '/Users/adamhockenberry/workspace/hyphy/HYPHYMP LIBPATH=`pwd`/../../../../workspace/hyphy/res ../../../../workspace/hyphy/res/TemplateBatchFiles/relative_nucleotide_rates.bf '\n",
    "arguments = '(echo /Users/adamhockenberry/Projects/2017/Internal_SD_conservation/Code/temp.fa; echo /Users/adamhockenberry/Projects/2017/Internal_SD_conservation/Code/mixed_tree_no_periods.newick; echo 1) | '"
   ]
  },
  {
   "cell_type": "code",
   "execution_count": 6,
   "metadata": {
    "collapsed": false
   },
   "outputs": [
    {
     "name": "stdout",
     "output_type": "stream",
     "text": [
      "(echo /Users/adamhockenberry/Projects/2017/Internal_SD_conservation/Code/temp.fa; echo /Users/adamhockenberry/Projects/2017/Internal_SD_conservation/Code/mixed_tree_no_periods.newick; echo 1) | /Users/adamhockenberry/workspace/hyphy/HYPHYMP LIBPATH=`pwd`/../../../../workspace/hyphy/res ../../../../workspace/hyphy/res/TemplateBatchFiles/relative_nucleotide_rates.bf \n"
     ]
    }
   ],
   "source": [
    "print(arguments + command)"
   ]
  },
  {
   "cell_type": "code",
   "execution_count": 7,
   "metadata": {
    "collapsed": false
   },
   "outputs": [
    {
     "name": "stdout",
     "output_type": "stream",
     "text": [
      "../Data/Orthologs/Order_Enterobacterales_Mixed/mfastas_nt/VBIEscCol129921_4000.mfasta\n",
      "../Data/Orthologs/Order_Enterobacterales_Mixed/mfastas_nt/VBIEscCol129921_4007.mfasta\n",
      "../Data/Orthologs/Order_Enterobacterales_Mixed/mfastas_nt/VBIEscCol129921_4010.mfasta\n",
      "../Data/Orthologs/Order_Enterobacterales_Mixed/mfastas_nt/VBIEscCol129921_4018.mfasta\n",
      "../Data/Orthologs/Order_Enterobacterales_Mixed/mfastas_nt/VBIEscCol129921_4024.mfasta\n",
      "../Data/Orthologs/Order_Enterobacterales_Mixed/mfastas_nt/VBIEscCol129921_4028.mfasta\n",
      "../Data/Orthologs/Order_Enterobacterales_Mixed/mfastas_nt/VBIEscCol129921_4029.mfasta\n",
      "../Data/Orthologs/Order_Enterobacterales_Mixed/mfastas_nt/VBIEscCol129921_4031.mfasta\n",
      "../Data/Orthologs/Order_Enterobacterales_Mixed/mfastas_nt/VBIEscCol129921_4032.mfasta\n",
      "../Data/Orthologs/Order_Enterobacterales_Mixed/mfastas_nt/VBIEscCol129921_4034.mfasta\n",
      "../Data/Orthologs/Order_Enterobacterales_Mixed/mfastas_nt/VBIEscCol129921_4036.mfasta\n",
      "../Data/Orthologs/Order_Enterobacterales_Mixed/mfastas_nt/VBIEscCol129921_4041.mfasta\n",
      "../Data/Orthologs/Order_Enterobacterales_Mixed/mfastas_nt/VBIEscCol129921_4042.mfasta\n",
      "../Data/Orthologs/Order_Enterobacterales_Mixed/mfastas_nt/VBIEscCol129921_4043.mfasta\n",
      "../Data/Orthologs/Order_Enterobacterales_Mixed/mfastas_nt/VBIEscCol129921_4044.mfasta\n",
      "../Data/Orthologs/Order_Enterobacterales_Mixed/mfastas_nt/VBIEscCol129921_4046.mfasta\n",
      "../Data/Orthologs/Order_Enterobacterales_Mixed/mfastas_nt/VBIEscCol129921_4047.mfasta\n",
      "../Data/Orthologs/Order_Enterobacterales_Mixed/mfastas_nt/VBIEscCol129921_4049.mfasta\n",
      "../Data/Orthologs/Order_Enterobacterales_Mixed/mfastas_nt/VBIEscCol129921_4050.mfasta\n",
      "../Data/Orthologs/Order_Enterobacterales_Mixed/mfastas_nt/VBIEscCol129921_4052.mfasta\n",
      "../Data/Orthologs/Order_Enterobacterales_Mixed/mfastas_nt/VBIEscCol129921_4054.mfasta\n",
      "../Data/Orthologs/Order_Enterobacterales_Mixed/mfastas_nt/VBIEscCol129921_4055.mfasta\n",
      "../Data/Orthologs/Order_Enterobacterales_Mixed/mfastas_nt/VBIEscCol129921_4058.mfasta\n",
      "../Data/Orthologs/Order_Enterobacterales_Mixed/mfastas_nt/VBIEscCol129921_4059.mfasta\n",
      "../Data/Orthologs/Order_Enterobacterales_Mixed/mfastas_nt/VBIEscCol129921_4060.mfasta\n",
      "../Data/Orthologs/Order_Enterobacterales_Mixed/mfastas_nt/VBIEscCol129921_4062.mfasta\n",
      "../Data/Orthologs/Order_Enterobacterales_Mixed/mfastas_nt/VBIEscCol129921_4077.mfasta\n",
      "../Data/Orthologs/Order_Enterobacterales_Mixed/mfastas_nt/VBIEscCol129921_4078.mfasta\n",
      "../Data/Orthologs/Order_Enterobacterales_Mixed/mfastas_nt/VBIEscCol129921_4079.mfasta\n",
      "../Data/Orthologs/Order_Enterobacterales_Mixed/mfastas_nt/VBIEscCol129921_4080.mfasta\n",
      "../Data/Orthologs/Order_Enterobacterales_Mixed/mfastas_nt/VBIEscCol129921_4081.mfasta\n",
      "../Data/Orthologs/Order_Enterobacterales_Mixed/mfastas_nt/VBIEscCol129921_4082.mfasta\n",
      "../Data/Orthologs/Order_Enterobacterales_Mixed/mfastas_nt/VBIEscCol129921_4083.mfasta\n",
      "../Data/Orthologs/Order_Enterobacterales_Mixed/mfastas_nt/VBIEscCol129921_4084.mfasta\n",
      "../Data/Orthologs/Order_Enterobacterales_Mixed/mfastas_nt/VBIEscCol129921_4086.mfasta\n",
      "../Data/Orthologs/Order_Enterobacterales_Mixed/mfastas_nt/VBIEscCol129921_4088.mfasta\n",
      "../Data/Orthologs/Order_Enterobacterales_Mixed/mfastas_nt/VBIEscCol129921_4090.mfasta\n",
      "../Data/Orthologs/Order_Enterobacterales_Mixed/mfastas_nt/VBIEscCol129921_4091.mfasta\n",
      "../Data/Orthologs/Order_Enterobacterales_Mixed/mfastas_nt/VBIEscCol129921_4094.mfasta\n",
      "../Data/Orthologs/Order_Enterobacterales_Mixed/mfastas_nt/VBIEscCol129921_4095.mfasta\n",
      "../Data/Orthologs/Order_Enterobacterales_Mixed/mfastas_nt/VBIEscCol129921_4096.mfasta\n",
      "../Data/Orthologs/Order_Enterobacterales_Mixed/mfastas_nt/VBIEscCol129921_4097.mfasta\n",
      "../Data/Orthologs/Order_Enterobacterales_Mixed/mfastas_nt/VBIEscCol129921_4098.mfasta\n",
      "../Data/Orthologs/Order_Enterobacterales_Mixed/mfastas_nt/VBIEscCol129921_4099.mfasta\n",
      "../Data/Orthologs/Order_Enterobacterales_Mixed/mfastas_nt/VBIEscCol129921_4100.mfasta\n",
      "../Data/Orthologs/Order_Enterobacterales_Mixed/mfastas_nt/VBIEscCol129921_4101.mfasta\n",
      "../Data/Orthologs/Order_Enterobacterales_Mixed/mfastas_nt/VBIEscCol129921_4103.mfasta\n",
      "../Data/Orthologs/Order_Enterobacterales_Mixed/mfastas_nt/VBIEscCol129921_4104.mfasta\n",
      "../Data/Orthologs/Order_Enterobacterales_Mixed/mfastas_nt/VBIEscCol129921_4107.mfasta\n",
      "../Data/Orthologs/Order_Enterobacterales_Mixed/mfastas_nt/VBIEscCol129921_4108.mfasta\n",
      "../Data/Orthologs/Order_Enterobacterales_Mixed/mfastas_nt/VBIEscCol129921_4110.mfasta\n",
      "../Data/Orthologs/Order_Enterobacterales_Mixed/mfastas_nt/VBIEscCol129921_4111.mfasta\n",
      "../Data/Orthologs/Order_Enterobacterales_Mixed/mfastas_nt/VBIEscCol129921_4112.mfasta\n",
      "../Data/Orthologs/Order_Enterobacterales_Mixed/mfastas_nt/VBIEscCol129921_4113.mfasta\n",
      "../Data/Orthologs/Order_Enterobacterales_Mixed/mfastas_nt/VBIEscCol129921_4114.mfasta\n",
      "../Data/Orthologs/Order_Enterobacterales_Mixed/mfastas_nt/VBIEscCol129921_4120.mfasta\n",
      "../Data/Orthologs/Order_Enterobacterales_Mixed/mfastas_nt/VBIEscCol129921_4121.mfasta\n",
      "../Data/Orthologs/Order_Enterobacterales_Mixed/mfastas_nt/VBIEscCol129921_4125.mfasta\n",
      "../Data/Orthologs/Order_Enterobacterales_Mixed/mfastas_nt/VBIEscCol129921_4126.mfasta\n",
      "../Data/Orthologs/Order_Enterobacterales_Mixed/mfastas_nt/VBIEscCol129921_4127.mfasta\n",
      "../Data/Orthologs/Order_Enterobacterales_Mixed/mfastas_nt/VBIEscCol129921_4129.mfasta\n",
      "../Data/Orthologs/Order_Enterobacterales_Mixed/mfastas_nt/VBIEscCol129921_4131.mfasta\n",
      "../Data/Orthologs/Order_Enterobacterales_Mixed/mfastas_nt/VBIEscCol129921_4132.mfasta\n",
      "../Data/Orthologs/Order_Enterobacterales_Mixed/mfastas_nt/VBIEscCol129921_4137.mfasta\n",
      "../Data/Orthologs/Order_Enterobacterales_Mixed/mfastas_nt/VBIEscCol129921_4138.mfasta\n",
      "../Data/Orthologs/Order_Enterobacterales_Mixed/mfastas_nt/VBIEscCol129921_4147.mfasta\n",
      "../Data/Orthologs/Order_Enterobacterales_Mixed/mfastas_nt/VBIEscCol129921_4157.mfasta\n",
      "../Data/Orthologs/Order_Enterobacterales_Mixed/mfastas_nt/VBIEscCol129921_4158.mfasta\n",
      "../Data/Orthologs/Order_Enterobacterales_Mixed/mfastas_nt/VBIEscCol129921_4160.mfasta\n",
      "../Data/Orthologs/Order_Enterobacterales_Mixed/mfastas_nt/VBIEscCol129921_4162.mfasta\n",
      "../Data/Orthologs/Order_Enterobacterales_Mixed/mfastas_nt/VBIEscCol129921_4167.mfasta\n",
      "../Data/Orthologs/Order_Enterobacterales_Mixed/mfastas_nt/VBIEscCol129921_4169.mfasta\n",
      "../Data/Orthologs/Order_Enterobacterales_Mixed/mfastas_nt/VBIEscCol129921_4170.mfasta\n",
      "../Data/Orthologs/Order_Enterobacterales_Mixed/mfastas_nt/VBIEscCol129921_4171.mfasta\n",
      "../Data/Orthologs/Order_Enterobacterales_Mixed/mfastas_nt/VBIEscCol129921_4173.mfasta\n",
      "../Data/Orthologs/Order_Enterobacterales_Mixed/mfastas_nt/VBIEscCol129921_4179.mfasta\n",
      "../Data/Orthologs/Order_Enterobacterales_Mixed/mfastas_nt/VBIEscCol129921_4180.mfasta\n",
      "../Data/Orthologs/Order_Enterobacterales_Mixed/mfastas_nt/VBIEscCol129921_4186.mfasta\n",
      "../Data/Orthologs/Order_Enterobacterales_Mixed/mfastas_nt/VBIEscCol129921_4187.mfasta\n",
      "../Data/Orthologs/Order_Enterobacterales_Mixed/mfastas_nt/VBIEscCol129921_4190.mfasta\n",
      "../Data/Orthologs/Order_Enterobacterales_Mixed/mfastas_nt/VBIEscCol129921_4192.mfasta\n",
      "../Data/Orthologs/Order_Enterobacterales_Mixed/mfastas_nt/VBIEscCol129921_4201.mfasta\n",
      "../Data/Orthologs/Order_Enterobacterales_Mixed/mfastas_nt/VBIEscCol129921_4239.mfasta\n",
      "../Data/Orthologs/Order_Enterobacterales_Mixed/mfastas_nt/VBIEscCol129921_4242.mfasta\n",
      "../Data/Orthologs/Order_Enterobacterales_Mixed/mfastas_nt/VBIEscCol129921_4253.mfasta\n",
      "../Data/Orthologs/Order_Enterobacterales_Mixed/mfastas_nt/VBIEscCol129921_4261.mfasta\n",
      "../Data/Orthologs/Order_Enterobacterales_Mixed/mfastas_nt/VBIEscCol129921_4270.mfasta\n",
      "../Data/Orthologs/Order_Enterobacterales_Mixed/mfastas_nt/VBIEscCol129921_4274.mfasta\n",
      "../Data/Orthologs/Order_Enterobacterales_Mixed/mfastas_nt/VBIEscCol129921_4275.mfasta\n",
      "../Data/Orthologs/Order_Enterobacterales_Mixed/mfastas_nt/VBIEscCol129921_4278.mfasta\n",
      "../Data/Orthologs/Order_Enterobacterales_Mixed/mfastas_nt/VBIEscCol129921_4279.mfasta\n",
      "../Data/Orthologs/Order_Enterobacterales_Mixed/mfastas_nt/VBIEscCol129921_4285.mfasta\n",
      "../Data/Orthologs/Order_Enterobacterales_Mixed/mfastas_nt/VBIEscCol129921_4287.mfasta\n",
      "../Data/Orthologs/Order_Enterobacterales_Mixed/mfastas_nt/VBIEscCol129921_4288.mfasta\n",
      "../Data/Orthologs/Order_Enterobacterales_Mixed/mfastas_nt/VBIEscCol129921_4289.mfasta\n",
      "../Data/Orthologs/Order_Enterobacterales_Mixed/mfastas_nt/VBIEscCol129921_4295.mfasta\n",
      "../Data/Orthologs/Order_Enterobacterales_Mixed/mfastas_nt/VBIEscCol129921_4296.mfasta\n",
      "../Data/Orthologs/Order_Enterobacterales_Mixed/mfastas_nt/VBIEscCol129921_4297.mfasta\n",
      "../Data/Orthologs/Order_Enterobacterales_Mixed/mfastas_nt/VBIEscCol129921_4299.mfasta\n",
      "../Data/Orthologs/Order_Enterobacterales_Mixed/mfastas_nt/VBIEscCol129921_4302.mfasta\n",
      "../Data/Orthologs/Order_Enterobacterales_Mixed/mfastas_nt/VBIEscCol129921_4303.mfasta\n",
      "../Data/Orthologs/Order_Enterobacterales_Mixed/mfastas_nt/VBIEscCol129921_4304.mfasta\n",
      "../Data/Orthologs/Order_Enterobacterales_Mixed/mfastas_nt/VBIEscCol129921_4305.mfasta\n",
      "../Data/Orthologs/Order_Enterobacterales_Mixed/mfastas_nt/VBIEscCol129921_4306.mfasta\n",
      "../Data/Orthologs/Order_Enterobacterales_Mixed/mfastas_nt/VBIEscCol129921_4307.mfasta\n",
      "../Data/Orthologs/Order_Enterobacterales_Mixed/mfastas_nt/VBIEscCol129921_4308.mfasta\n",
      "../Data/Orthologs/Order_Enterobacterales_Mixed/mfastas_nt/VBIEscCol129921_4309.mfasta\n",
      "../Data/Orthologs/Order_Enterobacterales_Mixed/mfastas_nt/VBIEscCol129921_4310.mfasta\n",
      "../Data/Orthologs/Order_Enterobacterales_Mixed/mfastas_nt/VBIEscCol129921_4312.mfasta\n",
      "../Data/Orthologs/Order_Enterobacterales_Mixed/mfastas_nt/VBIEscCol129921_4332.mfasta\n",
      "../Data/Orthologs/Order_Enterobacterales_Mixed/mfastas_nt/VBIEscCol129921_4333.mfasta\n",
      "../Data/Orthologs/Order_Enterobacterales_Mixed/mfastas_nt/VBIEscCol129921_4334.mfasta\n",
      "../Data/Orthologs/Order_Enterobacterales_Mixed/mfastas_nt/VBIEscCol129921_4335.mfasta\n",
      "../Data/Orthologs/Order_Enterobacterales_Mixed/mfastas_nt/VBIEscCol129921_4339.mfasta\n",
      "../Data/Orthologs/Order_Enterobacterales_Mixed/mfastas_nt/VBIEscCol129921_4340.mfasta\n",
      "../Data/Orthologs/Order_Enterobacterales_Mixed/mfastas_nt/VBIEscCol129921_4345.mfasta\n",
      "../Data/Orthologs/Order_Enterobacterales_Mixed/mfastas_nt/VBIEscCol129921_4346.mfasta\n",
      "../Data/Orthologs/Order_Enterobacterales_Mixed/mfastas_nt/VBIEscCol129921_4349.mfasta\n",
      "../Data/Orthologs/Order_Enterobacterales_Mixed/mfastas_nt/VBIEscCol129921_4350.mfasta\n",
      "../Data/Orthologs/Order_Enterobacterales_Mixed/mfastas_nt/VBIEscCol129921_4351.mfasta\n",
      "../Data/Orthologs/Order_Enterobacterales_Mixed/mfastas_nt/VBIEscCol129921_4353.mfasta\n",
      "../Data/Orthologs/Order_Enterobacterales_Mixed/mfastas_nt/VBIEscCol129921_4358.mfasta\n",
      "../Data/Orthologs/Order_Enterobacterales_Mixed/mfastas_nt/VBIEscCol129921_4359.mfasta\n",
      "../Data/Orthologs/Order_Enterobacterales_Mixed/mfastas_nt/VBIEscCol129921_4361.mfasta\n",
      "../Data/Orthologs/Order_Enterobacterales_Mixed/mfastas_nt/VBIEscCol129921_4362.mfasta\n",
      "../Data/Orthologs/Order_Enterobacterales_Mixed/mfastas_nt/VBIEscCol129921_4363.mfasta\n",
      "../Data/Orthologs/Order_Enterobacterales_Mixed/mfastas_nt/VBIEscCol129921_4364.mfasta\n",
      "../Data/Orthologs/Order_Enterobacterales_Mixed/mfastas_nt/VBIEscCol129921_4365.mfasta\n",
      "../Data/Orthologs/Order_Enterobacterales_Mixed/mfastas_nt/VBIEscCol129921_4366.mfasta\n",
      "../Data/Orthologs/Order_Enterobacterales_Mixed/mfastas_nt/VBIEscCol129921_4368.mfasta\n",
      "../Data/Orthologs/Order_Enterobacterales_Mixed/mfastas_nt/VBIEscCol129921_4369.mfasta\n",
      "../Data/Orthologs/Order_Enterobacterales_Mixed/mfastas_nt/VBIEscCol129921_4372.mfasta\n",
      "../Data/Orthologs/Order_Enterobacterales_Mixed/mfastas_nt/VBIEscCol129921_4376.mfasta\n",
      "../Data/Orthologs/Order_Enterobacterales_Mixed/mfastas_nt/VBIEscCol129921_4377.mfasta\n",
      "../Data/Orthologs/Order_Enterobacterales_Mixed/mfastas_nt/VBIEscCol129921_4378.mfasta\n",
      "../Data/Orthologs/Order_Enterobacterales_Mixed/mfastas_nt/VBIEscCol129921_4388.mfasta\n",
      "../Data/Orthologs/Order_Enterobacterales_Mixed/mfastas_nt/VBIEscCol129921_4393.mfasta\n",
      "../Data/Orthologs/Order_Enterobacterales_Mixed/mfastas_nt/VBIEscCol129921_4463.mfasta\n",
      "../Data/Orthologs/Order_Enterobacterales_Mixed/mfastas_nt/VBIEscCol129921_4499.mfasta\n",
      "../Data/Orthologs/Order_Enterobacterales_Mixed/mfastas_nt/VBIEscCol129921_4500.mfasta\n",
      "../Data/Orthologs/Order_Enterobacterales_Mixed/mfastas_nt/VBIEscCol129921_4510.mfasta\n",
      "../Data/Orthologs/Order_Enterobacterales_Mixed/mfastas_nt/VBIEscCol129921_4518.mfasta\n",
      "../Data/Orthologs/Order_Enterobacterales_Mixed/mfastas_nt/VBIEscCol129921_4520.mfasta\n",
      "../Data/Orthologs/Order_Enterobacterales_Mixed/mfastas_nt/VBIEscCol129921_4522.mfasta\n",
      "../Data/Orthologs/Order_Enterobacterales_Mixed/mfastas_nt/VBIEscCol129921_4529.mfasta\n",
      "../Data/Orthologs/Order_Enterobacterales_Mixed/mfastas_nt/VBIEscCol129921_4530.mfasta\n",
      "../Data/Orthologs/Order_Enterobacterales_Mixed/mfastas_nt/VBIEscCol129921_4531.mfasta\n",
      "../Data/Orthologs/Order_Enterobacterales_Mixed/mfastas_nt/VBIEscCol129921_4532.mfasta\n",
      "../Data/Orthologs/Order_Enterobacterales_Mixed/mfastas_nt/VBIEscCol129921_4534.mfasta\n",
      "../Data/Orthologs/Order_Enterobacterales_Mixed/mfastas_nt/VBIEscCol129921_4536.mfasta\n",
      "../Data/Orthologs/Order_Enterobacterales_Mixed/mfastas_nt/VBIEscCol129921_4537.mfasta\n",
      "../Data/Orthologs/Order_Enterobacterales_Mixed/mfastas_nt/VBIEscCol129921_4538.mfasta\n",
      "../Data/Orthologs/Order_Enterobacterales_Mixed/mfastas_nt/VBIEscCol129921_4540.mfasta\n",
      "../Data/Orthologs/Order_Enterobacterales_Mixed/mfastas_nt/VBIEscCol129921_4544.mfasta\n",
      "../Data/Orthologs/Order_Enterobacterales_Mixed/mfastas_nt/VBIEscCol129921_4546.mfasta\n",
      "../Data/Orthologs/Order_Enterobacterales_Mixed/mfastas_nt/VBIEscCol129921_4550.mfasta\n"
     ]
    }
   ],
   "source": [
    "for infile_name in glob.glob('../Data/Orthologs/Order_Enterobacterales_Mixed/mfastas_nt/*_4*.mfasta'):\n",
    "    print(infile_name)\n",
    "    gene_name = infile_name.split('/')[-1].rstrip('.mfasta')\n",
    "    rate_file_name = '../Results/Order_Enterobacterales_Mixed/Hyphy_GTR/{}.site-rates.json'.format(gene_name)\n",
    "    if os.path.isfile(rate_file_name) == True:\n",
    "        continue    \n",
    "        \n",
    "    infile = open(infile_name, 'r').readlines()\n",
    "    with open('temp.fa', 'w') as outfile:\n",
    "        for line in infile:\n",
    "            if line[0] == '>':\n",
    "                outfile.write(line.replace('.', '_'))\n",
    "            else:\n",
    "                outfile.write(line)\n",
    "    process = bash_command(arguments + command)\n",
    "    process.communicate()\n",
    "    \n",
    "    move_command = 'mv ./temp.fa.site-rates.json {}'.format(rate_file_name)\n",
    "    process = bash_command(move_command)\n",
    "    process.communicate()"
   ]
  },
  {
   "cell_type": "code",
   "execution_count": null,
   "metadata": {
    "collapsed": true
   },
   "outputs": [],
   "source": []
  },
  {
   "cell_type": "code",
   "execution_count": null,
   "metadata": {
    "collapsed": false
   },
   "outputs": [],
   "source": [
    "for infile_name in glob.glob('../Data/Orthologs/Order_Enterobacterales_Mixed/mfastas_nt/*_1*.mfasta'):\n",
    "    gene_name = infile_name.split('/')[-1].rstrip('.mfasta')\n",
    "    print(infile_name)\n",
    "    rate_file_name = '/Users/adamhockenberry/Projects/2017/Internal_SD_conservation/Results/Order_Enterobacterales_Mixed/Hyphy_JC/{}.rates'.format(gene_name)\n",
    "    if os.path.isfile(rate_file_name) == True:\n",
    "        continue\n",
    "\n",
    "    infile = open(infile_name, 'r').readlines()\n",
    "    with open('temp.fa', 'w') as outfile:\n",
    "        for line in infile:\n",
    "            if line[0] == '>':\n",
    "                outfile.write(line.replace('.', '_'))\n",
    "            else:\n",
    "                outfile.write(line)\n",
    "                \n",
    "    command = 'cat temp.fa mixed_tree_no_periods.newick > temp_hyphy_align.txt'\n",
    "    process = bash_command(command)\n",
    "    process.communicate()\n",
    "    with open('./proteinER-master/src/temp_hyphy_setup.txt', 'w') as outfile:\n",
    "        outfile.write('INFILE = /Users/adamhockenberry/Projects/2017/Internal_SD_conservation/Code/temp_hyphy_align.txt\\n')\n",
    "        outfile.write('OUTFILE = {}'.format(rate_file_name))\n",
    "    command = 'HYPHYMP CPU=2 /Users/adamhockenberry/Projects/2017/Internal_SD_conservation/Code/proteinER-master/src/fitrates_JC_equal_NT.bf <<< temp_hyphy_setup.txt'\n",
    "    process = bash_command(command)\n",
    "    process.communicate()"
   ]
  },
  {
   "cell_type": "code",
   "execution_count": null,
   "metadata": {
    "collapsed": true
   },
   "outputs": [],
   "source": []
  }
 ],
 "metadata": {
  "kernelspec": {
   "display_name": "Python 3",
   "language": "python",
   "name": "python3"
  },
  "language_info": {
   "codemirror_mode": {
    "name": "ipython",
    "version": 3
   },
   "file_extension": ".py",
   "mimetype": "text/x-python",
   "name": "python",
   "nbconvert_exporter": "python",
   "pygments_lexer": "ipython3",
   "version": "3.4.4"
  },
  "toc": {
   "colors": {
    "hover_highlight": "#DAA520",
    "navigate_num": "#000000",
    "navigate_text": "#333333",
    "running_highlight": "#FF0000",
    "selected_highlight": "#FFD700",
    "sidebar_border": "#EEEEEE",
    "wrapper_background": "#FFFFFF"
   },
   "moveMenuLeft": true,
   "nav_menu": {
    "height": "48px",
    "width": "252px"
   },
   "navigate_menu": true,
   "number_sections": true,
   "sideBar": true,
   "threshold": 4,
   "toc_cell": false,
   "toc_section_display": "block",
   "toc_window_display": false,
   "widenNotebook": false
  }
 },
 "nbformat": 4,
 "nbformat_minor": 0
}
