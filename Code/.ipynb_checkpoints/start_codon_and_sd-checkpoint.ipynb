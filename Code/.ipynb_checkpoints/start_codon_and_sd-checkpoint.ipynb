{
 "cells": [
  {
   "cell_type": "code",
   "execution_count": 1,
   "metadata": {
    "collapsed": true
   },
   "outputs": [],
   "source": [
    "%matplotlib inline"
   ]
  },
  {
   "cell_type": "code",
   "execution_count": 2,
   "metadata": {
    "collapsed": true
   },
   "outputs": [],
   "source": [
    "from Bio import SeqIO\n",
    "import json\n",
    "import numpy as np\n",
    "import random\n",
    "\n",
    "from matplotlib import pyplot as plt\n",
    "from scipy import stats\n",
    "from collections import Counter\n",
    "\n",
    "import re\n",
    "\n",
    "import pandas as pd"
   ]
  },
  {
   "cell_type": "code",
   "execution_count": 3,
   "metadata": {
    "collapsed": true
   },
   "outputs": [],
   "source": [
    "import matplotlib\n",
    "matplotlib.rcParams['xtick.labelsize'] = 9\n",
    "matplotlib.rcParams['ytick.labelsize'] = 9\n",
    "matplotlib.rcParams['axes.labelsize'] = 9\n",
    "matplotlib.rcParams['axes.titlesize'] = 10\n",
    "\n",
    "matplotlib.rcParams['axes.grid'] = True\n",
    "matplotlib.rcParams['grid.color'] = '0.8'\n",
    "matplotlib.rcParams['grid.linewidth'] = '0.5'\n",
    "\n",
    "matplotlib.rcParams['axes.edgecolor'] = '0.25'\n",
    "matplotlib.rcParams['xtick.color'] = '0'\n",
    "matplotlib.rcParams['ytick.color'] = '0'\n",
    "\n",
    "matplotlib.rcParams['xtick.major.width'] = 2\n",
    "matplotlib.rcParams['ytick.major.width'] = 2\n",
    "matplotlib.rcParams['ytick.major.size'] = 5\n",
    "matplotlib.rcParams['xtick.major.size'] = 5\n",
    "# matplotlib.rcParams['axes.spines.right'] = False\n",
    "# matplotlib.rcParams['axes.spines.left'] = False\n",
    "# matplotlib.rcParams['axes.spines.top'] = False\n",
    "# matplotlib.rcParams['axes.spines.bottom'] = False\n",
    "\n",
    "matplotlib.rcParams['font.family'] = 'sans-serif'\n",
    "matplotlib.rcParams['font.weight']='ultralight'\n",
    "# matplotlib.rcParams['font.sans-serif'] = ['Computer Modern Sans Serif']\n",
    "matplotlib.rcParams['axes.axisbelow'] = True"
   ]
  },
  {
   "cell_type": "code",
   "execution_count": 40,
   "metadata": {
    "collapsed": false
   },
   "outputs": [],
   "source": [
    "records = SeqIO.parse('../Data/FNAs/511145.12.PATRIC.fna', 'fasta')\n",
    "seq_dict = {}\n",
    "for record in records:\n",
    "    temp = str(record.seq)\n",
    "    if len(temp) % 3 != 0:\n",
    "        continue\n",
    "    if temp.count('A') + temp.count('T') +temp.count('G') +temp.count('C') != len(temp):\n",
    "        continue\n",
    "    if len(temp) > 2000:\n",
    "        continue\n",
    "    if len(temp) < 180:\n",
    "        continue\n",
    "    seq_dict[record.id.split('|')[0]] = temp"
   ]
  },
  {
   "cell_type": "code",
   "execution_count": 41,
   "metadata": {
    "collapsed": false
   },
   "outputs": [
    {
     "name": "stdout",
     "output_type": "stream",
     "text": [
      "3917\n"
     ]
    }
   ],
   "source": [
    "nt_seqs = list(seq_dict.values())\n",
    "print(len(nt_seqs))"
   ]
  },
  {
   "cell_type": "code",
   "execution_count": 42,
   "metadata": {
    "collapsed": false
   },
   "outputs": [],
   "source": [
    "with open('../Data/json-energyRef-CCUCCU.txt', 'r') as infile:\n",
    "    fragment_energy_dict = json.load(infile)\n",
    "asd_seq = 'CCUCCU'"
   ]
  },
  {
   "cell_type": "code",
   "execution_count": 43,
   "metadata": {
    "collapsed": false
   },
   "outputs": [],
   "source": [
    "ignore_last_x = 50\n",
    "ignore_first = 100\n",
    "energy_seqs = []\n",
    "for nt_sequence in nt_seqs:\n",
    "    energy_list = []\n",
    "    for i in range(ignore_first, len(nt_sequence)-len(asd_seq)-ignore_last_x):\n",
    "        fragment = nt_sequence[i:i+len(asd_seq)]\n",
    "        energy = fragment_energy_dict[fragment.replace('T', 'U')]\n",
    "        energy_list.append(energy)\n",
    "    energy_seqs.append(energy_list)"
   ]
  },
  {
   "cell_type": "code",
   "execution_count": 55,
   "metadata": {
    "collapsed": false
   },
   "outputs": [
    {
     "name": "stdout",
     "output_type": "stream",
     "text": [
      "(0, 6) 20641\n",
      "(2, 8) 20641\n",
      "(4, 10) 20641\n",
      "(6, 12) 20641\n",
      "(8, 14) 20641\n",
      "(10, 16) 20641\n",
      "(12, 18) 20641\n",
      "(14, 20) 20641\n"
     ]
    }
   ],
   "source": [
    "windows_to_search = []\n",
    "for i in range(0, 16, 2):\n",
    "    windows_to_search.append((i,i+6))\n",
    "\n",
    "\n",
    "results_dicty_actual = {}\n",
    "results_dicty_control = {}\n",
    "\n",
    "randomizations = 100\n",
    "\n",
    "for window_to_search in windows_to_search:\n",
    "    putative_starts = []\n",
    "    sd_counts_per_gene = []\n",
    "    for i, energy_list in enumerate(energy_seqs):\n",
    "        sd_counts = 0\n",
    "        for pos,energy in enumerate(energy_list):\n",
    "            if pos == 0:\n",
    "                continue\n",
    "            if pos == len(energy_list)-1:\n",
    "                continue\n",
    "            if energy <= -4.5 and energy <= energy_list[pos-1] and energy < energy_list[pos+1]:\n",
    "                sd_counts += 1\n",
    "                fragment = nt_seqs[i][pos+ignore_first+len(asd_seq)+window_to_search[0]:\\\n",
    "                                      pos+ignore_first+len(asd_seq)+window_to_search[1]]\n",
    "                assert len(fragment)==6\n",
    "                if 'ATG' in fragment:\n",
    "                    position = fragment.index('ATG')\n",
    "                    absolute_position = pos+ignore_first+len(asd_seq)+window_to_search[0]+position\n",
    "                    putative_starts.append(absolute_position)\n",
    "        sd_counts_per_gene.append(sd_counts)\n",
    "    print(window_to_search, np.sum(sd_counts_per_gene))\n",
    "    \n",
    "    control_starts_matrix = []\n",
    "    for randomization in range(randomizations):\n",
    "        control_starts = []\n",
    "        for i, sd_counts in enumerate(sd_counts_per_gene):\n",
    "            if sd_counts > 0:\n",
    "                positions_to_test = np.random.choice(list(range(len(energy_seqs[i]))), replace=False, size=sd_counts)\n",
    "                for pos in positions_to_test:\n",
    "                    fragment = nt_seqs[i][pos+ignore_first+len(asd_seq)+window_to_search[0]:\\\n",
    "                                          pos+ignore_first+len(asd_seq)+window_to_search[1]]\n",
    "                    if 'ATG' in fragment:\n",
    "                        position = fragment.index('ATG')\n",
    "                        absolute_position = pos+ignore_first+len(asd_seq)+window_to_search[0]+position\n",
    "                        control_starts.append(absolute_position)\n",
    "        control_starts_matrix.append(control_starts)\n",
    "    \n",
    "\n",
    "    results_dicty_actual[window_to_search] = putative_starts\n",
    "    results_dicty_control[window_to_search] = control_starts_matrix"
   ]
  },
  {
   "cell_type": "code",
   "execution_count": 84,
   "metadata": {
    "collapsed": false
   },
   "outputs": [
    {
     "name": "stdout",
     "output_type": "stream",
     "text": [
      "(0, 6) -0.0863962872278 0.93115139826 0.998138417846\n",
      "(2, 8) -3.9281059751 8.56174843385e-05 0.904673512959\n",
      "(4, 10) -7.86736039222 3.62202104324e-15 0.797966289867\n",
      "(6, 12) -10.7612067403 5.24784138797e-27 0.753052143156\n",
      "(8, 14) -3.90873104179 9.27821883819e-05 0.90359352193\n",
      "(10, 16) -1.38333555454 0.166562000979 0.968490752721\n",
      "(12, 18) -3.61392961058 0.000301590971385 0.913337649314\n",
      "(14, 20) 1.21010480934 0.226238677966 1.03111812667\n"
     ]
    },
    {
     "data": {
      "image/png": "[encoded data removed]",
      "text/plain": [
       "<matplotlib.figure.Figure at 0x1153efe48>"
      ]
     },
     "metadata": {},
     "output_type": "display_data"
    }
   ],
   "source": [
    "n = len(windows_to_search)\n",
    "actual_vals = [len(results_dicty_actual[window]) for window in windows_to_search]\n",
    "control_vals_mean = []\n",
    "control_vals_stdev = []\n",
    "for window in windows_to_search:\n",
    "    tempy = []\n",
    "    for i in range(randomizations):\n",
    "        tempy.append(len(results_dicty_control[window][i]))\n",
    "    control_vals_mean.append(np.mean(tempy))\n",
    "    control_vals_stdev.append(np.std(tempy))\n",
    "    \n",
    "for i in range(len(actual_vals)):\n",
    "    zscore = (actual_vals[i]-control_vals_mean[i])/control_vals_stdev[i]\n",
    "    print(windows_to_search[i], zscore, stats.norm.sf(abs(zscore))*2, actual_vals[i]/control_vals_mean[i])\n",
    "\n",
    "\n",
    "plot_indices = np.arange(n)\n",
    "width = 0.4\n",
    "\n",
    "fig, ax = plt.subplots(figsize=(4.5,3))\n",
    "rects1 = ax.bar(plot_indices, actual_vals, width, color='#2ca02c') \n",
    "rects2 = ax.bar(plot_indices+width, control_vals_mean, width, yerr=control_vals_stdev, color='thistle') \n",
    "\n",
    "ax.set_xticks(plot_indices + width/2)\n",
    "ax.set_xticklabels(windows_to_search, rotation=45)\n",
    "ax.set_ylabel('ATG counts')\n",
    "ax.set_xlabel('3\\' downstream window')\n",
    "legend = ax.legend((rects1[0], rects2[0]), ('Actual SD-like sites', 'Random sites'), fontsize=10, loc=4)\n",
    "legend.get_frame().set_alpha(1)\n",
    "ax.set_ylim(0, 1900)\n",
    "plt.tight_layout()\n",
    "plt.savefig('../Results/Figures/start_codon_frequency.pdf')"
   ]
  },
  {
   "cell_type": "code",
   "execution_count": null,
   "metadata": {
    "collapsed": true
   },
   "outputs": [],
   "source": []
  },
  {
   "cell_type": "code",
   "execution_count": null,
   "metadata": {
    "collapsed": true
   },
   "outputs": [],
   "source": []
  },
  {
   "cell_type": "code",
   "execution_count": null,
   "metadata": {
    "collapsed": true
   },
   "outputs": [],
   "source": []
  },
  {
   "cell_type": "code",
   "execution_count": null,
   "metadata": {
    "collapsed": true
   },
   "outputs": [],
   "source": []
  },
  {
   "cell_type": "markdown",
   "metadata": {
    "collapsed": true
   },
   "source": [
    "# Null expectation about total number of SD-like counts"
   ]
  },
  {
   "cell_type": "code",
   "execution_count": 100,
   "metadata": {
    "collapsed": false
   },
   "outputs": [],
   "source": [
    "from Bio.Data import CodonTable\n",
    "\n",
    "def get_codon_dicts(n=11):\n",
    "    '''\n",
    "    This function outputs two dictionaries to convert between amino acids and codons and vice versa.\n",
    "    No necessary imports unless you want to use a strange genetic code table.\n",
    "    '''\n",
    "    GivenCodonTable = CodonTable.unambiguous_dna_by_id[n]\n",
    "    nucleotides = ['A', 'T', 'G', 'C']\n",
    "    aa_to_codons = {}\n",
    "    for first in nucleotides:\n",
    "        for second in nucleotides:\n",
    "            for third in nucleotides:\n",
    "                Codon = first + second + third\n",
    "                if Codon not in CodonTable.unambiguous_dna_by_id[n].stop_codons:\n",
    "                    if GivenCodonTable.forward_table[Codon] in aa_to_codons.keys():\n",
    "                            aa_to_codons[GivenCodonTable.forward_table[Codon]].append(Codon)\n",
    "                    else:\n",
    "                        aa_to_codons[GivenCodonTable.forward_table[Codon]] = [Codon]\n",
    "                else:\n",
    "                    pass\n",
    "    codon_to_aa = {}\n",
    "    for aa, syns in aa_to_codons.items():\n",
    "        for syn in syns:\n",
    "            codon_to_aa[syn] = aa\n",
    "    return aa_to_codons, codon_to_aa\n",
    "\n",
    "def shuffle_gene_synonymous(gene_sequence_codons, aa_to_codons_dict, codon_to_aa_dict):\n",
    "    '''\n",
    "    This is my randomization procedure that I think is pretty efficient?\n",
    "    What it does is essentially break every 'gene_sequence_codons' list down into a dictionary (\"temp_dict\")\n",
    "    that has key:val of \"amino acid\":\"list of all codons used in sequence for that amino acid\". Then shuffles\n",
    "    those resulting lists and re-codes the original gene_sequence_codons\n",
    "    '''\n",
    "    shuffled_sequence_codons = []\n",
    "    temp_dict = {}\n",
    "    for aa in aa_to_codons_dict:\n",
    "        temp_dict[aa] = []\n",
    "    for codon in gene_sequence_codons:\n",
    "        temp_dict[codon_to_aa_dict[codon]].append(codon)\n",
    "    for aa, synon_codons in temp_dict.items():\n",
    "        np.random.shuffle(synon_codons)\n",
    "    for codon in gene_sequence_codons:\n",
    "        shuffled_sequence_codons.append(temp_dict[codon_to_aa_dict[codon]].pop())\n",
    "    return shuffled_sequence_codons\n",
    "\n",
    "aa_to_codons_dict, codon_to_aa_dict = get_codon_dicts()"
   ]
  },
  {
   "cell_type": "code",
   "execution_count": 101,
   "metadata": {
    "collapsed": false
   },
   "outputs": [],
   "source": [
    "records = SeqIO.parse('../Data/FNAs/511145.12.PATRIC.fna', 'fasta')\n",
    "seq_dict = {}\n",
    "for record in records:\n",
    "    temp = str(record.seq)\n",
    "    if len(temp) % 3 != 0:\n",
    "        continue\n",
    "    if temp.count('A') + temp.count('T') +temp.count('G') +temp.count('C') != len(temp):\n",
    "        continue\n",
    "    if len(temp) > 2000:\n",
    "        continue\n",
    "    if len(temp) < 180:\n",
    "        continue\n",
    "    seq_dict[record.id.split('|')[0]] = temp"
   ]
  },
  {
   "cell_type": "code",
   "execution_count": 102,
   "metadata": {
    "collapsed": false
   },
   "outputs": [
    {
     "name": "stdout",
     "output_type": "stream",
     "text": [
      "3917\n"
     ]
    }
   ],
   "source": [
    "nt_seqs = list(seq_dict.values())\n",
    "print(len(nt_seqs))"
   ]
  },
  {
   "cell_type": "code",
   "execution_count": 103,
   "metadata": {
    "collapsed": true
   },
   "outputs": [],
   "source": [
    "with open('../Data/json-energyRef-CCUCCU.txt', 'r') as infile:\n",
    "    fragment_energy_dict = json.load(infile)\n",
    "asd_seq = 'CCUCCU'"
   ]
  },
  {
   "cell_type": "code",
   "execution_count": 104,
   "metadata": {
    "collapsed": true
   },
   "outputs": [],
   "source": [
    "ignore_last_x = 50\n",
    "ignore_first = 100\n",
    "energy_seqs = []\n",
    "for nt_sequence in nt_seqs:\n",
    "    energy_list = []\n",
    "    for i in range(ignore_first, len(nt_sequence)-len(asd_seq)-ignore_last_x):\n",
    "        fragment = nt_sequence[i:i+len(asd_seq)]\n",
    "        energy = fragment_energy_dict[fragment.replace('T', 'U')]\n",
    "        energy_list.append(energy)\n",
    "    energy_seqs.append(energy_list)"
   ]
  },
  {
   "cell_type": "code",
   "execution_count": 113,
   "metadata": {
    "collapsed": false
   },
   "outputs": [
    {
     "name": "stdout",
     "output_type": "stream",
     "text": [
      "20676\n"
     ]
    }
   ],
   "source": [
    "threshold = -4.5\n",
    "counts = 0\n",
    "for energy_gene in energy_seqs:\n",
    "    for i,energy in enumerate(energy_gene):\n",
    "        try:\n",
    "#             if energy <= threshold:\n",
    "            if energy <= threshold and energy <= energy_gene[i-1] and energy < energy_gene[i+1]:\n",
    "                counts += 1\n",
    "        except IndexError:\n",
    "            pass\n",
    "print(counts)\n"
   ]
  },
  {
   "cell_type": "code",
   "execution_count": null,
   "metadata": {
    "collapsed": false
   },
   "outputs": [
    {
     "name": "stdout",
     "output_type": "stream",
     "text": [
      "0 \t 3917\n",
      "25040\n",
      "1 \t 3917\n",
      "24891\n",
      "2 \t 3917\n",
      "25188\n",
      "3 \t 3917\n",
      "24985\n",
      "4 \t 3917\n",
      "25067\n",
      "5 \t 3917\n",
      "25205\n",
      "6 \t 3917\n",
      "25037\n",
      "7 \t 3917\n",
      "25152\n",
      "8 \t 3917\n",
      "24984\n",
      "9 \t 3917\n",
      "25103\n",
      "10 \t 3917\n",
      "24996\n",
      "11 \t 3917\n",
      "25084\n",
      "12 \t 3917\n",
      "24942\n",
      "13 \t 3917\n",
      "25031\n",
      "14 \t 3917\n",
      "25061\n",
      "15 \t 3917\n",
      "25110\n",
      "16 \t 3917\n",
      "25246\n",
      "17 \t 3917\n",
      "24958\n",
      "18 \t 3917\n",
      "25002\n",
      "19 \t 3917\n",
      "24868"
     ]
    }
   ],
   "source": [
    "rand_counts = []\n",
    "for randomization in range(100):\n",
    "    rand_energy_seqs = []\n",
    "    for nt_sequence_initial in nt_seqs:\n",
    "        codon_list = [nt_sequence_initial[nt:nt+3] for nt in range(0, len(nt_sequence_initial), 3)]\n",
    "#         ###Expectation if you shuffled all the codons\n",
    "#         np.random.shuffle(codon_list)\n",
    "#         nt_sequence = ''.join(codon_list)\n",
    "#         ###Expectation if you shuffle while preserving primary amino acid sequence\n",
    "        codon_list_rand = shuffle_gene_synonymous(codon_list, aa_to_codons_dict, codon_to_aa_dict)\n",
    "        nt_sequence = ''.join(codon_list_rand)\n",
    "        energy_list = []\n",
    "        for i in range(ignore_first, len(nt_sequence)-len(asd_seq)-ignore_last_x):\n",
    "            fragment = nt_sequence[i:i+len(asd_seq)]\n",
    "            energy = fragment_energy_dict[fragment.replace('T', 'U')]\n",
    "            energy_list.append(energy)\n",
    "        rand_energy_seqs.append(energy_list)\n",
    "    print(randomization, '\\t', len(rand_energy_seqs))\n",
    "    \n",
    "    counts = 0\n",
    "    for energy_gene in rand_energy_seqs:\n",
    "        for i,energy in enumerate(energy_gene):\n",
    "            try:\n",
    "#                 if energy <= threshold:\n",
    "                if energy <= threshold and energy <= energy_gene[i-1] and energy < energy_gene[i+1]:\n",
    "                    counts += 1\n",
    "            except IndexError:\n",
    "                pass\n",
    "    print(counts)\n",
    "    rand_counts.append(counts)"
   ]
  },
  {
   "cell_type": "code",
   "execution_count": 121,
   "metadata": {
    "collapsed": false
   },
   "outputs": [
    {
     "name": "stdout",
     "output_type": "stream",
     "text": [
      "-38.1430659616 0.0\n"
     ]
    }
   ],
   "source": [
    "zscore = (20676-np.mean(rand_counts))/np.std(rand_counts)\n",
    "print(zscore, stats.norm.sf(abs(zscore))*2)"
   ]
  },
  {
   "cell_type": "code",
   "execution_count": null,
   "metadata": {
    "collapsed": true
   },
   "outputs": [],
   "source": [
    "h"
   ]
  }
 ],
 "metadata": {
  "kernelspec": {
   "display_name": "Python 3",
   "language": "python",
   "name": "python3"
  },
  "language_info": {
   "codemirror_mode": {
    "name": "ipython",
    "version": 3
   },
   "file_extension": ".py",
   "mimetype": "text/x-python",
   "name": "python",
   "nbconvert_exporter": "python",
   "pygments_lexer": "ipython3",
   "version": "3.4.5"
  },
  "toc": {
   "colors": {
    "hover_highlight": "#DAA520",
    "navigate_num": "#000000",
    "navigate_text": "#333333",
    "running_highlight": "#FF0000",
    "selected_highlight": "#FFD700",
    "sidebar_border": "#EEEEEE",
    "wrapper_background": "#FFFFFF"
   },
   "moveMenuLeft": true,
   "nav_menu": {
    "height": "12px",
    "width": "252px"
   },
   "navigate_menu": true,
   "number_sections": true,
   "sideBar": true,
   "threshold": 4,
   "toc_cell": false,
   "toc_section_display": "block",
   "toc_window_display": false,
   "widenNotebook": false
  }
 },
 "nbformat": 4,
 "nbformat_minor": 0
}
