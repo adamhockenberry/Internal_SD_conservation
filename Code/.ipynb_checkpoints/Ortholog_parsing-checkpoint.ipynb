{
 "cells": [
  {
   "cell_type": "code",
   "execution_count": 1,
   "metadata": {
    "collapsed": true
   },
   "outputs": [],
   "source": [
    "%matplotlib inline"
   ]
  },
  {
   "cell_type": "code",
   "execution_count": 2,
   "metadata": {
    "collapsed": false
   },
   "outputs": [],
   "source": [
    "import glob\n",
    "from collections import Counter\n",
    "from Bio import SeqIO\n",
    "import pandas as pd\n",
    "from Bio.Data import IUPACData \n",
    "import os.path; os.rename\n",
    "from matplotlib import pyplot as plt"
   ]
  },
  {
   "cell_type": "markdown",
   "metadata": {},
   "source": [
    "# Get relevant genomes and write FAA and FNA files"
   ]
  },
  {
   "cell_type": "code",
   "execution_count": 3,
   "metadata": {
    "collapsed": true
   },
   "outputs": [],
   "source": [
    "def genbank_to_faa_and_fna(genbank_filename, ignore_plasmid=True):\n",
    "    genome_name = genbank_filename.split('/')[-1].rstrip('.PATRIC.gbf')\n",
    "    faa_filename = genbank_filename.replace('gbf', 'faa').replace('GBFs', 'FAAs')\n",
    "    fna_filename = genbank_filename.replace('gbf', 'fna').replace('GBFs', 'FNAs')\n",
    "    \n",
    "    output_handle_faa = open(faa_filename, \"w\")\n",
    "    output_handle_fna = open(fna_filename, \"w\")\n",
    "\n",
    "\n",
    "    for seq_record in SeqIO.parse(genbank_filename, \"genbank\"):\n",
    "        if ignore_plasmid:\n",
    "            if seq_record.description.lower().find('plasmid') != -1:\n",
    "                continue\n",
    "        for seq_feature in seq_record.features[:]: #Use slicing to truncate search for testing purposes\n",
    "            if seq_feature.type==\"CDS\":\n",
    "#                 nt_seq = seq_feature.extract(seq_record)\n",
    "                strand = seq_feature.strand\n",
    "                beg = seq_feature.location.start\n",
    "                end = seq_feature.location.end\n",
    "                if strand == 1:\n",
    "                    nt_seq = seq_record.seq[beg:end]\n",
    "                elif strand == -1:\n",
    "                    nt_seq = seq_record.seq[beg:end].reverse_complement()\n",
    "                else:\n",
    "                    print('catastrophic error')\n",
    "                if len(nt_seq) > 90 and len(nt_seq) % 3 == 0:\n",
    "                    aa_seq = nt_seq.translate()\n",
    "                    aa_seq = aa_seq[:-1]\n",
    "                    nt_seq = nt_seq[:-3]\n",
    "                    if len(set(str(aa_seq)+IUPACData.protein_letters))!= 20:\n",
    "                        continue\n",
    "                    if len(set(str(nt_seq)+IUPACData.unambiguous_dna_letters))!= 4:\n",
    "                        continue\n",
    "                    output_handle_faa.write(\">{}|{}\\n{}\\n\".format(\n",
    "                            seq_feature.qualifiers['locus_tag'][0], \n",
    "                            genome_name, \n",
    "                            str(aa_seq)))\n",
    "                    output_handle_fna.write(\">{}|{}\\n{}\\n\".format(\n",
    "                            seq_feature.qualifiers['locus_tag'][0], \n",
    "                            genome_name, \n",
    "                            str(nt_seq)))\n",
    "\n",
    "    output_handle_faa.close()\n",
    "    output_handle_fna.close()\n",
    "    return"
   ]
  },
  {
   "cell_type": "code",
   "execution_count": 6,
   "metadata": {
    "collapsed": false
   },
   "outputs": [
    {
     "name": "stdout",
     "output_type": "stream",
     "text": [
      "87\n"
     ]
    }
   ],
   "source": [
    "genome_grouping = 'representative'\n",
    "df_rep = pd.read_csv('../../Genome_database/Data/Dataframes/PATRIC_genome_complete_bacteria_{}_taxon.csv'.format(genome_grouping), index_col = 'Genome ID')\n",
    "df_rep = df_rep[(df_rep['order']=='Enterobacterales')  & (df_rep['PATRIC CDS'] > 2000)]\n",
    "print(len(df_rep.index))"
   ]
  },
  {
   "cell_type": "code",
   "execution_count": 8,
   "metadata": {
    "collapsed": false
   },
   "outputs": [
    {
     "name": "stdout",
     "output_type": "stream",
     "text": [
      "15\n"
     ]
    }
   ],
   "source": [
    "genome_grouping = 'reference'\n",
    "df_ref = pd.read_csv('../../Genome_database/Data/Dataframes/PATRIC_genome_complete_bacteria_{}_taxon.csv'.format(genome_grouping), index_col = 'Genome ID')\n",
    "df_ref = df_ref[(df_ref['order']=='Enterobacterales')  & (df_ref['PATRIC CDS'] > 2000)]\n",
    "print(len(df_ref.index))"
   ]
  },
  {
   "cell_type": "code",
   "execution_count": 9,
   "metadata": {
    "collapsed": false
   },
   "outputs": [
    {
     "name": "stdout",
     "output_type": "stream",
     "text": [
      "102\n"
     ]
    }
   ],
   "source": [
    "df = pd.concat([df_rep, df_ref])\n",
    "print(len(df.index))"
   ]
  },
  {
   "cell_type": "code",
   "execution_count": 10,
   "metadata": {
    "collapsed": false
   },
   "outputs": [],
   "source": [
    "# for index in df.index[:]: #Use slicing to truncate data for testing\n",
    "#     genbank_filename = '../../Genome_database/Data/GBFs/{}.PATRIC.gbf'.format(index)\n",
    "#     print(index)\n",
    "#     if os.path.isfile(genbank_filename): \n",
    "#         genbank_to_faa_and_fna(genbank_filename)"
   ]
  },
  {
   "cell_type": "markdown",
   "metadata": {},
   "source": [
    "# Offline: Run reciprocal blast on the amino acid files to find orthologs\n",
    "\n",
    "This code is currently in Code/BASH in reciprocal_blast_all.sh\n",
    "<br />\n",
    "<br />\n",
    "<br />\n",
    "<br />\n",
    "<br />\n",
    "<br />\n",
    "<br />\n",
    "<br />\n",
    "<br />\n",
    "<br />"
   ]
  },
  {
   "cell_type": "markdown",
   "metadata": {},
   "source": [
    "# Push some files around and do some clean-up"
   ]
  },
  {
   "cell_type": "code",
   "execution_count": null,
   "metadata": {
    "collapsed": false
   },
   "outputs": [],
   "source": [
    "for infile in glob.glob('../Data/FAAs/*.faa'):\n",
    "    os.rename(infile, infile.replace('/FAAs/', '/FAAs/Order_Enterobacterales_Representative/'))\n",
    "for infile in glob.glob('../Data/FNAs/*.fna'):\n",
    "    os.rename(infile, infile.replace('/FNAs/', '/FNAs/Order_Enterobacterales_Representative/'))\n",
    "for infile in glob.glob('../Data/Orthologs/*.u8'):\n",
    "    os.rename(infile, infile.replace('/Orthologs/', '/Orthologs/Order_Enterobacterales_Representative/'))"
   ]
  },
  {
   "cell_type": "code",
   "execution_count": null,
   "metadata": {
    "collapsed": false
   },
   "outputs": [],
   "source": [
    "print(len(glob.glob('../Data/FAAs/Order_Enterobacterales_Representative/*.faa')))\n",
    "print(len(glob.glob('../Data/FNAs/Order_Enterobacterales_Representative/*.fna')))\n",
    "print(len(glob.glob('../Data/Orthologs/Order_Enterobacterales_Representative/*.u8')))"
   ]
  },
  {
   "cell_type": "markdown",
   "metadata": {},
   "source": [
    "## Parse through all ortholog files"
   ]
  },
  {
   "cell_type": "code",
   "execution_count": null,
   "metadata": {
    "collapsed": false
   },
   "outputs": [],
   "source": [
    "base_genome = '511145.12'\n",
    "directory_to_read = '../Data/Orthologs/Order_Enterobacterales_Representative/'\n",
    "print(len(glob.glob('../Data/Orthologs/Order_Enterobacterales_Representative/*.u8')))"
   ]
  },
  {
   "cell_type": "code",
   "execution_count": null,
   "metadata": {
    "collapsed": false
   },
   "outputs": [],
   "source": [
    "ecoli_dict = {}\n",
    "comparison_genome_names = []\n",
    "for infile in glob.glob('{}*{}*.u8'.format(directory_to_read, base_genome))[:]:\n",
    "    comparison_genome = infile.split('/')[-1].replace(base_genome, '').replace('_vs_', '').replace('.u8', '')\n",
    "    print('##########')\n",
    "    print(base_genome, comparison_genome)\n",
    "    comparison_genome_names.append(comparison_genome)\n",
    "    if infile.find(base_genome) < infile.find('_vs_'):\n",
    "        base_entry = 0\n",
    "        comparison_entry = 1\n",
    "    elif infile.find(base_genome) > infile.find('_vs_'):\n",
    "        base_entry = 1\n",
    "        comparison_entry = 0\n",
    "    else:\n",
    "        print('Error, investigate')\n",
    "        break\n",
    "    \n",
    "    temp_dict = {}\n",
    "    with open(infile) as blastdata:\n",
    "        for line in blastdata:\n",
    "            split_line = line.split('\\t')\n",
    "            try:\n",
    "                temp_dict[split_line[base_entry]].append((split_line[comparison_entry], float(split_line[2])))    \n",
    "            except KeyError:\n",
    "                temp_dict[split_line[base_entry]] = [(split_line[comparison_entry], float(split_line[2]))]\n",
    "\n",
    "    for i,j in temp_dict.items():\n",
    "        if len(j) == 1:\n",
    "            try:\n",
    "                ecoli_dict[i].append(j[0][0])\n",
    "            except KeyError:\n",
    "                ecoli_dict[i] = [j[0][0]]\n",
    "        elif len(j) > 1:\n",
    "            try:\n",
    "                ecoli_dict[i].append(sorted(j, key=lambda x: x[1])[-1][0])\n",
    "            except KeyError:\n",
    "                ecoli_dict[i] = [sorted(j, key=lambda x: x[1])[-1][0]]"
   ]
  },
  {
   "cell_type": "code",
   "execution_count": null,
   "metadata": {
    "collapsed": false
   },
   "outputs": [],
   "source": [
    "print(len(comparison_genome_names), len(set(comparison_genome_names)))"
   ]
  },
  {
   "cell_type": "code",
   "execution_count": null,
   "metadata": {
    "collapsed": false
   },
   "outputs": [],
   "source": [
    "listy = []\n",
    "for i,j in list(ecoli_dict.items())[:]:\n",
    "    listy.extend([record.split('|')[-1] for record in j])\n",
    "print(Counter(listy))\n",
    "print(len(Counter(listy).keys()))"
   ]
  },
  {
   "cell_type": "markdown",
   "metadata": {},
   "source": [
    "## Use above information to delete genomes with an outlying few number of orthologs before proceeding\n",
    "\n",
    "You MUST go back up and re-run the ecoli_dict code in order to proceed after you delete any genomes"
   ]
  },
  {
   "cell_type": "code",
   "execution_count": null,
   "metadata": {
    "collapsed": false
   },
   "outputs": [],
   "source": [
    "bad_apples = ['572265.5']\n",
    "for bad_apple in bad_apples:\n",
    "    os.remove('../Data/FNAs/Order_Enterobacterales_Representative/{}.PATRIC.fna'.format(bad_apple))\n",
    "    os.remove('../Data/FAAs/Order_Enterobacterales_Representative/{}.PATRIC.faa'.format(bad_apple))\n",
    "    for trash_file in glob.glob('../Data/Orthologs/Order_Enterobacterales_Representative/*{}*.u8'.format(bad_apple)):\n",
    "        os.remove(trash_file)"
   ]
  },
  {
   "cell_type": "markdown",
   "metadata": {},
   "source": [
    "## Figure out how many orthologs we'll have"
   ]
  },
  {
   "cell_type": "code",
   "execution_count": null,
   "metadata": {
    "collapsed": false
   },
   "outputs": [],
   "source": [
    "looking_good = 0\n",
    "for i,j in list(ecoli_dict.items())[:]:\n",
    "    temp_counter = Counter(j)\n",
    "    if len(set(temp_counter.values())) == 1:\n",
    "        if list(set(temp_counter.values()))[0] == 2:\n",
    "            if len(temp_counter.keys()) >= int(0.70 * len(set(comparison_genome_names))): #Tunable paramater HERE\n",
    "                    looking_good += 1\n",
    "#                     print(temp_counter)\n",
    "print(looking_good)"
   ]
  },
  {
   "cell_type": "markdown",
   "metadata": {},
   "source": [
    "## Read all amino acid squences into a giant dictionary"
   ]
  },
  {
   "cell_type": "code",
   "execution_count": null,
   "metadata": {
    "collapsed": false
   },
   "outputs": [],
   "source": [
    "aa_sequence_dict = {}\n",
    "for i in glob.glob('../Data/FAAs/Order_Enterobacterales_Representative/*.faa')[:]:\n",
    "    print(i)\n",
    "    records = SeqIO.parse(i, 'fasta')\n",
    "    for record in records:\n",
    "        aa_sequence_dict[record.description] = str(record.seq)"
   ]
  },
  {
   "cell_type": "markdown",
   "metadata": {},
   "source": [
    "## And create new .fasta files that can be used by MUSCLE"
   ]
  },
  {
   "cell_type": "code",
   "execution_count": null,
   "metadata": {
    "collapsed": false
   },
   "outputs": [],
   "source": [
    "for i,j in list(ecoli_dict.items())[:]:\n",
    "    temp_counter = Counter(j)\n",
    "    if len(set(temp_counter.values())) == 1:\n",
    "        if list(set(temp_counter.values()))[0] == 2:\n",
    "            if len(temp_counter.keys()) >= int(0.70 * len(set(comparison_genome_names))):\n",
    "                with open('../Data/Orthologs/Order_Enterobacterales_Representative/fastas/{}.fasta'.format(i.split('|')[0].strip()), 'w') as outfile:\n",
    "                    outfile.write('>{}\\n{}\\n'.format(i, aa_sequence_dict[i]))\n",
    "                    for ortho in temp_counter.keys():\n",
    "                        outfile.write('>{}\\n{}\\n'.format(ortho, aa_sequence_dict[ortho]))"
   ]
  },
  {
   "cell_type": "markdown",
   "metadata": {},
   "source": [
    "# Offline: Run MUSCLE on the amino acid ortholog files to get .mfastas\n",
    "\n",
    "Look into MAFFT\n",
    "\n",
    "<br />\n",
    "<br />\n",
    "<br />\n",
    "<br />\n",
    "<br />\n",
    "<br />\n",
    "<br />\n",
    "<br />\n",
    "<br />\n",
    "<br />\n",
    "<br />\n"
   ]
  },
  {
   "cell_type": "markdown",
   "metadata": {},
   "source": [
    "# Read and parse (some of) the .mfastas to write concatenated, aligned aa seqs for use in making an amino acid tree for overall topology purposes\n",
    "\n",
    "This is kind of limited by the power of my computer right now. Would love to submit them all to RAxML but it'll take too long"
   ]
  },
  {
   "cell_type": "code",
   "execution_count": null,
   "metadata": {
    "collapsed": false
   },
   "outputs": [],
   "source": [
    "all_files = glob.glob('../Data/FAAs/Order_Enterobacterales_Reference/*.faa')\n",
    "len(all_files)"
   ]
  },
  {
   "cell_type": "code",
   "execution_count": null,
   "metadata": {
    "collapsed": false
   },
   "outputs": [],
   "source": [
    "no_indels = []\n",
    "for i in glob.glob('../Data/Orthologs/Order_Enterobacterales_Reference/mfastas/*.mfasta')[:]:\n",
    "#     print(i)\n",
    "    records = list(SeqIO.parse(i, 'fasta'))\n",
    "    total_indel_locs = []\n",
    "    for record in records:\n",
    "        total_indel_locs.append(str(record.seq).count('-'))\n",
    "    if sum(total_indel_locs) <= 0.00*len(records)*len(records[0].seq) and len(records) == len(all_files):\n",
    "        no_indels.append(i)\n",
    "print(len(no_indels))"
   ]
  },
  {
   "cell_type": "code",
   "execution_count": null,
   "metadata": {
    "collapsed": false
   },
   "outputs": [],
   "source": [
    "full_sequence_dict = {}\n",
    "# for i in glob.glob('../Data/Orthologs/Order_Enterobacterales_Representative/mfastas/*.mfasta')[:]:\n",
    "for i in no_indels[:]:\n",
    "    print(i)\n",
    "    records = SeqIO.parse(i, 'fasta')\n",
    "    for record in records:\n",
    "        try:\n",
    "            full_sequence_dict[record.description.split('|')[-1].strip()] += str(record.seq)\n",
    "        except KeyError:\n",
    "            full_sequence_dict[record.description.split('|')[-1].strip()] = str(record.seq)"
   ]
  },
  {
   "cell_type": "code",
   "execution_count": null,
   "metadata": {
    "collapsed": false
   },
   "outputs": [],
   "source": [
    "len(full_sequence_dict.keys())"
   ]
  },
  {
   "cell_type": "code",
   "execution_count": null,
   "metadata": {
    "collapsed": false
   },
   "outputs": [],
   "source": [
    "with open('../Data/Tree_files/Order_Enterobacterales_Reference/full_aligned_aas_232_seqs.mfasta', 'w') as outfile:\n",
    "    for i,j in full_sequence_dict.items():\n",
    "        outfile.write('>{}\\n{}\\n'.format(i,j))"
   ]
  },
  {
   "cell_type": "markdown",
   "metadata": {},
   "source": [
    "# Offline: Run RAxML on aligned and concatenated aa seqs to make a tree\n",
    "\n",
    "<br />\n",
    "<br />\n",
    "<br />\n",
    "<br />\n",
    "<br />\n",
    "<br />\n",
    "<br />\n",
    "<br />\n",
    "<br />\n",
    "<br />"
   ]
  },
  {
   "cell_type": "markdown",
   "metadata": {},
   "source": [
    "# To run phyloFit to get neutral rates, this will remove branch lenghts from tree topology"
   ]
  },
  {
   "cell_type": "code",
   "execution_count": null,
   "metadata": {
    "collapsed": true
   },
   "outputs": [],
   "source": [
    "from Bio import Phylo"
   ]
  },
  {
   "cell_type": "code",
   "execution_count": null,
   "metadata": {
    "collapsed": false
   },
   "outputs": [],
   "source": [
    "# tree = Phylo.read('../Data/Tree_files/RAxML_bestTree.FIRST100CDS', 'newick')\n",
    "# Phylo.write(tree, '../Data/Tree_files/RAxML_bestTree.FIRST100CDSFLAT', 'newick', plain=True);\n",
    "# tree = Phylo.read('../Data/Tree_files/Order_Enterobacterales_Reference/RAxML_bestTree.ReferenceSet232seqs', 'newick')\n",
    "# Phylo.write(tree, '../Data/Tree_files/Order_Enterobacterales_Reference/RAxML_bestTree.ReferenceSet232seqsFLAT', 'newick', plain=True);\n",
    "tree = Phylo.read('../Data/Tree_files/Order_Enterobacterales_Representative/RAxML_bestTree.RepresentativeSet101seqs', 'newick')\n",
    "Phylo.write(tree, '../Data/Tree_files/Order_Enterobacterales_Representative/RAxML_bestTree.RepresentativeSet101seqsFLAT', 'newick', plain=True);"
   ]
  },
  {
   "cell_type": "markdown",
   "metadata": {},
   "source": [
    "# Next up, take aligned .mfasta files in amino acid form and write their equivalents in nucleotide sequence form\n",
    "\n",
    "### I wrote this pretty quickly and it's important so go back and test this to make behavior is as expected\n",
    "### In particular, see how hard it would be to add S, L and R 4-fold redundant codons into this"
   ]
  },
  {
   "cell_type": "code",
   "execution_count": null,
   "metadata": {
    "collapsed": false
   },
   "outputs": [],
   "source": [
    "nt_seq_dict = {}\n",
    "for genome_file in glob.glob('../Data/FNAs/Order_Enterobacterales_Representative/*.PATRIC.fna'):\n",
    "    genome_name = genome_file.split('/')[-1].strip('.PATRIC.fna')\n",
    "    nt_seq_dict[genome_name] = {}\n",
    "    for record in SeqIO.parse(genome_file, 'fasta'):\n",
    "        nt_seq_dict[genome_name][record.id] = record"
   ]
  },
  {
   "cell_type": "code",
   "execution_count": null,
   "metadata": {
    "collapsed": false
   },
   "outputs": [],
   "source": [
    "len(list(nt_seq_dict.keys()))"
   ]
  },
  {
   "cell_type": "code",
   "execution_count": null,
   "metadata": {
    "collapsed": false
   },
   "outputs": [],
   "source": [
    "redundant_concat_dict = {}\n",
    "for i in nt_seq_dict.keys():\n",
    "    redundant_concat_dict[i] = ''\n",
    "    \n",
    "for infile in glob.glob('../Data/Orthologs/Order_Enterobacterales_Representative/mfastas/*.mfasta')[:]:\n",
    "    print(infile)\n",
    "    aln_pro_seq_list = list(SeqIO.parse(infile, format='fasta'))\n",
    "    all_genomes = list(nt_seq_dict.keys())\n",
    "    with open(infile.replace('mfastas', 'mfastas_nt'), 'w') as outfile:\n",
    "        codon_alns = {}\n",
    "        for i in aln_pro_seq_list:\n",
    "            genome_name = i.description.split('|')[-1]\n",
    "            seq_str = str(nt_seq_dict[genome_name][i.id].seq)\n",
    "            codon_list = [seq_str[nt:nt+3] for nt in range(0, len(seq_str), 3)]\n",
    "            aa_str = str(nt_seq_dict[genome_name][i.id].seq.translate())\n",
    "            codon_list_new = []\n",
    "            minus = 0\n",
    "            for pos,aa in enumerate(str(i.seq).rstrip('-')):\n",
    "                if aa_str[pos-minus] == aa:\n",
    "                    codon_list_new.append(codon_list[pos-minus])\n",
    "                else:\n",
    "                    codon_list_new.append('---')\n",
    "                    minus += 1\n",
    "            for terminal in range(len(str(i.seq)) - len(str(i.seq).rstrip('-'))):\n",
    "                codon_list_new.append('---')\n",
    "            new_nt_seq = ''.join(codon_list_new)\n",
    "            outfile.write('>{}\\n{}\\n'.format(genome_name, new_nt_seq))\n",
    "            all_genomes.remove(genome_name)\n",
    "            codon_alns[genome_name] = codon_list_new\n",
    "        \n",
    "        for genome_name in all_genomes:\n",
    "            outfile.write('>{}\\n{}\\n'.format(genome_name, ''.join(['-' for i in range(len(new_nt_seq))])))\n",
    "            codon_alns[genome_name] = ['---' for i in range(len(codon_list_new))]\n",
    "            \n",
    "        if len(aln_pro_seq_list) >= 1 * len(list(nt_seq_dict.keys())): \n",
    "#             print('testing this one')\n",
    "            hits = 0\n",
    "            total_len = len(aln_pro_seq_list[0].seq)\n",
    "            for i in range(total_len):\n",
    "                idents = []\n",
    "                for aa_align in aln_pro_seq_list:\n",
    "                    idents.append(aa_align.seq[i])\n",
    "#                 print(idents)\n",
    "                if len(set(idents)) == 1 and idents[0] in ['P', 'T', 'A', 'V', 'G']:\n",
    "#                 if idents[0] in ['P', 'T', 'A', 'V', 'G']:\n",
    "                    for genome_name, codon_list in codon_alns.items():\n",
    "                        redundant_concat_dict[genome_name] += codon_list[i][-1]\n",
    "#                         print(codon_list[i])\n",
    "                    hits += 1\n",
    "#             print(hits, total_len)"
   ]
  },
  {
   "cell_type": "code",
   "execution_count": null,
   "metadata": {
    "collapsed": false
   },
   "outputs": [],
   "source": [
    "for infile in glob.glob('../Data/Orthologs/Order_Enterobacterales_Representative/mfastas_nt/*.mfasta')[:10]:\n",
    "    print(infile)\n",
    "    aln_nt_seq_list = list(SeqIO.parse(infile, format='fasta'))\n",
    "    lens = []\n",
    "    for i in aln_nt_seq_list:\n",
    "        lens.append(len(i.seq))\n",
    "    print(len(aln_nt_seq_list), set(lens))"
   ]
  },
  {
   "cell_type": "code",
   "execution_count": null,
   "metadata": {
    "collapsed": false
   },
   "outputs": [],
   "source": [
    "for i, j in redundant_concat_dict.items():\n",
    "    print(len(j))"
   ]
  },
  {
   "cell_type": "code",
   "execution_count": null,
   "metadata": {
    "collapsed": true
   },
   "outputs": [],
   "source": [
    "with open('../Data/Tree_files/Order_Enterobacterales_Representative/redundant_nts_align.fasta', 'w') as outfile:\n",
    "    for key, val in redundant_concat_dict.items():\n",
    "        outfile.write('>{}\\n{}\\n'.format(key, val[:]))"
   ]
  },
  {
   "cell_type": "markdown",
   "metadata": {},
   "source": [
    "# Test that this alignment worked"
   ]
  },
  {
   "cell_type": "code",
   "execution_count": null,
   "metadata": {
    "collapsed": false
   },
   "outputs": [],
   "source": [
    "for infile in glob.glob('../Data/Orthologs/Order_Enterobacterales_Reference/mfastas/*.mfasta')[:]:\n",
    "    aln_pro_seq_list = list(SeqIO.parse(infile, format='fasta'))\n",
    "    aln_nt_seq_list = list(SeqIO.parse(infile.replace('mfastas', 'mfastas_nt'), format='fasta'))\n",
    "    aln_new_nt_seq_list = [i.seq.split('---') for i in aln_nt_seq_list]\n",
    "    aln_new_pro_seq_list = [i.seq.split('-') for i in aln_pro_seq_list]\n",
    "    for i, pro_seqs in enumerate(aln_new_pro_seq_list):\n",
    "        for j, segment in enumerate(pro_seqs):\n",
    "            assert segment == aln_new_nt_seq_list[i][j].translate()"
   ]
  },
  {
   "cell_type": "markdown",
   "metadata": {},
   "source": [
    "# Offline: Run phyloFit to get a neutral model\n",
    "<br/><br/><br/><br/><br/><br/><br/><br/><br/><br/><br/>"
   ]
  },
  {
   "cell_type": "markdown",
   "metadata": {},
   "source": [
    "# Re-write the model file to just a newick tree in order to run GERP program later"
   ]
  },
  {
   "cell_type": "code",
   "execution_count": null,
   "metadata": {
    "collapsed": true
   },
   "outputs": [],
   "source": [
    "# fileloc = './BASH_Scripts/Reference232seqModel.mod'\n",
    "fileloc = './BASH_Scripts/Representative101seqModel.mod'\n",
    "with open(fileloc, 'r') as infile:\n",
    "    text = infile.readlines()\n",
    "    print(text[-1].lstrip('TREE:').strip())\n",
    "    with open(fileloc.replace('.mod', '.newick'), 'w') as outfile:\n",
    "        outfile.write(text[-1].lstrip('TREE:').strip())"
   ]
  },
  {
   "cell_type": "markdown",
   "metadata": {
    "collapsed": false
   },
   "source": [
    "# Offline: Run phylogenetic models on nucleotide data (GERP, PHYLOP (phyloFit first), PHASTCONS, etc.)"
   ]
  },
  {
   "cell_type": "code",
   "execution_count": null,
   "metadata": {
    "collapsed": false
   },
   "outputs": [],
   "source": []
  },
  {
   "cell_type": "code",
   "execution_count": null,
   "metadata": {
    "collapsed": false
   },
   "outputs": [],
   "source": []
  },
  {
   "cell_type": "code",
   "execution_count": null,
   "metadata": {
    "collapsed": true
   },
   "outputs": [],
   "source": []
  },
  {
   "cell_type": "code",
   "execution_count": null,
   "metadata": {
    "collapsed": true
   },
   "outputs": [],
   "source": []
  },
  {
   "cell_type": "code",
   "execution_count": null,
   "metadata": {
    "collapsed": true
   },
   "outputs": [],
   "source": []
  },
  {
   "cell_type": "markdown",
   "metadata": {},
   "source": [
    "# Scratch"
   ]
  },
  {
   "cell_type": "code",
   "execution_count": null,
   "metadata": {
    "collapsed": false
   },
   "outputs": [],
   "source": [
    "\n",
    "#         print('#########')\n",
    "#         print(i.seq[:15])\n",
    "#         print(aa_str[:15])\n",
    "#         print(codon_list_new[:15])\n",
    "#         print(codon_list[:15])\n",
    "\n",
    "#         print(i.seq)\n",
    "#         print(nt_seq_dict[genome_name][i.id].seq)\n",
    "#         print(nt_seq_dict[genome_name][i.id].seq.translate())\n",
    "\n",
    "#     aln_nt_seq_list = []\n",
    "#     for i in aln_pro_seq_list:\n",
    "#         nt_seq_of_interest = nt_seq_dict[i.description.split('|')[-1].strip()][i.id]\n",
    "#         nt_seq_of_interest.seq.alphabet = IUPAC.IUPACUnambiguousDNA()\n",
    "#         aln_nt_seq_list.append(nt_seq_of_interest)"
   ]
  },
  {
   "cell_type": "code",
   "execution_count": null,
   "metadata": {
    "collapsed": true
   },
   "outputs": [],
   "source": []
  },
  {
   "cell_type": "code",
   "execution_count": null,
   "metadata": {
    "collapsed": true
   },
   "outputs": [],
   "source": []
  },
  {
   "cell_type": "code",
   "execution_count": null,
   "metadata": {
    "collapsed": false
   },
   "outputs": [],
   "source": [
    ">>> from Bio.Seq import Seq\n",
    ">>> from Bio.Alphabet import IUPAC\n",
    ">>> coding_dna = Seq(\"ATGGCCATTGTAATGGGCCGCTGAAAGGGTGCCCGATAG\", IUPAC.unambiguous_dna)\n",
    ">>> coding_dna.translate()"
   ]
  },
  {
   "cell_type": "code",
   "execution_count": null,
   "metadata": {
    "collapsed": false
   },
   "outputs": [],
   "source": [
    "coding_dna"
   ]
  },
  {
   "cell_type": "code",
   "execution_count": null,
   "metadata": {
    "collapsed": false
   },
   "outputs": [],
   "source": [
    "nt_seq_dict[genome][i.id].seq.translate()"
   ]
  },
  {
   "cell_type": "code",
   "execution_count": null,
   "metadata": {
    "collapsed": true
   },
   "outputs": [],
   "source": []
  },
  {
   "cell_type": "code",
   "execution_count": null,
   "metadata": {
    "collapsed": true
   },
   "outputs": [],
   "source": []
  },
  {
   "cell_type": "code",
   "execution_count": null,
   "metadata": {
    "collapsed": true
   },
   "outputs": [],
   "source": []
  },
  {
   "cell_type": "code",
   "execution_count": null,
   "metadata": {
    "collapsed": true
   },
   "outputs": [],
   "source": []
  },
  {
   "cell_type": "code",
   "execution_count": null,
   "metadata": {
    "collapsed": true
   },
   "outputs": [],
   "source": []
  },
  {
   "cell_type": "code",
   "execution_count": null,
   "metadata": {
    "collapsed": true
   },
   "outputs": [],
   "source": []
  },
  {
   "cell_type": "code",
   "execution_count": null,
   "metadata": {
    "collapsed": true
   },
   "outputs": [],
   "source": []
  },
  {
   "cell_type": "code",
   "execution_count": null,
   "metadata": {
    "collapsed": true
   },
   "outputs": [],
   "source": []
  },
  {
   "cell_type": "markdown",
   "metadata": {},
   "source": [
    "# testing feature.extract and why it's so terrible"
   ]
  },
  {
   "cell_type": "code",
   "execution_count": null,
   "metadata": {
    "collapsed": false
   },
   "outputs": [],
   "source": [
    "biopython_way = []\n",
    "my_way = []\n",
    "genbank_filename = ('../Data/GBFs/511145.12.PATRIC.gbf')\n",
    "ignore_plasmid=True\n",
    "for seq_record in SeqIO.parse(genbank_filename, \"genbank\"):\n",
    "    if ignore_plasmid:\n",
    "        if seq_record.description.lower().find('plasmid') != -1:\n",
    "            continue\n",
    "    for seq_feature in seq_record.features[:]: #Use slicing to truncate search for testing purposes\n",
    "        if seq_feature.type==\"CDS\":\n",
    "            strand = seq_feature.strand\n",
    "#             print('### {}'.format(strand))\n",
    "            nt_seq = seq_feature.extract(seq_record)\n",
    "#             print('Bioython way:', str(nt_seq.seq)[:3], str(nt_seq.seq)[-3:], len(str(nt_seq.seq)))\n",
    "            beg = seq_feature.location.start\n",
    "            end = seq_feature.location.end\n",
    "            if strand == 1:\n",
    "                my_seq = seq_record.seq[beg:end]\n",
    "            elif strand == -1:\n",
    "                my_seq = seq_record.seq[beg:end].reverse_complement()\n",
    "            else:\n",
    "                print('catastrophic error')\n",
    "#             print('My way:', str(my_seq)[:3], str(my_seq)[-3:], len(str(my_seq)))\n",
    "            biopython_way.append(nt_seq.seq)\n",
    "            my_way.append(my_seq)\n",
    "        \n",
    "\n",
    "\n",
    "\n",
    "\n",
    "            \n",
    "            "
   ]
  },
  {
   "cell_type": "code",
   "execution_count": null,
   "metadata": {
    "collapsed": false
   },
   "outputs": [],
   "source": [
    "len(biopython_way), len(my_way)"
   ]
  },
  {
   "cell_type": "code",
   "execution_count": null,
   "metadata": {
    "collapsed": false
   },
   "outputs": [],
   "source": [
    "biopython_way == my_way"
   ]
  },
  {
   "cell_type": "code",
   "execution_count": null,
   "metadata": {
    "collapsed": false
   },
   "outputs": [],
   "source": [
    "my_way[0][:-3]"
   ]
  },
  {
   "cell_type": "code",
   "execution_count": null,
   "metadata": {
    "collapsed": false
   },
   "outputs": [],
   "source": [
    "genomes_dict = {}\n",
    "for i, a in list(enumerate(df.index))[:]:\n",
    "    if os.path.exists('../Data/GBFs/{}.PATRIC.gbf'.format(a)):\n",
    "        genomes_dict[a] = list(SeqIO.parse('../Data/GBFs/{}.PATRIC.gbf'.format(a), 'genbank'))[0]\n",
    "print('done loading into memory')\n",
    "listy = list(genomes_dict.items())\n",
    "for i, a in enumerate(listy):\n",
    "    print(a[0])\n",
    "    for j, b in list(enumerate(listy))[i+1:]:\n",
    "        if str(a[1].seq) == str(b[1].seq):\n",
    "            print('well fuck me sideways', a[0], b[0])       "
   ]
  },
  {
   "cell_type": "code",
   "execution_count": null,
   "metadata": {
    "collapsed": true
   },
   "outputs": [],
   "source": []
  }
 ],
 "metadata": {
  "kernelspec": {
   "display_name": "Python 3",
   "language": "python",
   "name": "python3"
  },
  "language_info": {
   "codemirror_mode": {
    "name": "ipython",
    "version": 3
   },
   "file_extension": ".py",
   "mimetype": "text/x-python",
   "name": "python",
   "nbconvert_exporter": "python",
   "pygments_lexer": "ipython3",
   "version": "3.4.4"
  },
  "toc": {
   "colors": {
    "hover_highlight": "#DAA520",
    "navigate_num": "#000000",
    "navigate_text": "#333333",
    "running_highlight": "#FF0000",
    "selected_highlight": "#FFD700",
    "sidebar_border": "#EEEEEE",
    "wrapper_background": "#FFFFFF"
   },
   "moveMenuLeft": true,
   "nav_menu": {
    "height": "426px",
    "width": "252px"
   },
   "navigate_menu": true,
   "number_sections": true,
   "sideBar": true,
   "threshold": 4,
   "toc_cell": false,
   "toc_position": {
    "height": "606px",
    "left": "0px",
    "right": "auto",
    "top": "106px",
    "width": "348px"
   },
   "toc_section_display": "block",
   "toc_window_display": false,
   "widenNotebook": false
  }
 },
 "nbformat": 4,
 "nbformat_minor": 0
}
