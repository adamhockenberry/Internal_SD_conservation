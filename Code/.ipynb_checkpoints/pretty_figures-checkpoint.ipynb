{
 "cells": [
  {
   "cell_type": "code",
   "execution_count": 1,
   "metadata": {
    "collapsed": true
   },
   "outputs": [],
   "source": [
    "%matplotlib inline"
   ]
  },
  {
   "cell_type": "code",
   "execution_count": 2,
   "metadata": {
    "collapsed": true
   },
   "outputs": [],
   "source": [
    "import pandas as pd\n",
    "from matplotlib import pyplot as plt"
   ]
  },
  {
   "cell_type": "code",
   "execution_count": 3,
   "metadata": {
    "collapsed": true
   },
   "outputs": [],
   "source": [
    "import matplotlib\n",
    "matplotlib.rcParams['xtick.labelsize'] = 20\n",
    "matplotlib.rcParams['ytick.labelsize'] = 20\n",
    "matplotlib.rcParams['axes.labelsize'] = 20\n",
    "matplotlib.rcParams['axes.titlesize'] = 20\n",
    "\n",
    "matplotlib.rcParams['axes.grid'] = True\n",
    "matplotlib.rcParams['grid.color'] = '0.5'\n",
    "matplotlib.rcParams['grid.linewidth'] = '0.5'\n",
    "\n",
    "matplotlib.rcParams['axes.edgecolor'] = '0.25'\n",
    "matplotlib.rcParams['xtick.color'] = '0'\n",
    "matplotlib.rcParams['ytick.color'] = '0'\n",
    "\n",
    "matplotlib.rcParams['xtick.major.width'] = 2\n",
    "matplotlib.rcParams['ytick.major.width'] = 2\n",
    "matplotlib.rcParams['ytick.major.size'] = 10\n",
    "matplotlib.rcParams['xtick.major.size'] = 10\n",
    "matplotlib.rcParams['axes.spines.right'] = False\n",
    "matplotlib.rcParams['axes.spines.left'] = False\n",
    "matplotlib.rcParams['axes.spines.top'] = False\n",
    "matplotlib.rcParams['axes.spines.bottom'] = False\n",
    "\n",
    "\n",
    "matplotlib.rcParams['font.family'] = 'sans-serif'\n",
    "matplotlib.rcParams['font.weight']='ultralight'\n",
    "# matplotlib.rcParams['font.sans-serif'] = ['Computer Modern Sans Serif']\n",
    "matplotlib.rcParams['axes.axisbelow'] = True"
   ]
  },
  {
   "cell_type": "code",
   "execution_count": 7,
   "metadata": {
    "collapsed": true
   },
   "outputs": [],
   "source": [
    "df_raw = pd.read_csv('../Results/temp_df.csv')\n",
    "df_codon_ratios = pd.read_csv('../Results/temp_df_codon_ratios.csv')\n",
    "df_trint_ratios = pd.read_csv('../Results/temp_df_trint_ratios.csv')"
   ]
  },
  {
   "cell_type": "code",
   "execution_count": 34,
   "metadata": {
    "collapsed": false
   },
   "outputs": [
    {
     "data": {
      "image/png": "[encoded data removed]",
      "text/plain": [
       "<matplotlib.figure.Figure at 0x1089c8518>"
      ]
     },
     "metadata": {},
     "output_type": "display_data"
    }
   ],
   "source": [
    "fig = plt.figure(figsize=(12,6))\n",
    "ax1 = fig.add_subplot(121)\n",
    "columns = ['SDlike', 'CodonControl', 'TriNTControl']\n",
    "plot_data = [df_raw[df_raw[i].isnull()==False][i] for i in columns]\n",
    "ax1.violinplot(plot_data, showextrema=False,  vert=False);\n",
    "\n"
   ]
  },
  {
   "cell_type": "code",
   "execution_count": 19,
   "metadata": {
    "collapsed": false
   },
   "outputs": [
    {
     "data": {
      "text/plain": [
       "0        1.020717\n",
       "1        0.762529\n",
       "2        1.531740\n",
       "3        2.377589\n",
       "4        1.547677\n",
       "5        2.244595\n",
       "6        3.319593\n",
       "7        1.991575\n",
       "8        0.126886\n",
       "9        0.037325\n",
       "10       0.091410\n",
       "11       0.058249\n",
       "12       0.090806\n",
       "13       0.043166\n",
       "14       0.015288\n",
       "15       0.051869\n",
       "16       0.020662\n",
       "17       0.119038\n",
       "18       0.123719\n",
       "19       0.043559\n",
       "20       1.367405\n",
       "21       1.266349\n",
       "22       1.836110\n",
       "23       1.248832\n",
       "24       0.679021\n",
       "25       1.556126\n",
       "26       1.432592\n",
       "27       1.230947\n",
       "28       2.079702\n",
       "29       1.411120\n",
       "           ...   \n",
       "21043    0.977573\n",
       "21044    0.535484\n",
       "21045    1.047818\n",
       "21046    0.589506\n",
       "21047    0.622022\n",
       "21048    0.743841\n",
       "21049    0.697325\n",
       "21050    0.730717\n",
       "21051    0.448527\n",
       "21052    0.685054\n",
       "21053    0.734139\n",
       "21054    0.769138\n",
       "21055    1.124421\n",
       "21056    0.418817\n",
       "21057    0.520502\n",
       "21058    0.503675\n",
       "21059    0.252396\n",
       "21060    0.292108\n",
       "21061    0.746765\n",
       "21062    0.465217\n",
       "21063    0.419562\n",
       "21064    0.698806\n",
       "21065    1.614309\n",
       "21066    1.192770\n",
       "21067    0.620094\n",
       "21068    0.746348\n",
       "21069    0.660872\n",
       "21070    0.373168\n",
       "21071    0.619498\n",
       "21072    0.900307\n",
       "Name: CodonControl, Length: 21073, dtype: float64"
      ]
     },
     "execution_count": 19,
     "metadata": {},
     "output_type": "execute_result"
    }
   ],
   "source": [
    "df_raw['CodonControl']"
   ]
  },
  {
   "cell_type": "code",
   "execution_count": null,
   "metadata": {
    "collapsed": true
   },
   "outputs": [],
   "source": []
  }
 ],
 "metadata": {
  "kernelspec": {
   "display_name": "Python 3",
   "language": "python",
   "name": "python3"
  },
  "language_info": {
   "codemirror_mode": {
    "name": "ipython",
    "version": 3
   },
   "file_extension": ".py",
   "mimetype": "text/x-python",
   "name": "python",
   "nbconvert_exporter": "python",
   "pygments_lexer": "ipython3",
   "version": "3.4.4"
  },
  "toc": {
   "colors": {
    "hover_highlight": "#DAA520",
    "navigate_num": "#000000",
    "navigate_text": "#333333",
    "running_highlight": "#FF0000",
    "selected_highlight": "#FFD700",
    "sidebar_border": "#EEEEEE",
    "wrapper_background": "#FFFFFF"
   },
   "moveMenuLeft": true,
   "nav_menu": {
    "height": "12px",
    "width": "252px"
   },
   "navigate_menu": true,
   "number_sections": true,
   "sideBar": true,
   "threshold": 4,
   "toc_cell": false,
   "toc_section_display": "block",
   "toc_window_display": false,
   "widenNotebook": false
  }
 },
 "nbformat": 4,
 "nbformat_minor": 0
}
